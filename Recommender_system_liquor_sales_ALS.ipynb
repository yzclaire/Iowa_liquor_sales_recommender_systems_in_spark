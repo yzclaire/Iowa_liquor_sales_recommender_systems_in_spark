{
 "cells": [
  {
   "cell_type": "markdown",
   "metadata": {},
   "source": [
    "Project objective : Build recommender systems for product cross-selling opportunity"
   ]
  },
  {
   "cell_type": "markdown",
   "metadata": {},
   "source": [
    "Data Overview:\n",
    "\n",
    "\n",
    "Iowa Liquor Sales Dataset([link](https://data.iowa.gov/Sales-Distribution/Iowa-Liquor-Sales/m3tr-qhgy))\n",
    "\n",
    "The dataset contains alcoholic purchases by liquor stores registered with the Iowa Department of Commerce that were logged in the Commerce department system from January 1, 2012 to current.\n",
    "\n",
    "* Size of Dataset: 5GB\n",
    "* Start Date: 2012-01-01\n",
    "* Update Frequency: Monthly\n",
    "* Row Count: 18,532,158\n",
    "* Variables: Invoice ID, Store Name, Address, County, Item ID, Sales(Dollars), Volume Sold (Liters), Sales (Gallons) etc.\n",
    " "
   ]
  },
  {
   "cell_type": "markdown",
   "metadata": {},
   "source": [
    "#### Import libraries and import data"
   ]
  },
  {
   "cell_type": "code",
   "execution_count": 1,
   "metadata": {},
   "outputs": [
    {
     "data": {
      "text/html": [
       "\n",
       "            <div>\n",
       "                <p><b>SparkSession - hive</b></p>\n",
       "                \n",
       "        <div>\n",
       "            <p><b>SparkContext</b></p>\n",
       "\n",
       "            <p><a href=\"http://cluster-e634-m.c.bigdata2-279203.internal:4040\">Spark UI</a></p>\n",
       "\n",
       "            <dl>\n",
       "              <dt>Version</dt>\n",
       "                <dd><code>v2.3.4</code></dd>\n",
       "              <dt>Master</dt>\n",
       "                <dd><code>yarn</code></dd>\n",
       "              <dt>AppName</dt>\n",
       "                <dd><code>PySparkShell</code></dd>\n",
       "            </dl>\n",
       "        </div>\n",
       "        \n",
       "            </div>\n",
       "        "
      ],
      "text/plain": [
       "<pyspark.sql.session.SparkSession at 0x7fae151f4ad0>"
      ]
     },
     "execution_count": 1,
     "metadata": {},
     "output_type": "execute_result"
    }
   ],
   "source": [
    "spark"
   ]
  },
  {
   "cell_type": "code",
   "execution_count": 2,
   "metadata": {},
   "outputs": [],
   "source": [
    "from pyspark.sql import SparkSession\n",
    "from pyspark.sql.functions import col, unix_timestamp, month, year, date_format, date_sub, to_date, date_add, lag,  dayofweek, dayofmonth, dayofyear, dayofweek\n",
    "import pandas as pd\n",
    "import numpy as np\n",
    "from pyspark.sql.functions import approxCountDistinct\n",
    "from pyspark.sql import functions as F\n",
    "from pyspark.sql.functions import lit\n",
    "from pyspark.sql.types import DateType, IntegerType,NumericType\n",
    "from pyspark.ml.feature import QuantileDiscretizer\n",
    "from pyspark.ml.feature import Bucketizer\n",
    "from pyspark.ml.recommendation import ALS\n",
    "from pyspark.ml.evaluation import RegressionEvaluator\n",
    "from pyspark.ml import Pipeline\n",
    "from pyspark.ml.classification import LogisticRegression\n",
    "from pyspark.ml.evaluation import BinaryClassificationEvaluator\n",
    "from pyspark.ml.feature import HashingTF, Tokenizer\n",
    "from pyspark.ml.tuning import CrossValidator, ParamGridBuilder,CrossValidatorModel\n",
    "\n",
    "import matplotlib.pyplot as plt\n",
    "%matplotlib inline"
   ]
  },
  {
   "cell_type": "code",
   "execution_count": 3,
   "metadata": {},
   "outputs": [],
   "source": [
    "spark = SparkSession.builder.appName('LiquorSales').getOrCreate()"
   ]
  },
  {
   "cell_type": "code",
   "execution_count": 4,
   "metadata": {},
   "outputs": [],
   "source": [
    "df = spark.read.csv('gs://bigdata2_data/liquor_sales', inferSchema=True, header=True)"
   ]
  },
  {
   "cell_type": "code",
   "execution_count": 5,
   "metadata": {},
   "outputs": [
    {
     "data": {
      "text/plain": [
       "18532158"
      ]
     },
     "execution_count": 5,
     "metadata": {},
     "output_type": "execute_result"
    }
   ],
   "source": [
    "df.count()"
   ]
  },
  {
   "cell_type": "code",
   "execution_count": 6,
   "metadata": {},
   "outputs": [
    {
     "data": {
      "text/plain": [
       "[('Invoice/Item Number', 'string'),\n",
       " ('Date', 'string'),\n",
       " ('Store Number', 'int'),\n",
       " ('Store Name', 'string'),\n",
       " ('Address', 'string'),\n",
       " ('City', 'string'),\n",
       " ('Zip Code', 'string'),\n",
       " ('Store Location', 'string'),\n",
       " ('County Number', 'int'),\n",
       " ('County', 'string'),\n",
       " ('Category', 'int'),\n",
       " ('Category Name', 'string'),\n",
       " ('Vendor Number', 'int'),\n",
       " ('Vendor Name', 'string'),\n",
       " ('Item Number', 'string'),\n",
       " ('Item Description', 'string'),\n",
       " ('Pack', 'int'),\n",
       " ('Bottle Volume (ml)', 'int'),\n",
       " ('State Bottle Cost', 'double'),\n",
       " ('State Bottle Retail', 'double'),\n",
       " ('Bottles Sold', 'int'),\n",
       " ('Sale (Dollars)', 'double'),\n",
       " ('Volume Sold (Liters)', 'double'),\n",
       " ('Volume Sold (Gallons)', 'double')]"
      ]
     },
     "execution_count": 6,
     "metadata": {},
     "output_type": "execute_result"
    }
   ],
   "source": [
    "df.dtypes"
   ]
  },
  {
   "cell_type": "code",
   "execution_count": 7,
   "metadata": {},
   "outputs": [
    {
     "name": "stdout",
     "output_type": "stream",
     "text": [
      "root\n",
      " |-- Invoice/Item Number: string (nullable = true)\n",
      " |-- Date: string (nullable = true)\n",
      " |-- Store Number: integer (nullable = true)\n",
      " |-- Store Name: string (nullable = true)\n",
      " |-- Address: string (nullable = true)\n",
      " |-- City: string (nullable = true)\n",
      " |-- Zip Code: string (nullable = true)\n",
      " |-- Store Location: string (nullable = true)\n",
      " |-- County Number: integer (nullable = true)\n",
      " |-- County: string (nullable = true)\n",
      " |-- Category: integer (nullable = true)\n",
      " |-- Category Name: string (nullable = true)\n",
      " |-- Vendor Number: integer (nullable = true)\n",
      " |-- Vendor Name: string (nullable = true)\n",
      " |-- Item Number: string (nullable = true)\n",
      " |-- Item Description: string (nullable = true)\n",
      " |-- Pack: integer (nullable = true)\n",
      " |-- Bottle Volume (ml): integer (nullable = true)\n",
      " |-- State Bottle Cost: double (nullable = true)\n",
      " |-- State Bottle Retail: double (nullable = true)\n",
      " |-- Bottles Sold: integer (nullable = true)\n",
      " |-- Sale (Dollars): double (nullable = true)\n",
      " |-- Volume Sold (Liters): double (nullable = true)\n",
      " |-- Volume Sold (Gallons): double (nullable = true)\n",
      "\n"
     ]
    }
   ],
   "source": [
    "df.printSchema()"
   ]
  },
  {
   "cell_type": "code",
   "execution_count": 8,
   "metadata": {},
   "outputs": [
    {
     "name": "stdout",
     "output_type": "stream",
     "text": [
      "+-------------------+----------+------------+--------------------+-------------------+------------+--------+--------------------+-------------+----------+--------+-----------------+-------------+--------------------+-----------+--------------------+----+------------------+-----------------+-------------------+------------+--------------+--------------------+---------------------+\n",
      "|Invoice/Item Number|      Date|Store Number|          Store Name|            Address|        City|Zip Code|      Store Location|County Number|    County|Category|    Category Name|Vendor Number|         Vendor Name|Item Number|    Item Description|Pack|Bottle Volume (ml)|State Bottle Cost|State Bottle Retail|Bottles Sold|Sale (Dollars)|Volume Sold (Liters)|Volume Sold (Gallons)|\n",
      "+-------------------+----------+------------+--------------------+-------------------+------------+--------+--------------------+-------------+----------+--------+-----------------+-------------+--------------------+-----------+--------------------+----+------------------+-----------------+-------------------+------------+--------------+--------------------+---------------------+\n",
      "|    INV-05539600037|06/15/2017|        2544|Hy-Vee Food Store...|   802 South Center|Marshalltown|   50158|POINT (-92.912817...|           64|  MARSHALL| 1011100| Blended Whiskies|          434|           LUXCO INC|      23277|Calvert Extra Bl ...|  12|              1000|             6.88|              10.32|          12|        123.84|                12.0|                 3.17|\n",
      "|    INV-05532600011|06/15/2017|        4988|Happy's Wine & Sp...|5925 University Ave| Cedar Falls|   50613|POINT (-92.429331...|            7|BLACK HAWK| 1081600|  Whiskey Liqueur|          421|SAZERAC COMPANY  INC|      64866|Fireball Cinnamon...|  12|               750|              9.0|               13.5|          12|        161.64|                 9.0|                 2.38|\n",
      "|    INV-05494700021|06/13/2017|        4265|Kwik Stop 3 / Wat...| 1104 Washington St|    Waterloo|   50702|POINT (-92.336965...|            7|BLACK HAWK| 1051100|American Brandies|          115|CONSTELLATION BRA...|      52199|Paul Masson Grand...|  48|               100|              1.0|                1.5|          48|          72.0|                 4.8|                 1.27|\n",
      "+-------------------+----------+------------+--------------------+-------------------+------------+--------+--------------------+-------------+----------+--------+-----------------+-------------+--------------------+-----------+--------------------+----+------------------+-----------------+-------------------+------------+--------------+--------------------+---------------------+\n",
      "only showing top 3 rows\n",
      "\n"
     ]
    }
   ],
   "source": [
    "df.show(3)"
   ]
  },
  {
   "cell_type": "markdown",
   "metadata": {},
   "source": [
    "Let's look at how many liquor stores in Iowa"
   ]
  },
  {
   "cell_type": "code",
   "execution_count": 9,
   "metadata": {},
   "outputs": [
    {
     "name": "stdout",
     "output_type": "stream",
     "text": [
      "+------------+--------------------+\n",
      "|Store Number|          Store Name|\n",
      "+------------+--------------------+\n",
      "|        4405|KUM & GO #92 / AN...|\n",
      "|        4726|Walgreens #07454 ...|\n",
      "|        3056|Clarion Super Val...|\n",
      "|        9002|Mississippi River...|\n",
      "|        4909|Pump N Pak Rock V...|\n",
      "+------------+--------------------+\n",
      "only showing top 5 rows\n",
      "\n"
     ]
    }
   ],
   "source": [
    "df.select([\"Store Number\",\"Store Name\"]).dropDuplicates().show(5)"
   ]
  },
  {
   "cell_type": "code",
   "execution_count": 10,
   "metadata": {},
   "outputs": [
    {
     "data": {
      "text/plain": [
       "2528"
      ]
     },
     "execution_count": 10,
     "metadata": {},
     "output_type": "execute_result"
    }
   ],
   "source": [
    "df.select(\"Store Name\").distinct().count()"
   ]
  },
  {
   "cell_type": "code",
   "execution_count": 11,
   "metadata": {},
   "outputs": [
    {
     "data": {
      "text/plain": [
       "2379"
      ]
     },
     "execution_count": 11,
     "metadata": {},
     "output_type": "execute_result"
    }
   ],
   "source": [
    "df.select(\"Store Number\").distinct().count()"
   ]
  },
  {
   "cell_type": "markdown",
   "metadata": {},
   "source": [
    "The number of unique store number and store name are not equal, indicating there are might be some typos in the store names or name changed for some stores. In the following analysis, we are using store number as the unique identifier. And we will use a lookup table, Lowa_liquor_stores (sourced from City of Lowa website) to look up store names."
   ]
  },
  {
   "cell_type": "markdown",
   "metadata": {},
   "source": [
    "### Data preprocessing\n",
    "\n",
    "* Feature engineering\n",
    "* Data Cleaning"
   ]
  },
  {
   "cell_type": "markdown",
   "metadata": {},
   "source": [
    "#### Extract date, month year from date"
   ]
  },
  {
   "cell_type": "code",
   "execution_count": 6,
   "metadata": {},
   "outputs": [],
   "source": [
    "df=df.withColumn('Date',\n",
    "                  unix_timestamp(col('Date'), \"MM/dd/yyyy\").cast(\"timestamp\"))\n",
    "# add the month column \n",
    "df = df.withColumn('month', month(df['Date']))\n",
    "# add the year column \n",
    "df = df.withColumn('year', year(df['Date']))\n",
    "# add a week_day column \n",
    "df = df.withColumn(\"week_day\", dayofweek(df['Date']))\\\n",
    ".withColumn(\"DayofMonth\",dayofmonth(df['Date']))\\\n",
    ".withColumn(\"DayofYear\", dayofyear(df['Date']))"
   ]
  },
  {
   "cell_type": "code",
   "execution_count": 7,
   "metadata": {},
   "outputs": [],
   "source": [
    "# add a column of 1's\n",
    "df= df.withColumn(\"Number of Sale\",lit(1))"
   ]
  },
  {
   "cell_type": "markdown",
   "metadata": {},
   "source": [
    "\n"
   ]
  },
  {
   "cell_type": "markdown",
   "metadata": {},
   "source": [
    "#### Normalize cleaned liquor type\n",
    "\n",
    "This step to normalize text data for liquor category and store name"
   ]
  },
  {
   "cell_type": "code",
   "execution_count": 8,
   "metadata": {},
   "outputs": [],
   "source": [
    "# read in updated categories file\n",
    "liquor_categories = spark.read.csv('gs://bigdata2_data/liquor_categories.csv', header=True)"
   ]
  },
  {
   "cell_type": "code",
   "execution_count": 9,
   "metadata": {},
   "outputs": [
    {
     "name": "stdout",
     "output_type": "stream",
     "text": [
      "+--------------------+--------------------+-----------+\n",
      "|       Category Name| Category Name Clean|Liquor Type|\n",
      "+--------------------+--------------------+-----------+\n",
      "|     100 PROOF VODKA|     100 Proof Vodka|      Vodka|\n",
      "|  100% Agave Tequila|  100% Agave Tequila|    Tequila|\n",
      "|       Aged Dark Rum|       Aged Dark Rum|        Rum|\n",
      "| AMARETTO - IMPORTED| Amaretto - Imported|     Spirit|\n",
      "|    AMERICAN ALCOHOL|    American Alcohol|      Other|\n",
      "|   AMERICAN AMARETTO|   Imported Amaretto|     Spirit|\n",
      "|   American Brandies|     American Brandy|     Brandy|\n",
      "|  AMERICAN COCKTAILS|   American Cocktail|      Other|\n",
      "|American Cordials...|American Cordials...|     Spirit|\n",
      "|American Cordials...|American Cordials...|     Spirit|\n",
      "|American Distille...|American Distille...|     Spirit|\n",
      "|American Distille...|American Distille...|     Spirit|\n",
      "|   AMERICAN DRY GINS|    American Dry Gin|        Gin|\n",
      "|   American Dry Gins|    American Dry Gin|        Gin|\n",
      "|American Flavored...|American Flavored...|      Vodka|\n",
      "|AMERICAN GRAPE BR...|American Grape Br...|     Brandy|\n",
      "|   American Schnapps|   American Schnapps|     Spirit|\n",
      "|  American Sloe Gins|   American Sloe Gin|        Gin|\n",
      "|  AMERICAN SLOE GINS|   American Sloe Gin|        Gin|\n",
      "|      American Vodka|      American Vodka|      Vodka|\n",
      "+--------------------+--------------------+-----------+\n",
      "only showing top 20 rows\n",
      "\n"
     ]
    }
   ],
   "source": [
    "liquor_categories.show()"
   ]
  },
  {
   "cell_type": "code",
   "execution_count": 10,
   "metadata": {},
   "outputs": [],
   "source": [
    "# join categories to sales data\n",
    "df = df.join(liquor_categories,df['Category Name'] == liquor_categories['Category Name'],how='left')"
   ]
  },
  {
   "cell_type": "markdown",
   "metadata": {},
   "source": [
    "#### Normalize liquor store "
   ]
  },
  {
   "cell_type": "code",
   "execution_count": 11,
   "metadata": {},
   "outputs": [],
   "source": [
    "# read in liquor store lookup tables\n",
    "liquor_store_clean = spark.read.csv('gs://bigdata2_data/Iowa_Liquor_Stores.csv', header=True)"
   ]
  },
  {
   "cell_type": "code",
   "execution_count": 12,
   "metadata": {},
   "outputs": [
    {
     "name": "stdout",
     "output_type": "stream",
     "text": [
      "+-----+--------------------+------------+--------------------+------------+-----+--------+--------------------+-----------+\n",
      "|Store|                Name|Store Status|             Address|        City|State|Zip Code|       Store Address|Report Date|\n",
      "+-----+--------------------+------------+--------------------+------------+-----+--------+--------------------+-----------+\n",
      "| 2538|Hy-Vee Food Store...|           A|    1422 Flammang Dr|    Waterloo|   IA|   50702|POINT (-92.327917...| 04/01/2020|\n",
      "| 3968|       Monroe Liquor|           I|105 W Sherman Po ...|      Monroe|   IA|   50170|                null| 04/01/2020|\n",
      "| 4176|     Todds On The Go|           I|  235 Edgewood Rd NE|Cedar Rapids|   IA|   52405|                null| 04/01/2020|\n",
      "| 4410|Kum & Go #203 / P...|           I|         1219 1st St|       Perry|   IA|   50220|                null| 04/01/2020|\n",
      "| 4502|Neighborhood Mart...|           I|  2100, Lafayette St|    Waterloo|   IA|   50703|POINT (-92.313972...| 04/01/2020|\n",
      "+-----+--------------------+------------+--------------------+------------+-----+--------+--------------------+-----------+\n",
      "only showing top 5 rows\n",
      "\n"
     ]
    }
   ],
   "source": [
    "liquor_store_clean.show(5)"
   ]
  },
  {
   "cell_type": "code",
   "execution_count": 13,
   "metadata": {},
   "outputs": [
    {
     "name": "stdout",
     "output_type": "stream",
     "text": [
      "root\n",
      " |-- Store: string (nullable = true)\n",
      " |-- Name: string (nullable = true)\n",
      " |-- Store Status: string (nullable = true)\n",
      " |-- Address: string (nullable = true)\n",
      " |-- City: string (nullable = true)\n",
      " |-- State: string (nullable = true)\n",
      " |-- Zip Code: string (nullable = true)\n",
      " |-- Store Address: string (nullable = true)\n",
      " |-- Report Date: string (nullable = true)\n",
      "\n"
     ]
    }
   ],
   "source": [
    "liquor_store_clean.printSchema()"
   ]
  },
  {
   "cell_type": "code",
   "execution_count": 14,
   "metadata": {},
   "outputs": [],
   "source": [
    "# Update Store column to integertype for later modeling purpose\n",
    "liquor_store_clean = liquor_store_clean.withColumn(\"Store\", liquor_store_clean[\"Store\"].cast(IntegerType()))"
   ]
  },
  {
   "cell_type": "code",
   "execution_count": 15,
   "metadata": {},
   "outputs": [],
   "source": [
    "# join categories to sales data\n",
    "df = df.join(liquor_store_clean,df['Store Number'] == liquor_store_clean['Store'],how='left')\n"
   ]
  },
  {
   "cell_type": "code",
   "execution_count": 20,
   "metadata": {},
   "outputs": [
    {
     "data": {
      "text/plain": [
       "['Invoice/Item Number',\n",
       " 'Date',\n",
       " 'Store Number',\n",
       " 'Store Name',\n",
       " 'Address',\n",
       " 'City',\n",
       " 'Zip Code',\n",
       " 'Store Location',\n",
       " 'County Number',\n",
       " 'County',\n",
       " 'Category',\n",
       " 'Category Name',\n",
       " 'Vendor Number',\n",
       " 'Vendor Name',\n",
       " 'Item Number',\n",
       " 'Item Description',\n",
       " 'Pack',\n",
       " 'Bottle Volume (ml)',\n",
       " 'State Bottle Cost',\n",
       " 'State Bottle Retail',\n",
       " 'Bottles Sold',\n",
       " 'Sale (Dollars)',\n",
       " 'Volume Sold (Liters)',\n",
       " 'Volume Sold (Gallons)',\n",
       " 'month',\n",
       " 'year',\n",
       " 'week_day',\n",
       " 'DayofMonth',\n",
       " 'DayofYear',\n",
       " 'Number of Sale',\n",
       " 'Category Name',\n",
       " 'Category Name Clean',\n",
       " 'Liquor Type',\n",
       " 'Store',\n",
       " 'Name',\n",
       " 'Store Status',\n",
       " 'Address',\n",
       " 'City',\n",
       " 'State',\n",
       " 'Zip Code',\n",
       " 'Store Address',\n",
       " 'Report Date']"
      ]
     },
     "execution_count": 20,
     "metadata": {},
     "output_type": "execute_result"
    }
   ],
   "source": [
    "df.columns"
   ]
  },
  {
   "cell_type": "code",
   "execution_count": 21,
   "metadata": {},
   "outputs": [
    {
     "name": "stdout",
     "output_type": "stream",
     "text": [
      "+-------------------+-------------------+------------+--------------------+-------------------+------------+--------+--------------------+-------------+----------+--------+----------------+-------------+--------------------+-----------+--------------------+----+------------------+-----------------+-------------------+------------+--------------+--------------------+---------------------+-----+----+--------+----------+---------+--------------+----------------+-------------------+-----------+-----+--------------------+------------+-------------------+------------+-----+--------+--------------------+-----------+\n",
      "|Invoice/Item Number|               Date|Store Number|          Store Name|            Address|        City|Zip Code|      Store Location|County Number|    County|Category|   Category Name|Vendor Number|         Vendor Name|Item Number|    Item Description|Pack|Bottle Volume (ml)|State Bottle Cost|State Bottle Retail|Bottles Sold|Sale (Dollars)|Volume Sold (Liters)|Volume Sold (Gallons)|month|year|week_day|DayofMonth|DayofYear|Number of Sale|   Category Name|Category Name Clean|Liquor Type|Store|                Name|Store Status|            Address|        City|State|Zip Code|       Store Address|Report Date|\n",
      "+-------------------+-------------------+------------+--------------------+-------------------+------------+--------+--------------------+-------------+----------+--------+----------------+-------------+--------------------+-----------+--------------------+----+------------------+-----------------+-------------------+------------+--------------+--------------------+---------------------+-----+----+--------+----------+---------+--------------+----------------+-------------------+-----------+-----+--------------------+------------+-------------------+------------+-----+--------+--------------------+-----------+\n",
      "|    INV-05539600037|2017-06-15 00:00:00|        2544|Hy-Vee Food Store...|   802 South Center|Marshalltown|   50158|POINT (-92.912817...|           64|  MARSHALL| 1011100|Blended Whiskies|          434|           LUXCO INC|      23277|Calvert Extra Bl ...|  12|              1000|             6.88|              10.32|          12|        123.84|                12.0|                 3.17|    6|2017|       5|        15|      166|             1|Blended Whiskies|    Blended Whiskey|    Whiskey| 2544|Hy-Vee Food Store...|           A|   802 South Center|Marshalltown|   IA|   50158|POINT (-92.912817...| 04/01/2020|\n",
      "|    INV-05532600011|2017-06-15 00:00:00|        4988|Happy's Wine & Sp...|5925 University Ave| Cedar Falls|   50613|POINT (-92.429331...|            7|BLACK HAWK| 1081600| Whiskey Liqueur|          421|SAZERAC COMPANY  INC|      64866|Fireball Cinnamon...|  12|               750|              9.0|               13.5|          12|        161.64|                 9.0|                 2.38|    6|2017|       5|        15|      166|             1| Whiskey Liqueur|    Whiskey Liqueur|     Spirit| 4988|Happy's Wine & Sp...|           A|5925 University Ave| Cedar Falls|   IA|   50613|POINT (-92.429331...| 04/01/2020|\n",
      "+-------------------+-------------------+------------+--------------------+-------------------+------------+--------+--------------------+-------------+----------+--------+----------------+-------------+--------------------+-----------+--------------------+----+------------------+-----------------+-------------------+------------+--------------+--------------------+---------------------+-----+----+--------+----------+---------+--------------+----------------+-------------------+-----------+-----+--------------------+------------+-------------------+------------+-----+--------+--------------------+-----------+\n",
      "only showing top 2 rows\n",
      "\n"
     ]
    }
   ],
   "source": [
    "df.show(2)"
   ]
  },
  {
   "cell_type": "markdown",
   "metadata": {},
   "source": [
    "#### Infer Ratings of liquor product by each liquor Store\n",
    "\n",
    "As we need a rating feature for the ALS model, we are going to use the sales(in dollars) for a liquor product as a percentage of total sales for that store to infer the rating of product by the store. The more a liquor store order a specific product, the more likely a store like that product. \n",
    "We added a calculated column Perc_of_store_total_salewe calculate the percentage of sales from that liquor item out of the total sales by the store"
   ]
  },
  {
   "cell_type": "code",
   "execution_count": 16,
   "metadata": {},
   "outputs": [],
   "source": [
    "# Calculate the most popular liqour item for each store\n",
    "sale_by_store_item = df.groupBy(\"Store\", \"Item Number\").sum(\"Sale (Dollars)\")"
   ]
  },
  {
   "cell_type": "code",
   "execution_count": 17,
   "metadata": {},
   "outputs": [],
   "source": [
    "# calculate total sales in dallors for each store\n",
    "sales_by_store = df.groupBy(\"Store\").sum(\"Sale (Dollars)\")"
   ]
  },
  {
   "cell_type": "code",
   "execution_count": 18,
   "metadata": {},
   "outputs": [],
   "source": [
    "# rename columns\n",
    "sales_by_store = sales_by_store.withColumnRenamed(\"sum(Sale (Dollars))\", \"store_total_sale_dollars\")"
   ]
  },
  {
   "cell_type": "code",
   "execution_count": 19,
   "metadata": {},
   "outputs": [],
   "source": [
    "# Rename columns\n",
    "sales_by_store = sales_by_store.withColumnRenamed(\"Store\", \"store_num\")"
   ]
  },
  {
   "cell_type": "code",
   "execution_count": 20,
   "metadata": {},
   "outputs": [],
   "source": [
    "# join two tables\n",
    "sale_by_store_by_item = sale_by_store_item.alias(\"a\").join(sales_by_store\\\n",
    "                     .alias(\"b\"),sale_by_store_item['Store'] == sales_by_store['store_num'],how='left')"
   ]
  },
  {
   "cell_type": "markdown",
   "metadata": {},
   "source": [
    "**Here we created a table to group sales in dollars for each store and further for each items. We also calulated the total sales in dollars for all transactions of each store. Then we left-joined table 1 by table 2.**\n",
    "\n",
    "- sum(Sale (Dollars)): Total cost of ordering the specific liquor product(Item Number*) for that store (store_num)\n",
    "- store_total_sale_dollars : Total cost of liquor orders for all past transactions store_num\n",
    "\n",
    "*The sales in dollars means the cost of ordering that liquor products liquor store"
   ]
  },
  {
   "cell_type": "code",
   "execution_count": 21,
   "metadata": {},
   "outputs": [
    {
     "name": "stdout",
     "output_type": "stream",
     "text": [
      "+-----+-----------+-------------------+---------+------------------------+\n",
      "|Store|Item Number|sum(Sale (Dollars))|store_num|store_total_sale_dollars|\n",
      "+-----+-----------+-------------------+---------+------------------------+\n",
      "| 2659|      34433|  4931.760000000001|     2659|               131108.44|\n",
      "| 2659|      75214|              450.0|     2659|               131108.44|\n",
      "| 2659|      27292|             138.06|     2659|               131108.44|\n",
      "| 2659|      41989|  618.6400000000001|     2659|               131108.44|\n",
      "| 2659|      88540|             236.16|     2659|               131108.44|\n",
      "+-----+-----------+-------------------+---------+------------------------+\n",
      "only showing top 5 rows\n",
      "\n"
     ]
    }
   ],
   "source": [
    "sale_by_store_by_item.show(5)"
   ]
  },
  {
   "cell_type": "markdown",
   "metadata": {},
   "source": [
    "**Perc_of_store_total_sale : percentage of sales generated from each liquor item (Item Number) for that specific store(store_num). We will use this column as the \"rating\" by a store towards a liquor item.**"
   ]
  },
  {
   "cell_type": "code",
   "execution_count": 22,
   "metadata": {},
   "outputs": [],
   "source": [
    "sale_by_store_by_item = sale_by_store_by_item.withColumn(\"perc_of_store_total_sale\", \n",
    "                                                         sale_by_store_by_item[\"sum(Sale (Dollars))\"]/ sale_by_store_by_item[\"store_total_sale_dollars\"] )"
   ]
  },
  {
   "cell_type": "code",
   "execution_count": 23,
   "metadata": {},
   "outputs": [
    {
     "name": "stdout",
     "output_type": "stream",
     "text": [
      "+-----+-----------+-------------------+---------+------------------------+------------------------+\n",
      "|Store|Item Number|sum(Sale (Dollars))|store_num|store_total_sale_dollars|perc_of_store_total_sale|\n",
      "+-----+-----------+-------------------+---------+------------------------+------------------------+\n",
      "| 2659|      57148| 1331.9700000000003|     2659|      131108.44000000003|    0.010159300194556506|\n",
      "| 2659|      34006|            2400.99|     2659|      131108.44000000003|     0.01831300868197348|\n",
      "+-----+-----------+-------------------+---------+------------------------+------------------------+\n",
      "only showing top 2 rows\n",
      "\n"
     ]
    }
   ],
   "source": [
    "sale_by_store_by_item.show(2)"
   ]
  },
  {
   "cell_type": "code",
   "execution_count": 24,
   "metadata": {},
   "outputs": [
    {
     "name": "stdout",
     "output_type": "stream",
     "text": [
      "+-----+-----------+-------------------+---------+------------------------+------------------------+\n",
      "|Store|Item Number|sum(Sale (Dollars))|store_num|store_total_sale_dollars|perc_of_store_total_sale|\n",
      "+-----+-----------+-------------------+---------+------------------------+------------------------+\n",
      "| 2659|      11776|  6132.839999999998|     2659|               131108.44|    0.046776851284326154|\n",
      "| 2659|      34433|            4931.76|     2659|               131108.44|     0.03761588498802976|\n",
      "| 2659|      11788|            4882.56|     2659|               131108.44|     0.03724062310557581|\n",
      "+-----+-----------+-------------------+---------+------------------------+------------------------+\n",
      "only showing top 3 rows\n",
      "\n"
     ]
    }
   ],
   "source": [
    "# For example, here are the top 3 liquor items in sales for store_num 2659 \n",
    "sale_by_store_by_item.filter(sale_by_store_by_item.store_num == 2659).sort('perc_of_store_total_sale',ascending=False)\\\n",
    ".show(3)"
   ]
  },
  {
   "cell_type": "code",
   "execution_count": 25,
   "metadata": {},
   "outputs": [],
   "source": [
    "from pyspark.sql.functions import *\n",
    "from pyspark.sql.window import Window\n",
    "\n",
    "#For each store, we can rank liquor items from most popular to least based on sales in dolloars \n",
    "ranked =  sale_by_store_by_item.withColumn(\"rank\", dense_rank().over(Window.partitionBy(\"store_num\").orderBy(desc(\"perc_of_store_total_sale\"))))"
   ]
  },
  {
   "cell_type": "code",
   "execution_count": 26,
   "metadata": {},
   "outputs": [
    {
     "name": "stdout",
     "output_type": "stream",
     "text": [
      "+-----+-----------+-------------------+---------+------------------------+------------------------+----+\n",
      "|Store|Item Number|sum(Sale (Dollars))|store_num|store_total_sale_dollars|perc_of_store_total_sale|rank|\n",
      "+-----+-----------+-------------------+---------+------------------------+------------------------+----+\n",
      "| 2659|      11776|            6132.84|     2659|               131108.44|     0.04677685128432617|   1|\n",
      "| 2659|      34433|            4931.76|     2659|               131108.44|     0.03761588498802976|   2|\n",
      "| 2659|      11788|            4882.56|     2659|               131108.44|     0.03724062310557581|   3|\n",
      "| 2659|      25608|  4727.400000000001|     2659|               131108.44|     0.03605717526651984|   4|\n",
      "| 2659|      37998|             4516.2|     2659|               131108.44|     0.03444629499061998|   5|\n",
      "+-----+-----------+-------------------+---------+------------------------+------------------------+----+\n",
      "only showing top 5 rows\n",
      "\n"
     ]
    }
   ],
   "source": [
    "ranked.show(5)"
   ]
  },
  {
   "cell_type": "markdown",
   "metadata": {},
   "source": [
    "#### Given that there is no rating data within this database, we created a customized rating for each liquor product by each store based on perc_of_store_total_sale"
   ]
  },
  {
   "cell_type": "code",
   "execution_count": 27,
   "metadata": {},
   "outputs": [],
   "source": [
    "store_item_rated = QuantileDiscretizer(numBuckets=5, inputCol=\"perc_of_store_total_sale\",outputCol=\"rating\")\\\n",
    ".fit(sale_by_store_by_item).transform(sale_by_store_by_item)"
   ]
  },
  {
   "cell_type": "code",
   "execution_count": 28,
   "metadata": {},
   "outputs": [
    {
     "name": "stdout",
     "output_type": "stream",
     "text": [
      "+-----+-----------+-------------------+---------+------------------------+------------------------+------+\n",
      "|Store|Item Number|sum(Sale (Dollars))|store_num|store_total_sale_dollars|perc_of_store_total_sale|rating|\n",
      "+-----+-----------+-------------------+---------+------------------------+------------------------+------+\n",
      "| 2659|      34006| 2400.9900000000002|     2659|               131108.44|    0.018313008681973487|   4.0|\n",
      "| 2659|      57148| 1331.9700000000003|     2659|               131108.44|    0.010159300194556508|   4.0|\n",
      "+-----+-----------+-------------------+---------+------------------------+------------------------+------+\n",
      "only showing top 2 rows\n",
      "\n"
     ]
    }
   ],
   "source": [
    "# For example for store 2659, the most highly rated items are the following:\n",
    "\n",
    "store_item_rated.filter(store_item_rated.Store == 2659).sort('rating',ascending=False)\\\n",
    ".show(2)"
   ]
  },
  {
   "cell_type": "markdown",
   "metadata": {},
   "source": [
    "#### To run recommender system, we create a table that contains store_num, item_num and rating on each item by each store"
   ]
  },
  {
   "cell_type": "code",
   "execution_count": 29,
   "metadata": {},
   "outputs": [],
   "source": [
    "ratings = store_item_rated.select(\"Store\",\"Item Number\", \"rating\",\"perc_of_store_total_sale\")"
   ]
  },
  {
   "cell_type": "code",
   "execution_count": 30,
   "metadata": {},
   "outputs": [
    {
     "name": "stdout",
     "output_type": "stream",
     "text": [
      "+-----+-----------+------+------------------------+\n",
      "|Store|Item Number|rating|perc_of_store_total_sale|\n",
      "+-----+-----------+------+------------------------+\n",
      "| 2659|      34433|   4.0|    0.037615884988029764|\n",
      "| 2659|      75214|   4.0|    0.003432273315127...|\n",
      "| 2659|      27292|   3.0|    0.001053021453081129|\n",
      "| 2659|      89199|   4.0|    0.010245793482097719|\n",
      "| 2659|      41846|   4.0|    0.006101285317711048|\n",
      "+-----+-----------+------+------------------------+\n",
      "only showing top 5 rows\n",
      "\n"
     ]
    }
   ],
   "source": [
    "ratings.show(5)"
   ]
  },
  {
   "cell_type": "markdown",
   "metadata": {},
   "source": [
    "#### Prepare data for modeling\n",
    "Convert item number to format that's acceptable by the Recommender ALS function"
   ]
  },
  {
   "cell_type": "code",
   "execution_count": 31,
   "metadata": {},
   "outputs": [],
   "source": [
    "df = df.withColumn(\"Item Number\", regexp_extract(\"Item Number\", \"\\\\d+\", 0))"
   ]
  },
  {
   "cell_type": "code",
   "execution_count": 32,
   "metadata": {},
   "outputs": [],
   "source": [
    "ratings= ratings.withColumn(\"Item Number\", regexp_extract(\"Item Number\", \"\\\\d+\", 0))"
   ]
  },
  {
   "cell_type": "code",
   "execution_count": 33,
   "metadata": {},
   "outputs": [],
   "source": [
    "ratings = ratings.withColumn(\"Item Number\", ratings[\"Item Number\"].cast(IntegerType()))"
   ]
  },
  {
   "cell_type": "code",
   "execution_count": 34,
   "metadata": {},
   "outputs": [],
   "source": [
    "ratings = ratings.withColumnRenamed(\"Item Number\", \"item_num\")"
   ]
  },
  {
   "cell_type": "code",
   "execution_count": 35,
   "metadata": {},
   "outputs": [
    {
     "name": "stdout",
     "output_type": "stream",
     "text": [
      "+-----+--------+------+------------------------+\n",
      "|Store|item_num|rating|perc_of_store_total_sale|\n",
      "+-----+--------+------+------------------------+\n",
      "| 2659|   63959|   4.0|    0.003983267591316012|\n",
      "| 2659|   41846|   4.0|    0.006101285317711047|\n",
      "| 2659|   89199|   4.0|    0.010245793482097717|\n",
      "| 2659|   82836|   3.0|    6.486996565591047E-4|\n",
      "| 2659|   15248|   4.0|    0.005510858034768775|\n",
      "+-----+--------+------+------------------------+\n",
      "only showing top 5 rows\n",
      "\n"
     ]
    }
   ],
   "source": [
    "ratings.show(5)"
   ]
  },
  {
   "cell_type": "code",
   "execution_count": 36,
   "metadata": {},
   "outputs": [
    {
     "data": {
      "text/plain": [
       "991890"
      ]
     },
     "execution_count": 36,
     "metadata": {},
     "output_type": "execute_result"
    }
   ],
   "source": [
    "#Count if any missing values in the row\n",
    "ratings.dropna().count()"
   ]
  },
  {
   "cell_type": "code",
   "execution_count": 37,
   "metadata": {},
   "outputs": [
    {
     "data": {
      "text/plain": [
       "994839"
      ]
     },
     "execution_count": 37,
     "metadata": {},
     "output_type": "execute_result"
    }
   ],
   "source": [
    "ratings.count()"
   ]
  },
  {
   "cell_type": "code",
   "execution_count": 38,
   "metadata": {},
   "outputs": [],
   "source": [
    "# drop na rows\n",
    "ratings = ratings.dropna()"
   ]
  },
  {
   "cell_type": "code",
   "execution_count": 39,
   "metadata": {},
   "outputs": [],
   "source": [
    "liquor_store_clean = liquor_store_clean.withColumnRenamed(\"Store\", \"store_num_b\")"
   ]
  },
  {
   "cell_type": "markdown",
   "metadata": {},
   "source": [
    "#### Train , Test Split"
   ]
  },
  {
   "cell_type": "code",
   "execution_count": 40,
   "metadata": {},
   "outputs": [],
   "source": [
    "training, test = ratings.randomSplit([0.8,0.2], seed = 42)"
   ]
  },
  {
   "cell_type": "markdown",
   "metadata": {},
   "source": [
    "#### Build the recommendation model using ALS on the training data"
   ]
  },
  {
   "cell_type": "code",
   "execution_count": 42,
   "metadata": {},
   "outputs": [],
   "source": [
    "\n",
    "# Note we set cold start strategy to 'drop' to ensure we don't get NaN evaluation metrics\n",
    "als = ALS(maxIter=10, regParam=0.01, userCol=\"Store\", itemCol=\"item_num\", ratingCol=\"rating\",\n",
    "          coldStartStrategy=\"drop\", nonnegative = True)"
   ]
  },
  {
   "cell_type": "code",
   "execution_count": 43,
   "metadata": {},
   "outputs": [],
   "source": [
    "#fit model\n",
    "model = als.fit(training)"
   ]
  },
  {
   "cell_type": "code",
   "execution_count": 44,
   "metadata": {},
   "outputs": [],
   "source": [
    "# Apply model on the test set to predict \n",
    "predictions = model.transform(test)"
   ]
  },
  {
   "cell_type": "code",
   "execution_count": 45,
   "metadata": {},
   "outputs": [
    {
     "data": {
      "text/plain": [
       "'coldStartStrategy: strategy for dealing with unknown or new users/items at prediction time. This may be useful in cross-validation or production scenarios, for handling user/item ids the model has not seen in the training data. Supported values: nan,drop. (default: nan, current: drop)\\nitemCol: column name for item ids. Ids must be within the integer value range. (default: item, current: item_num)\\npredictionCol: prediction column name (default: prediction)\\nuserCol: column name for user ids. Ids must be within the integer value range. (default: user, current: Store)'"
      ]
     },
     "execution_count": 45,
     "metadata": {},
     "output_type": "execute_result"
    }
   ],
   "source": [
    "#explain parameters of the model\n",
    "model.explainParams()"
   ]
  },
  {
   "cell_type": "code",
   "execution_count": 46,
   "metadata": {},
   "outputs": [
    {
     "name": "stdout",
     "output_type": "stream",
     "text": [
      "+---+--------------------------------------------------------------------------------------------------------+\n",
      "|id |features                                                                                                |\n",
      "+---+--------------------------------------------------------------------------------------------------------+\n",
      "|160|[0.104079135, 0.0, 0.0, 0.015655806, 0.24764529, 0.42537525, 0.098392375, 0.64675057, 0.0, 0.0023257982]|\n",
      "|220|[0.0, 0.27672154, 0.0, 0.3154943, 0.36548373, 0.6829337, 0.10906999, 0.7571212, 0.0, 0.0]               |\n",
      "|250|[0.3054234, 1.304413, 0.5826429, 0.14280456, 0.0, 0.0, 0.0, 0.0, 0.0, 0.0]                              |\n",
      "|430|[0.0, 0.14261767, 0.2418759, 0.0, 0.0, 0.5199911, 0.10521233, 0.84113264, 0.0, 0.0]                     |\n",
      "|470|[0.21089111, 0.0, 0.19378562, 0.0, 0.048613407, 0.5329675, 0.08425057, 1.0456526, 0.0, 0.51771694]      |\n",
      "|490|[0.26544386, 0.23861194, 0.690093, 0.15776108, 0.16946802, 0.8162467, 0.0, 0.5008631, 0.0, 0.09647964]  |\n",
      "|500|[0.0066083563, 0.0, 0.112353936, 0.5946616, 0.0130815385, 0.8685164, 0.0, 0.53497124, 0.0066140117, 0.0]|\n",
      "|550|[0.0, 0.0, 0.44153577, 0.0, 0.0, 0.0, 0.0, 0.867034, 0.0, 0.23463565]                                   |\n",
      "|580|[0.0, 0.32676858, 0.75448537, 0.014662421, 0.0, 0.0, 0.236765, 0.64169574, 0.3076353, 0.0]              |\n",
      "|680|[0.016086703, 0.0, 0.23190835, 0.79327846, 0.0, 0.0, 0.29599348, 1.1050018, 0.0, 0.10177011]            |\n",
      "+---+--------------------------------------------------------------------------------------------------------+\n",
      "only showing top 10 rows\n",
      "\n"
     ]
    }
   ],
   "source": [
    "#item factors \n",
    "model.itemFactors.show(10, truncate = False)"
   ]
  },
  {
   "cell_type": "markdown",
   "metadata": {},
   "source": [
    "#### See what the model predicts"
   ]
  },
  {
   "cell_type": "code",
   "execution_count": 48,
   "metadata": {},
   "outputs": [],
   "source": [
    "predictions = predictions.join(liquor_store_clean,liquor_store_clean.store_num_b== predictions.Store)"
   ]
  },
  {
   "cell_type": "code",
   "execution_count": 49,
   "metadata": {},
   "outputs": [
    {
     "name": "stdout",
     "output_type": "stream",
     "text": [
      "+-----+--------+------+------------------------+----------+-----------+--------------------+------------+------------------+---------------+-----+--------+--------------------+-----------+\n",
      "|Store|item_num|rating|perc_of_store_total_sale|prediction|store_num_b|                Name|Store Status|           Address|           City|State|Zip Code|       Store Address|Report Date|\n",
      "+-----+--------+------+------------------------+----------+-----------+--------------------+------------+------------------+---------------+-----+--------+--------------------+-----------+\n",
      "| 3698|   10623|   0.0|    4.750013577122141E-6|0.95741534|       3698|Ingersoll Wine Me...|           A|     1300  50th St|West Des Moines|   IA|   50266|POINT (-93.771159...| 04/01/2020|\n",
      "| 4295|   10623|   0.0|     3.65156058143765E-5| 0.6251636|       4295|Nat Food Mart #1 ...|           I|      3804 Hubbell|     Des Moines|   IA|   50317|POINT (-93.541351...| 04/01/2020|\n",
      "| 4545|   10623|   0.0|    1.892105279021528...|0.70939386|       4545|           Fill R Up|           I|  14151 Wabash Ave| Council Bluffs|   IA|   51503|POINT (-95.817909...| 04/01/2020|\n",
      "| 2290|   10623|   0.0|    7.363685507009042...|0.21609718|       2290|Al's Liquors Unli...|           I|215 West Milwaukee|     Storm Lake|   IA|   50588|POINT (-95.202405...| 04/01/2020|\n",
      "| 4077|   10623|   0.0|    1.870078847527492...| 0.8536081|       4077|  Xo Food And Liquor|           A|   428 Franklin St|       Waterloo|   IA|   50703|POINT (-92.334641...| 04/01/2020|\n",
      "+-----+--------+------+------------------------+----------+-----------+--------------------+------------+------------------+---------------+-----+--------+--------------------+-----------+\n",
      "only showing top 5 rows\n",
      "\n"
     ]
    }
   ],
   "source": [
    "predictions.show(5)"
   ]
  },
  {
   "cell_type": "code",
   "execution_count": 50,
   "metadata": {},
   "outputs": [
    {
     "name": "stdout",
     "output_type": "stream",
     "text": [
      "+-----+--------+------+------------------------+----------+-----------+------------------------------------------+------------+---------------------+---------------+-----+--------+------------------------------------+-----------+\n",
      "|Store|item_num|rating|perc_of_store_total_sale|prediction|store_num_b|Name                                      |Store Status|Address              |City           |State|Zip Code|Store Address                       |Report Date|\n",
      "+-----+--------+------+------------------------+----------+-----------+------------------------------------------+------------+---------------------+---------------+-----+--------+------------------------------------+-----------+\n",
      "|3698 |10623   |0.0   |4.750013577122141E-6    |0.95741534|3698       |Ingersoll Wine Merchants                  |A           |1300  50th St        |West Des Moines|IA   |50266   |POINT (-93.771159 41.590871)        |04/01/2020 |\n",
      "|4295 |10623   |0.0   |3.65156058143765E-5     |0.6251636 |4295       |Nat Food Mart #1 / Hubbell                |I           |3804 Hubbell         |Des Moines     |IA   |50317   |POINT (-93.541351 41.630849)        |04/01/2020 |\n",
      "|4545 |10623   |0.0   |1.8921052790215288E-5   |0.70939386|4545       |Fill R Up                                 |I           |14151 Wabash Ave     |Council Bluffs |IA   |51503   |POINT (-95.81790900000001 41.220431)|04/01/2020 |\n",
      "|2290 |10623   |0.0   |7.3636855070090425E-6   |0.21609718|2290       |Al's Liquors Unlimited                    |I           |215 West Milwaukee   |Storm Lake     |IA   |50588   |POINT (-95.202405 42.647492)        |04/01/2020 |\n",
      "|4077 |10623   |0.0   |1.8700788475274923E-5   |0.8536081 |4077       |Xo Food And Liquor                        |A           |428 Franklin St      |Waterloo       |IA   |50703   |POINT (-92.33464100000002 42.501602)|04/01/2020 |\n",
      "|3917 |10623   |0.0   |2.5384333237112743E-6   |0.89227206|3917       |Smokin' Joe's #2 Tobacco and Liquor Outlet|A           |1606 W Locust St     |Davenport      |IA   |52804   |POINT (-90.599037 41.538254)        |04/01/2020 |\n",
      "|5487 |10623   |1.0   |9.288992031104113E-5    |1.8399215 |5487       |Independence Liquor & Food                |I           |1761 Independence Ave|Waterloo       |IA   |50707   |POINT (-92.302514 42.498404)        |04/01/2020 |\n",
      "|4046 |10623   |0.0   |1.7309503054682417E-5   |0.95853496|4046       |J and K Market                            |I           |113 W Vanburen       |Centerville    |IA   |52544   |POINT (-92.874795 40.734946)        |04/01/2020 |\n",
      "|4452 |15727   |0.0   |2.8354200819844552E-5   |0.8921843 |4452       |Select Mart    Gordon Dr                  |A           |2825 Gordon Dr       |Sioux City     |IA   |51105   |POINT (-96.372014 42.489632)        |04/01/2020 |\n",
      "|5001 |15727   |0.0   |1.9929193655094986E-5   |0.54696256|5001       |The Music Station / Independence          |A           |709 First St W       |Independence   |IA   |50644   |POINT (-91.901687 42.468633)        |04/01/2020 |\n",
      "+-----+--------+------+------------------------+----------+-----------+------------------------------------------+------------+---------------------+---------------+-----+--------+------------------------------------+-----------+\n",
      "only showing top 10 rows\n",
      "\n"
     ]
    }
   ],
   "source": [
    "predictions = predictions.na.drop()\n",
    "predictions.show(10, truncate = False)"
   ]
  },
  {
   "cell_type": "markdown",
   "metadata": {},
   "source": [
    "#### Prediction Performance"
   ]
  },
  {
   "cell_type": "code",
   "execution_count": 51,
   "metadata": {},
   "outputs": [
    {
     "name": "stdout",
     "output_type": "stream",
     "text": [
      "Root-mean-square error = 0.765679137334\n"
     ]
    }
   ],
   "source": [
    "evaluator = RegressionEvaluator(metricName='rmse', labelCol='rating')\n",
    "rmse = evaluator.evaluate(predictions)\n",
    "print(\"Root-mean-square error = \" + str(rmse))"
   ]
  },
  {
   "cell_type": "markdown",
   "metadata": {},
   "source": [
    "#### Generate top 10 liquor product for each store\n",
    "The ALS function recommend these liquor items to liquor store to purchased based on our customed ratings "
   ]
  },
  {
   "cell_type": "code",
   "execution_count": 52,
   "metadata": {},
   "outputs": [],
   "source": [
    "userRecs = model.recommendForAllUsers(10)"
   ]
  },
  {
   "cell_type": "code",
   "execution_count": 53,
   "metadata": {},
   "outputs": [
    {
     "name": "stdout",
     "output_type": "stream",
     "text": [
      "+-----+-----------------------------------------------------------------------------------------------------------------------------------------------------------------------------------------------------------------+\n",
      "|Store|recommendations                                                                                                                                                                                                  |\n",
      "+-----+-----------------------------------------------------------------------------------------------------------------------------------------------------------------------------------------------------------------+\n",
      "|4900 |[[926875, 13.443826], [965269, 7.6748443], [902349, 7.668518], [902491, 7.6209292], [903722, 7.3122754], [904577, 7.125351], [969718, 6.8338003], [967275, 6.8059115], [965266, 6.701254], [940055, 5.936145]]   |\n",
      "|5300 |[[926875, 18.143875], [903722, 9.45404], [965266, 8.400826], [967275, 8.382714], [922040, 8.2596855], [903929, 8.133111], [904827, 7.9986653], [969718, 7.978921], [903881, 7.692285], [902342, 7.2973957]]      |\n",
      "|5803 |[[926875, 19.798565], [904827, 16.153008], [956366, 12.742643], [903590, 11.77609], [901140, 10.780106], [900750, 10.780106], [901290, 10.780106], [901150, 10.780106], [900250, 10.780106], [900620, 10.780106]]|\n",
      "|4935 |[[926875, 12.685142], [965269, 7.6445694], [902349, 7.6116753], [903722, 7.589792], [902491, 7.532099], [967286, 7.0094624], [967275, 6.997804], [904577, 6.99329], [965266, 6.92415], [969718, 6.6844726]]      |\n",
      "|5156 |[[926875, 17.93303], [904827, 15.411972], [922040, 10.499099], [903722, 10.226695], [956366, 10.221641], [903590, 10.220772], [967286, 10.165482], [967275, 10.064253], [902424, 9.828769], [976642, 9.710113]]  |\n",
      "|3997 |[[926875, 10.480882], [904827, 9.429964], [940570, 6.3598623], [904912, 6.262345], [903590, 6.107545], [902219, 5.9371405], [903867, 5.847443], [904510, 5.712657], [994553, 5.599021], [967286, 5.5815654]]     |\n",
      "|3918 |[[926875, 19.012634], [903722, 9.446412], [903881, 9.018579], [977358, 7.885659], [902349, 7.2009387], [904921, 7.1158476], [904577, 6.988691], [969718, 6.9796844], [903929, 6.7778115], [965269, 6.739849]]    |\n",
      "|4818 |[[926875, 12.25255], [965266, 6.69639], [922040, 6.257215], [903929, 5.8107934], [969718, 5.6107855], [903265, 5.4943156], [902223, 5.414456], [922208, 5.210143], [967286, 5.0910196], [903722, 5.074853]]      |\n",
      "|5518 |[[904827, 15.767314], [926875, 13.807736], [956366, 10.157382], [903590, 9.657692], [967286, 9.359275], [989458, 9.3565235], [922040, 9.146953], [976642, 8.869421], [902375, 8.830952], [994553, 8.486274]]     |\n",
      "|2659 |[[926875, 14.038046], [904827, 12.877292], [989458, 9.375131], [956366, 9.066524], [922040, 8.539777], [965266, 8.418287], [902424, 8.332985], [967275, 8.331763], [976642, 8.271325], [903590, 8.060306]]       |\n",
      "+-----+-----------------------------------------------------------------------------------------------------------------------------------------------------------------------------------------------------------------+\n",
      "only showing top 10 rows\n",
      "\n"
     ]
    }
   ],
   "source": [
    "userRecs.show(10, truncate=False)"
   ]
  },
  {
   "cell_type": "markdown",
   "metadata": {},
   "source": [
    "#### Generate top 10 liquor store recommendations for each liquor product\n",
    "The ALS function recommend these liquor stores to liquor items to sell to based on our customed ratings"
   ]
  },
  {
   "cell_type": "code",
   "execution_count": 54,
   "metadata": {},
   "outputs": [],
   "source": [
    "liquorRecs = model.recommendForAllItems(10)"
   ]
  },
  {
   "cell_type": "code",
   "execution_count": 55,
   "metadata": {},
   "outputs": [
    {
     "name": "stdout",
     "output_type": "stream",
     "text": [
      "+--------+---------------------------------------------------------------------------------------------------------------------------------------------------------------------------------------------------+\n",
      "|item_num|recommendations                                                                                                                                                                                    |\n",
      "+--------+---------------------------------------------------------------------------------------------------------------------------------------------------------------------------------------------------+\n",
      "|21220   |[[2690, 2.9958515], [5894, 2.987344], [4834, 2.9722185], [5729, 2.944199], [5742, 2.8219154], [5814, 2.8108227], [2707, 2.7784762], [5855, 2.7715654], [2688, 2.7262979], [2676, 2.704467]]        |\n",
      "|32460   |[[9010, 3.5773158], [9910, 3.5537372], [9919, 2.9481382], [9042, 2.8897936], [9936, 2.8589585], [9931, 2.8037949], [9014, 2.7649574], [9018, 2.758128], [5927, 2.5766726], [5053, 2.5295358]]      |\n",
      "|64590   |[[5894, 0.9324489], [9031, 0.91519815], [5595, 0.8981756], [5213, 0.862606], [2691, 0.85508406], [5501, 0.84762967], [5888, 0.84289974], [2688, 0.8386687], [2703, 0.83819175], [2706, 0.83816123]]|\n",
      "|65220   |[[2130, 0.0], [2190, 0.0], [2200, 0.0], [2290, 0.0], [2460, 0.0], [2500, 0.0], [2550, 0.0], [2560, 0.0], [2590, 0.0], [2600, 0.0]]                                                                 |\n",
      "|100800  |[[5894, 3.8296232], [5595, 2.9337368], [5213, 2.8873358], [9901, 2.8818653], [2706, 2.875552], [2701, 2.8591323], [5729, 2.829994], [9031, 2.829974], [2708, 2.8283963], [9902, 2.8158348]]        |\n",
      "|902440  |[[4996, 2.5922718], [9031, 2.5713181], [5178, 2.5560606], [5246, 2.501119], [5765, 2.4912188], [4753, 2.4876099], [5457, 2.484739], [5433, 2.4841352], [5630, 2.4712691], [5053, 2.4615793]]       |\n",
      "|967100  |[[2130, 0.0], [2190, 0.0], [2200, 0.0], [2290, 0.0], [2460, 0.0], [2500, 0.0], [2550, 0.0], [2560, 0.0], [2590, 0.0], [2600, 0.0]]                                                                 |\n",
      "|987960  |[[5894, 9.971245], [5729, 9.438034], [9031, 9.176365], [2688, 8.795011], [5208, 8.739379], [2707, 8.710201], [5742, 8.5697365], [2703, 8.552623], [4834, 8.549055], [2708, 8.521898]]              |\n",
      "|34061   |[[9913, 4.1278815], [5851, 4.046236], [5675, 4.0416036], [5016, 4.028426], [5053, 4.023656], [9928, 4.008515], [9031, 3.9784608], [5500, 3.9781082], [5433, 3.9773424], [5729, 3.9752762]]         |\n",
      "|37111   |[[5742, 2.076934], [4834, 2.0317795], [5814, 1.9850522], [5729, 1.9766899], [2690, 1.9724284], [2707, 1.9651794], [9928, 1.9549849], [9910, 1.9387245], [2688, 1.9316267], [9014, 1.9143723]]      |\n",
      "+--------+---------------------------------------------------------------------------------------------------------------------------------------------------------------------------------------------------+\n",
      "only showing top 10 rows\n",
      "\n"
     ]
    }
   ],
   "source": [
    "liquorRecs.show(10, truncate=False)"
   ]
  },
  {
   "cell_type": "markdown",
   "metadata": {},
   "source": [
    "#### Let's see what are some liquor product recommended to the top-10 selling liquor stores"
   ]
  },
  {
   "cell_type": "code",
   "execution_count": 64,
   "metadata": {},
   "outputs": [],
   "source": [
    "# Find the top 10 stores by total sales in dollars\n",
    "top_stores = df.groupBy(df['Store']).agg({'Sale (Dollars)':\"sum\"}).sort(\"sum(Sale (Dollars))\", ascending=False).dropna().limit(10)"
   ]
  },
  {
   "cell_type": "code",
   "execution_count": 65,
   "metadata": {},
   "outputs": [
    {
     "data": {
      "text/plain": [
       "[Row(Store=2633),\n",
       " Row(Store=4829),\n",
       " Row(Store=2512),\n",
       " Row(Store=3385),\n",
       " Row(Store=3420),\n",
       " Row(Store=3814),\n",
       " Row(Store=3952),\n",
       " Row(Store=3354),\n",
       " Row(Store=3773),\n",
       " Row(Store=2190)]"
      ]
     },
     "execution_count": 65,
     "metadata": {},
     "output_type": "execute_result"
    }
   ],
   "source": [
    "top_stores.select(\"Store\").collect()\n",
    "#.select(\"Store\")\n",
    "#top_stores.collect()"
   ]
  },
  {
   "cell_type": "code",
   "execution_count": 66,
   "metadata": {},
   "outputs": [],
   "source": [
    "#Get the store number of top 10 stores by total sales in dollars\n",
    "top10_store_list = [row.Store for row in top_stores.select(\"Store\").collect()]"
   ]
  },
  {
   "cell_type": "code",
   "execution_count": 67,
   "metadata": {},
   "outputs": [
    {
     "data": {
      "text/plain": [
       "[2633, 4829, 2512, 3385, 3420, 3814, 3952, 3354, 3773, 2190]"
      ]
     },
     "execution_count": 67,
     "metadata": {},
     "output_type": "execute_result"
    }
   ],
   "source": [
    "top10_store_list"
   ]
  },
  {
   "cell_type": "code",
   "execution_count": 62,
   "metadata": {},
   "outputs": [],
   "source": [
    "# collect the recommendations to top 10 stores by total sales in dollars\n",
    "rec_liquor_top10_store ={}\n",
    "for store in top10_store_list:\n",
    "    rec_liquor = userRecs.where(userRecs.Store == store).select(\"recommendations\").collect()\n",
    "    rec_liquor_top10_store[store] = [i.item_num for i in rec_liquor[0][\"recommendations\"]]"
   ]
  },
  {
   "cell_type": "code",
   "execution_count": 63,
   "metadata": {
    "scrolled": true
   },
   "outputs": [
    {
     "data": {
      "text/plain": [
       "{2190: [926875,\n",
       "  935969,\n",
       "  900087,\n",
       "  903638,\n",
       "  902585,\n",
       "  34457,\n",
       "  922178,\n",
       "  15627,\n",
       "  34422,\n",
       "  927011],\n",
       " 2512: [926875,\n",
       "  34457,\n",
       "  19477,\n",
       "  15627,\n",
       "  69947,\n",
       "  902585,\n",
       "  19067,\n",
       "  28867,\n",
       "  43127,\n",
       "  34007],\n",
       " 2633: [902585,\n",
       "  933281,\n",
       "  15627,\n",
       "  41694,\n",
       "  34029,\n",
       "  34457,\n",
       "  69947,\n",
       "  10627,\n",
       "  25607,\n",
       "  19477],\n",
       " 3354: [926875,\n",
       "  902209,\n",
       "  940718,\n",
       "  903611,\n",
       "  904916,\n",
       "  903707,\n",
       "  967286,\n",
       "  956366,\n",
       "  904884,\n",
       "  904827],\n",
       " 3385: [926875,\n",
       "  903611,\n",
       "  902585,\n",
       "  902209,\n",
       "  904827,\n",
       "  940718,\n",
       "  933281,\n",
       "  904916,\n",
       "  903707,\n",
       "  968171],\n",
       " 3420: [940718,\n",
       "  902209,\n",
       "  903611,\n",
       "  904916,\n",
       "  903707,\n",
       "  967286,\n",
       "  904827,\n",
       "  956366,\n",
       "  987955,\n",
       "  987407],\n",
       " 3773: [902585,\n",
       "  34457,\n",
       "  933281,\n",
       "  15627,\n",
       "  34029,\n",
       "  19477,\n",
       "  69947,\n",
       "  28233,\n",
       "  28867,\n",
       "  34747],\n",
       " 3814: [926875,\n",
       "  903265,\n",
       "  902223,\n",
       "  903486,\n",
       "  935969,\n",
       "  902864,\n",
       "  940570,\n",
       "  901230,\n",
       "  916850,\n",
       "  989653],\n",
       " 3952: [902585,\n",
       "  933281,\n",
       "  15627,\n",
       "  41694,\n",
       "  25607,\n",
       "  34029,\n",
       "  10627,\n",
       "  69947,\n",
       "  34457,\n",
       "  67527],\n",
       " 4829: [902585,\n",
       "  933281,\n",
       "  34457,\n",
       "  15627,\n",
       "  34029,\n",
       "  19477,\n",
       "  69947,\n",
       "  41694,\n",
       "  10627,\n",
       "  28233]}"
      ]
     },
     "execution_count": 63,
     "metadata": {},
     "output_type": "execute_result"
    }
   ],
   "source": [
    "rec_liquor_top10_store"
   ]
  },
  {
   "cell_type": "code",
   "execution_count": 72,
   "metadata": {},
   "outputs": [],
   "source": [
    "liquor_product_list = df.select(\"Item Number\",'Item Description','Category Name Clean').dropDuplicates()"
   ]
  },
  {
   "cell_type": "markdown",
   "metadata": {},
   "source": [
    "### Here are most recommended Liquor Product for top_10 Liquor stores"
   ]
  },
  {
   "cell_type": "code",
   "execution_count": 65,
   "metadata": {},
   "outputs": [
    {
     "name": "stdout",
     "output_type": "stream",
     "text": [
      "+-----------+-------------------------+\n",
      "|store_num_b|Name                     |\n",
      "+-----------+-------------------------+\n",
      "|2190       |Central City Liquor, Inc.|\n",
      "+-----------+-------------------------+\n",
      "\n"
     ]
    }
   ],
   "source": [
    "liquor_store_clean.filter(liquor_store_clean.store_num_b==2190).select('store_num_b', \"Name\")\\\n",
    ".show(truncate = False)"
   ]
  },
  {
   "cell_type": "markdown",
   "metadata": {},
   "source": [
    "#### liquor products recommended to store 2190"
   ]
  },
  {
   "cell_type": "code",
   "execution_count": 66,
   "metadata": {},
   "outputs": [
    {
     "name": "stdout",
     "output_type": "stream",
     "text": [
      "+-----------+----------------------------------------+------------------------+\n",
      "|Item Number|Item Description                        |Category Name Clean     |\n",
      "+-----------+----------------------------------------+------------------------+\n",
      "|34422      |Grey Goose                              |Imported Vodka          |\n",
      "|900087     |Smirnoff 1.75L Retail Ready 3pk Shipper |American Vodka          |\n",
      "|935969     |Stolichnaya Hot                         |Imported Vodka - Misc   |\n",
      "|926875     |Templeton Rye Special Reserve 6YR       |Blended Whiskey         |\n",
      "|903638     |Merry's Irish Cream                     |Cream Liqueur           |\n",
      "|15627      |Jameson                                 |Irish Whiskey           |\n",
      "|935969     |Stolichnaya Hot                         |null                    |\n",
      "|902585     |Belvedere Vodka                         |Special Order Item      |\n",
      "|926875     |Templeton Rye Special Reserve 8YR       |Blended Whiskey         |\n",
      "|34457      |Ketel One Imported Vodka                |Imported Vodka          |\n",
      "|927011     |Cedar Ridge Rye Whiskey - Whole Cask Buy|Straight Rye Whiskey    |\n",
      "|34422      |Grey Goose Vodka                        |Imported Vodka          |\n",
      "|922178     |Russell's Reserve Single Barrel - Barrel|null                    |\n",
      "|922178     |Russell's Reserve Single Barrel - Barrel|Straight Bourbon Whiskey|\n",
      "|902585     |Belvedere Vodka                         |Imported Vodka          |\n",
      "|927011     |Cedar Ridge Rye Whiskey - Whole Cask Buy|Corn Whiskey            |\n",
      "|903638     |Merry's Irish Cream                     |Special Order Item      |\n",
      "|34457      |Ketel One                               |Imported Vodka          |\n",
      "+-----------+----------------------------------------+------------------------+\n",
      "\n"
     ]
    }
   ],
   "source": [
    "# liquor products recommended to store 2190\n",
    "liquor_product_list.filter(liquor_product_list[\"Item Number\"].isin(rec_liquor_top10_store[2190]))\\\n",
    ".show(truncate = False)"
   ]
  },
  {
   "cell_type": "code",
   "execution_count": 265,
   "metadata": {},
   "outputs": [],
   "source": [
    "\n",
    "# Rename columns\n",
    "sale_by_store_by_item =sale_by_store_by_item.withColumnRenamed(\"Item Number\", \"item_num\")"
   ]
  },
  {
   "cell_type": "markdown",
   "metadata": {},
   "source": [
    "#### Compared to currently most ordered liquor products by store 2190"
   ]
  },
  {
   "cell_type": "code",
   "execution_count": 271,
   "metadata": {},
   "outputs": [
    {
     "name": "stdout",
     "output_type": "stream",
     "text": [
      "+---------+--------+-----------------------------------------------+--------------------------------+\n",
      "|store_num|item_num|Item Description                               |Category Name Clean             |\n",
      "+---------+--------+-----------------------------------------------+--------------------------------+\n",
      "|2190     |100227  |Glen Moray Scotch Classic Port Cask w/2 Glasses|null                            |\n",
      "|2190     |20158   |Old Camp Wolf Moon Whiskey                     |Straight Bourbon Whiskey        |\n",
      "|2190     |22121   |Wild Turkey 81                                 |Straight Bourbon Whiskey        |\n",
      "|2190     |39917   |New Amsterdam Apple Vodka                      |American Flavored Vodka         |\n",
      "|2190     |42370   |Bacardi 8 Rum                                  |Puerto Rico & Virgin Islands Rum|\n",
      "+---------+--------+-----------------------------------------------+--------------------------------+\n",
      "only showing top 5 rows\n",
      "\n"
     ]
    }
   ],
   "source": [
    "sale_by_store_by_item.join(liquor_product_list ,sale_by_store_by_item[\"item_num\"] == liquor_product_list[\"Item Number\"], how='inner')\\\n",
    ".filter(sale_by_store_by_item.store_num==2190)\\\n",
    ".sort(\"sum(Sale (Dollars))\", ascending=False)\\\n",
    ".select(\"store_num\", \"item_num\", \"Item Description\",\"Category Name Clean\")\\\n",
    ".dropDuplicates([\"item_num\"])\\\n",
    ".show(5, truncate=False)"
   ]
  },
  {
   "cell_type": "code",
   "execution_count": 67,
   "metadata": {},
   "outputs": [
    {
     "name": "stdout",
     "output_type": "stream",
     "text": [
      "+-----------+-----------------------------------+\n",
      "|store_num_b|Name                               |\n",
      "+-----------+-----------------------------------+\n",
      "|2512       |Hy-Vee Wine and Spirits / Iowa City|\n",
      "+-----------+-----------------------------------+\n",
      "\n"
     ]
    }
   ],
   "source": [
    "liquor_store_clean.filter(liquor_store_clean.store_num_b==2512).select('store_num_b', \"Name\")\\\n",
    ".show(truncate = False)"
   ]
  },
  {
   "cell_type": "code",
   "execution_count": 68,
   "metadata": {},
   "outputs": [
    {
     "name": "stdout",
     "output_type": "stream",
     "text": [
      "+-----------+----------------------------------------+--------------------------------+\n",
      "|Item Number|Item Description                        |Category Name Clean             |\n",
      "+-----------+----------------------------------------+--------------------------------+\n",
      "|28867      |Tanqueray Gin                           |Imported Dry Gin                |\n",
      "|43127      |Bacardi Superior Rum                    |Puerto Rico & Virgin Islands Rum|\n",
      "|926875     |Templeton Rye Special Reserve 6YR       |Blended Whiskey                 |\n",
      "|69947      |Rumple Minze Peppermint Schnapps Liqueur|Imported Schnapps               |\n",
      "|34007      |Absolut Swedish Vodka 80prf             |Imported Vodka                  |\n",
      "|15627      |Jameson                                 |Irish Whiskey                   |\n",
      "|902585     |Belvedere Vodka                         |Special Order Item              |\n",
      "|926875     |Templeton Rye Special Reserve 8YR       |Blended Whiskey                 |\n",
      "|43127      |Bacardi Superior Rum                    |White Rum                       |\n",
      "|34457      |Ketel One Imported Vodka                |Imported Vodka                  |\n",
      "|19067      |Jim Beam                                |Straight Bourbon Whiskey        |\n",
      "|34007      |Absolut Swedish Vodka 80 Prf            |Imported Vodka                  |\n",
      "|902585     |Belvedere Vodka                         |Imported Vodka                  |\n",
      "|43127      |Bacardi Superior                        |White Rum                       |\n",
      "|19477      |Makers Mark                             |Straight Bourbon Whiskey        |\n",
      "|19477      |Maker's Mark                            |Straight Bourbon Whiskey        |\n",
      "|34457      |Ketel One                               |Imported Vodka                  |\n",
      "+-----------+----------------------------------------+--------------------------------+\n",
      "\n"
     ]
    }
   ],
   "source": [
    "liquor_product_list.filter(liquor_product_list[\"Item Number\"].isin(rec_liquor_top10_store[2512])).show(truncate = False)"
   ]
  },
  {
   "cell_type": "code",
   "execution_count": 69,
   "metadata": {},
   "outputs": [
    {
     "name": "stdout",
     "output_type": "stream",
     "text": [
      "+-----------+----------------------------+\n",
      "|store_num_b|Name                        |\n",
      "+-----------+----------------------------+\n",
      "|2633       |Hy-Vee #3 / BDI / Des Moines|\n",
      "+-----------+----------------------------+\n",
      "\n"
     ]
    }
   ],
   "source": [
    "liquor_store_clean.filter(liquor_store_clean.store_num_b==2633).select('store_num_b', \"Name\")\\\n",
    ".show(truncate = False)"
   ]
  },
  {
   "cell_type": "code",
   "execution_count": 70,
   "metadata": {},
   "outputs": [
    {
     "name": "stdout",
     "output_type": "stream",
     "text": [
      "+-----------+----------------------------------------+------------------------+\n",
      "|Item Number|Item Description                        |Category Name Clean     |\n",
      "+-----------+----------------------------------------+------------------------+\n",
      "|933281     |Seagram's Twisted Pineapple Gin         |Flavored Gin            |\n",
      "|34029      |Absolut Citron                          |Imported Flavored Vodka |\n",
      "|69947      |Rumple Minze Peppermint Schnapps Liqueur|Imported Schnapps       |\n",
      "|34029      |Absolut Citron (lemon Vodka)            |Imported Flavored Vodka |\n",
      "|15627      |Jameson                                 |Irish Whiskey           |\n",
      "|902585     |Belvedere Vodka                         |Special Order Item      |\n",
      "|34457      |Ketel One Imported Vodka                |Imported Vodka          |\n",
      "|25607      |Seagrams 7 Crown                        |Blended Whiskey         |\n",
      "|34029      |Absolut Citron (lemon Vodka)            |Imported Vodka - Misc   |\n",
      "|25607      |Seagrams 7 Crown Bl Whiskey             |Blended Whiskey         |\n",
      "|41694      |Uv Blue (raspberry) Vodka               |American Flavored Vodka |\n",
      "|41694      |UV Blue Raspberry                       |American Flavored Vodka |\n",
      "|902585     |Belvedere Vodka                         |Imported Vodka          |\n",
      "|19477      |Makers Mark                             |Straight Bourbon Whiskey|\n",
      "|19477      |Maker's Mark                            |Straight Bourbon Whiskey|\n",
      "|10627      |Canadian Club Whisky                    |Canadian Whiskey        |\n",
      "|34457      |Ketel One                               |Imported Vodka          |\n",
      "|41694      |Uv Blue (raspberry) Vodka               |Vodka Flavored          |\n",
      "+-----------+----------------------------------------+------------------------+\n",
      "\n"
     ]
    }
   ],
   "source": [
    "liquor_product_list.filter(liquor_product_list[\"Item Number\"].isin(rec_liquor_top10_store[2633]))\\\n",
    ".show(truncate = False)"
   ]
  },
  {
   "cell_type": "code",
   "execution_count": 71,
   "metadata": {},
   "outputs": [
    {
     "name": "stdout",
     "output_type": "stream",
     "text": [
      "+-----------+---------------------------+\n",
      "|store_num_b|Name                       |\n",
      "+-----------+---------------------------+\n",
      "|3354       |Sam's Club 8238 / Davenport|\n",
      "+-----------+---------------------------+\n",
      "\n"
     ]
    }
   ],
   "source": [
    "liquor_store_clean.filter(liquor_store_clean.store_num_b==3354).select('store_num_b', \"Name\")\\\n",
    ".show(truncate = False)"
   ]
  },
  {
   "cell_type": "code",
   "execution_count": 72,
   "metadata": {
    "scrolled": true
   },
   "outputs": [
    {
     "name": "stdout",
     "output_type": "stream",
     "text": [
      "+-----------+---------------------------------+----------------------+\n",
      "|Item Number|Item Description                 |Category Name Clean   |\n",
      "+-----------+---------------------------------+----------------------+\n",
      "|903611     |Martell Cordon Bleu 12           |Special Order Item    |\n",
      "|967286     |Ice Hole Salty Caramel Schnapps  |Triple Sec            |\n",
      "|926875     |Templeton Rye Special Reserve 6YR|Blended Whiskey       |\n",
      "|902209     |Edradour 10yr Sing Malt Scotch   |Single Malt Scotch    |\n",
      "|903707     |Wiser's Deluxe                   |Special Order Item    |\n",
      "|926875     |Templeton Rye Special Reserve 8YR|Blended Whiskey       |\n",
      "|903707     |Wiser's Deluxe                   |Canadian Whiskey      |\n",
      "|904884     |Ice Hole Exotic Schnapps         |Special Order Item    |\n",
      "|904827     |Everclear Alcohol 190 Proof      |Special Order Item    |\n",
      "|904916     |Scorpion Mezcal Reposado         |Special Order Item    |\n",
      "|904827     |Everclear Alcohol 190 Proof      |American Alcohol      |\n",
      "|903611     |Martell Cordon Bleu 12           |Imported Grape Brandy |\n",
      "|904916     |Scorpion Mezcal Reposado         |Tequila               |\n",
      "|940718     |Orloff Light Vodka               |Low Proof Vodka       |\n",
      "|967286     |Ice Hole Salty Caramel Schnapps  |American Schnapps     |\n",
      "|902209     |Edradour 10yr Sing Malt Scotch   |Special Order Item    |\n",
      "|904884     |Ice Hole Exotic Schnapps         |Peppermint Schnapps   |\n",
      "|956366     |Dekuyper Coffee Brandy           |Miscellaneous  Brandey|\n",
      "|904827     |Everclear 190prf                 |Special Order Item    |\n",
      "+-----------+---------------------------------+----------------------+\n",
      "\n"
     ]
    }
   ],
   "source": [
    "liquor_product_list.filter(liquor_product_list[\"Item Number\"].isin(rec_liquor_top10_store[3354]))\\\n",
    ".show(truncate = False)"
   ]
  },
  {
   "cell_type": "code",
   "execution_count": 73,
   "metadata": {},
   "outputs": [
    {
     "name": "stdout",
     "output_type": "stream",
     "text": [
      "+-----------+------------------------------+\n",
      "|store_num_b|Name                          |\n",
      "+-----------+------------------------------+\n",
      "|3385       |Sam's Club 8162 / Cedar Rapids|\n",
      "+-----------+------------------------------+\n",
      "\n"
     ]
    }
   ],
   "source": [
    "liquor_store_clean.filter(liquor_store_clean.store_num_b==3385).select('store_num_b', \"Name\")\\\n",
    ".show(truncate = False)"
   ]
  },
  {
   "cell_type": "code",
   "execution_count": 74,
   "metadata": {
    "scrolled": true
   },
   "outputs": [
    {
     "name": "stdout",
     "output_type": "stream",
     "text": [
      "+-----------+---------------------------------------+---------------------+\n",
      "|Item Number|Item Description                       |Category Name Clean  |\n",
      "+-----------+---------------------------------------+---------------------+\n",
      "|903611     |Martell Cordon Bleu 12                 |Special Order Item   |\n",
      "|933281     |Seagram's Twisted Pineapple Gin        |Flavored Gin         |\n",
      "|926875     |Templeton Rye Special Reserve 6YR      |Blended Whiskey      |\n",
      "|902209     |Edradour 10yr Sing Malt Scotch         |Single Malt Scotch   |\n",
      "|903707     |Wiser's Deluxe                         |Special Order Item   |\n",
      "|902585     |Belvedere Vodka                        |Special Order Item   |\n",
      "|926875     |Templeton Rye Special Reserve 8YR      |Blended Whiskey      |\n",
      "|903707     |Wiser's Deluxe                         |Canadian Whiskey     |\n",
      "|968171     |Coole Swan Irish Superior Cream Liqueur|Cream Liqueur        |\n",
      "|904827     |Everclear Alcohol 190 Proof            |Special Order Item   |\n",
      "|904916     |Scorpion Mezcal Reposado               |Special Order Item   |\n",
      "|904827     |Everclear Alcohol 190 Proof            |American Alcohol     |\n",
      "|903611     |Martell Cordon Bleu 12                 |Imported Grape Brandy|\n",
      "|904916     |Scorpion Mezcal Reposado               |Tequila              |\n",
      "|940718     |Orloff Light Vodka                     |Low Proof Vodka      |\n",
      "|902585     |Belvedere Vodka                        |Imported Vodka       |\n",
      "|902209     |Edradour 10yr Sing Malt Scotch         |Special Order Item   |\n",
      "|904827     |Everclear 190prf                       |Special Order Item   |\n",
      "+-----------+---------------------------------------+---------------------+\n",
      "\n"
     ]
    }
   ],
   "source": [
    "liquor_product_list.filter(liquor_product_list[\"Item Number\"].isin(rec_liquor_top10_store[3385]))\\\n",
    ".show(truncate = False)"
   ]
  },
  {
   "cell_type": "code",
   "execution_count": 75,
   "metadata": {},
   "outputs": [
    {
     "name": "stdout",
     "output_type": "stream",
     "text": [
      "+-----------+---------------------------------+\n",
      "|store_num_b|Name                             |\n",
      "+-----------+---------------------------------+\n",
      "|3420       |Sam's Club 6344 / Windsor Heights|\n",
      "+-----------+---------------------------------+\n",
      "\n"
     ]
    }
   ],
   "source": [
    "\n",
    "liquor_store_clean.filter(liquor_store_clean.store_num_b==3420).select('store_num_b', \"Name\")\\\n",
    ".show(truncate = False)"
   ]
  },
  {
   "cell_type": "code",
   "execution_count": 76,
   "metadata": {},
   "outputs": [
    {
     "name": "stdout",
     "output_type": "stream",
     "text": [
      "+-----------+---------------------------------+----------------------+\n",
      "|Item Number|Item Description                 |Category Name Clean   |\n",
      "+-----------+---------------------------------+----------------------+\n",
      "|903611     |Martell Cordon Bleu 12           |Special Order Item    |\n",
      "|967286     |Ice Hole Salty Caramel Schnapps  |Triple Sec            |\n",
      "|902209     |Edradour 10yr Sing Malt Scotch   |Single Malt Scotch    |\n",
      "|987407     |Jose Cuervo Especial Silver Flask|null                  |\n",
      "|903707     |Wiser's Deluxe                   |Special Order Item    |\n",
      "|987955     |Kavalan King Car Conductor       |null                  |\n",
      "|903707     |Wiser's Deluxe                   |Canadian Whiskey      |\n",
      "|987407     |Jose Cuervo Especial Silver/Flask|null                  |\n",
      "|904827     |Everclear Alcohol 190 Proof      |Special Order Item    |\n",
      "|904916     |Scorpion Mezcal Reposado         |Special Order Item    |\n",
      "|904827     |Everclear Alcohol 190 Proof      |American Alcohol      |\n",
      "|903611     |Martell Cordon Bleu 12           |Imported Grape Brandy |\n",
      "|904916     |Scorpion Mezcal Reposado         |Tequila               |\n",
      "|987955     |Kavalan King Car Conductor       |Single Malt Scotch    |\n",
      "|940718     |Orloff Light Vodka               |Low Proof Vodka       |\n",
      "|967286     |Ice Hole Salty Caramel Schnapps  |American Schnapps     |\n",
      "|902209     |Edradour 10yr Sing Malt Scotch   |Special Order Item    |\n",
      "|956366     |Dekuyper Coffee Brandy           |Miscellaneous  Brandey|\n",
      "|904827     |Everclear 190prf                 |Special Order Item    |\n",
      "+-----------+---------------------------------+----------------------+\n",
      "\n"
     ]
    }
   ],
   "source": [
    "liquor_product_list.filter(liquor_product_list[\"Item Number\"].isin(rec_liquor_top10_store[3420]))\\\n",
    ".show(truncate = False)"
   ]
  },
  {
   "cell_type": "code",
   "execution_count": 77,
   "metadata": {},
   "outputs": [
    {
     "name": "stdout",
     "output_type": "stream",
     "text": [
      "+-----------+---------------------------+\n",
      "|store_num_b|Name                       |\n",
      "+-----------+---------------------------+\n",
      "|3814       |Costco Wholesale #788 / WDM|\n",
      "+-----------+---------------------------+\n",
      "\n"
     ]
    }
   ],
   "source": [
    "\n",
    "liquor_store_clean.filter(liquor_store_clean.store_num_b==3814).select('store_num_b', \"Name\")\\\n",
    ".show(truncate = False)"
   ]
  },
  {
   "cell_type": "code",
   "execution_count": 78,
   "metadata": {},
   "outputs": [
    {
     "name": "stdout",
     "output_type": "stream",
     "text": [
      "+-----------+-------------------------------------+------------------------+\n",
      "|Item Number|Item Description                     |Category Name Clean     |\n",
      "+-----------+-------------------------------------+------------------------+\n",
      "|901230     |Tres Agaves Reposado                 |null                    |\n",
      "|902864     |Carolan's Irish Cream                |Special Order Item      |\n",
      "|935969     |Stolichnaya Hot                      |Imported Vodka - Misc   |\n",
      "|926875     |Templeton Rye Special Reserve 6YR    |Blended Whiskey         |\n",
      "|935969     |Stolichnaya Hot                      |null                    |\n",
      "|903486     |Mr Boston Five Star Brandy           |American Grape Brandy   |\n",
      "|902223     |Gosling Gold Rum                     |Jamaica Rum             |\n",
      "|989653     |Patron Reposado Barrel Select Program|100% Agave Tequila      |\n",
      "|940570     |Skinnygirl Bare Naked Vodka          |100 Proof Vodka         |\n",
      "|926875     |Templeton Rye Special Reserve 8YR    |Blended Whiskey         |\n",
      "|902864     |Carolan's Irish Cream                |Cream Liqueur           |\n",
      "|940570     |Skinnygirl Bare Naked                |American Vodka          |\n",
      "|903486     |Mr Boston Five Star Brandy           |Special Order Item      |\n",
      "|901230     |Tres Agaves Reposado                 |Tequila                 |\n",
      "|916850     |Blantons Buy the Barrel              |Straight Bourbon Whiskey|\n",
      "|903265     |Tanqueray Sterling Vodka             |Imported Vodka          |\n",
      "|940570     |Skinnygirl Bare Naked Vodka          |American Vodka          |\n",
      "|989653     |Patron Barrel Select Reposado Barrel |100% Agave Tequila      |\n",
      "|901230     |Tres Agaves Reposado                 |Special Order Item      |\n",
      "+-----------+-------------------------------------+------------------------+\n",
      "\n"
     ]
    }
   ],
   "source": [
    "liquor_product_list.filter(liquor_product_list[\"Item Number\"].isin(rec_liquor_top10_store[3814]))\\\n",
    ".show(truncate = False)"
   ]
  },
  {
   "cell_type": "code",
   "execution_count": 79,
   "metadata": {},
   "outputs": [
    {
     "name": "stdout",
     "output_type": "stream",
     "text": [
      "+-----------+-----------------+\n",
      "|store_num_b|Name             |\n",
      "+-----------+-----------------+\n",
      "|3773       |Benz Distributing|\n",
      "+-----------+-----------------+\n",
      "\n"
     ]
    }
   ],
   "source": [
    "\n",
    " \n",
    "liquor_store_clean.filter(liquor_store_clean.store_num_b==3773).select('store_num_b', \"Name\")\\\n",
    ".show(truncate = False)"
   ]
  },
  {
   "cell_type": "code",
   "execution_count": 80,
   "metadata": {},
   "outputs": [
    {
     "name": "stdout",
     "output_type": "stream",
     "text": [
      "+-----------+----------------------------------------+------------------------+\n",
      "|Item Number|Item Description                        |Category Name Clean     |\n",
      "+-----------+----------------------------------------+------------------------+\n",
      "|34747      |Stolichnaya 80prf                       |Imported Vodka          |\n",
      "|933281     |Seagram's Twisted Pineapple Gin         |Flavored Gin            |\n",
      "|28867      |Tanqueray Gin                           |Imported Dry Gin        |\n",
      "|34029      |Absolut Citron                          |Imported Flavored Vodka |\n",
      "|69947      |Rumple Minze Peppermint Schnapps Liqueur|Imported Schnapps       |\n",
      "|34029      |Absolut Citron (lemon Vodka)            |Imported Flavored Vodka |\n",
      "|15627      |Jameson                                 |Irish Whiskey           |\n",
      "|902585     |Belvedere Vodka                         |Special Order Item      |\n",
      "|34457      |Ketel One Imported Vodka                |Imported Vodka          |\n",
      "|34029      |Absolut Citron (lemon Vodka)            |Imported Vodka - Misc   |\n",
      "|34747      |Stolichnaya Premium Vodka 80 Proof (lv) |Imported Vodka          |\n",
      "|34747      |Stolichnaya Premium Vodka 80 Proof (lv) |null                    |\n",
      "|902585     |Belvedere Vodka                         |Imported Vodka          |\n",
      "|28233      |Bombay Sapphire Gin                     |Imported Dry Gin        |\n",
      "|19477      |Makers Mark                             |Straight Bourbon Whiskey|\n",
      "|19477      |Maker's Mark                            |Straight Bourbon Whiskey|\n",
      "|34457      |Ketel One                               |Imported Vodka          |\n",
      "+-----------+----------------------------------------+------------------------+\n",
      "\n"
     ]
    }
   ],
   "source": [
    "liquor_product_list.filter(liquor_product_list[\"Item Number\"].isin(rec_liquor_top10_store[3773]))\\\n",
    ".show(truncate = False)"
   ]
  },
  {
   "cell_type": "code",
   "execution_count": 81,
   "metadata": {},
   "outputs": [],
   "source": []
  },
  {
   "cell_type": "markdown",
   "metadata": {},
   "source": [
    "#### Recommend liquor stores to liquor items"
   ]
  },
  {
   "cell_type": "markdown",
   "metadata": {},
   "source": [
    "Identify most popular sales liquor items"
   ]
  },
  {
   "cell_type": "code",
   "execution_count": 81,
   "metadata": {},
   "outputs": [],
   "source": [
    "# Find the top 10 liquor items by total sales in dollars\n",
    "df=df.withColumnRenamed(\"Item Number\", \"item_num\")\n",
    "top_items = df.groupBy(df['item_num']).agg({'Sale (Dollars)':\"sum\"}).sort(\"sum(Sale (Dollars))\", ascending=False).dropna().limit(10)\n"
   ]
  },
  {
   "cell_type": "code",
   "execution_count": 82,
   "metadata": {},
   "outputs": [],
   "source": [
    "# Find the top 10 stores by total sales in dollars\n",
    "top_stores = df.groupBy(df['Store']).agg({'Sale (Dollars)':\"sum\"}).sort(\"sum(Sale (Dollars))\", ascending=False).dropna().limit(10)"
   ]
  },
  {
   "cell_type": "code",
   "execution_count": 83,
   "metadata": {},
   "outputs": [],
   "source": [
    "# Find the top 10 liquor items by total sales in dollars\n",
    "top10_item_list = [row.item_num for row in top_items.select(\"item_num\").collect()]"
   ]
  },
  {
   "cell_type": "code",
   "execution_count": 84,
   "metadata": {},
   "outputs": [
    {
     "data": {
      "text/plain": [
       "[u'11788',\n",
       " u'43337',\n",
       " u'26827',\n",
       " u'11297',\n",
       " u'36308',\n",
       " u'11296',\n",
       " u'43338',\n",
       " u'88296',\n",
       " u'26826',\n",
       " u'1799']"
      ]
     },
     "execution_count": 84,
     "metadata": {},
     "output_type": "execute_result"
    }
   ],
   "source": [
    "# Find the top 110 liquor items by total sales in dollars\n",
    "top10_item_list"
   ]
  },
  {
   "cell_type": "markdown",
   "metadata": {},
   "source": [
    "#### Recommend liquor stores to top 10 best-selling liquor products"
   ]
  },
  {
   "cell_type": "code",
   "execution_count": 91,
   "metadata": {},
   "outputs": [],
   "source": [
    "rec_store_top10_item ={}\n",
    "for item in top10_item_list:\n",
    "    rec_store = liquorRecs.where(liquorRecs.item_num == item).select(\"recommendations\").collect()\n",
    "    rec_store_top10_item[item] = [i.Store for i in rec_store[0][\"recommendations\"]]"
   ]
  },
  {
   "cell_type": "code",
   "execution_count": 92,
   "metadata": {},
   "outputs": [
    {
     "data": {
      "text/plain": [
       "{u'11296': [3696, 3663, 2507, 3769, 4014, 3645, 5899, 3776, 5575, 3644],\n",
       " u'11297': [3524, 3494, 5675, 3447, 5178, 5053, 5690, 4957, 5457, 5020],\n",
       " u'11788': [3663, 3769, 4346, 2584, 3776, 3549, 3696, 3644, 4014, 3592],\n",
       " u'1799': [5053, 5629, 5082, 5721, 5675, 5853, 5925, 5192, 5554, 5796],\n",
       " u'26826': [3696, 3663, 2507, 3769, 4014, 3645, 5899, 4447, 4004, 3644],\n",
       " u'26827': [3524, 5675, 3494, 5053, 5178, 3447, 4957, 5690, 5144, 5457],\n",
       " u'36308': [3769, 3663, 3644, 3696, 3776, 4004, 3645, 4014, 3592, 3722],\n",
       " u'43337': [3549, 3524, 3494, 4762, 3447, 3818, 3942, 2636, 2578, 2602],\n",
       " u'43338': [5575, 3696, 5899, 5178, 5278, 5727, 5053, 3660, 5565, 4014],\n",
       " u'88296': [5178, 5899, 5811, 5516, 5398, 5630, 5020, 5720, 5531, 5602]}"
      ]
     },
     "execution_count": 92,
     "metadata": {},
     "output_type": "execute_result"
    }
   ],
   "source": [
    "rec_store_top10_item"
   ]
  },
  {
   "cell_type": "code",
   "execution_count": 93,
   "metadata": {},
   "outputs": [
    {
     "name": "stdout",
     "output_type": "stream",
     "text": [
      "+--------+----------------+\n",
      "|item_num|Item Description|\n",
      "+--------+----------------+\n",
      "|   11296|     Crown Royal|\n",
      "+--------+----------------+\n",
      "\n"
     ]
    }
   ],
   "source": [
    "df.filter(df.item_num=='11296').select(\"item_num\", 'Item Description').dropDuplicates().show() "
   ]
  },
  {
   "cell_type": "code",
   "execution_count": 94,
   "metadata": {},
   "outputs": [
    {
     "name": "stdout",
     "output_type": "stream",
     "text": [
      "+--------+----------------+-------------------+\n",
      "|item_num|Item Description|Category Name Clean|\n",
      "+--------+----------------+-------------------+\n",
      "|11296   |Crown Royal     |Canadian Whiskey   |\n",
      "+--------+----------------+-------------------+\n",
      "\n"
     ]
    }
   ],
   "source": [
    "df.filter(df.item_num=='11296').select(\"item_num\", 'Item Description','Category Name Clean').dropDuplicates().show(truncate = False)"
   ]
  },
  {
   "cell_type": "code",
   "execution_count": 95,
   "metadata": {},
   "outputs": [
    {
     "name": "stdout",
     "output_type": "stream",
     "text": [
      "+-----------+------------------------------------+---------------------+---------------+\n",
      "|store_num_b|Name                                |Address              |City           |\n",
      "+-----------+------------------------------------+---------------------+---------------+\n",
      "|2507       |Hy-Vee Food Store #1 / Burlington   |939 Angular          |Burlington     |\n",
      "|3645       |Wal-Mart 1764 / Windsor Heights     |1001  73rd St        |Windsor Heights|\n",
      "|3776       |Wal-Mart 5115 / Davenport           |3101 West Kimberly Rd|Davenport      |\n",
      "|3644       |Wal-Mart 2764 / Altoona             |3501  8th St SW      |Altoona        |\n",
      "|4014       |Wal-Mart 1732 / Denison             |510 C Ave            |Denison        |\n",
      "|3769       |Wal-Mart 0753 / Cedar Fall          |525 Brandilynn Blvd  |Cedar Falls    |\n",
      "|3696       |Wal-Mart 1723 / Des Moines          |5101 SE 14th St      |Des Moines     |\n",
      "|5575       |Casey's General Store #2919 / Marion|340 Marion Blvd      |Marion         |\n",
      "|3663       |Wal-Mart 1496 / Waterloo            |1334 Flammang Dr     |Waterloo       |\n",
      "|5899       |Fort Dodge Smoke Shop               |1923 5th Ave S       |Fort Dodge     |\n",
      "+-----------+------------------------------------+---------------------+---------------+\n",
      "\n"
     ]
    }
   ],
   "source": [
    "liquor_store_clean.filter(liquor_store_clean[\"store_num_b\"].isin(rec_store_top10_item['11296'])).select(\"store_num_b\", \n",
    "                        \"Name\", \"Address\",\"City\").show(truncate = False)"
   ]
  },
  {
   "cell_type": "code",
   "execution_count": 96,
   "metadata": {},
   "outputs": [
    {
     "name": "stdout",
     "output_type": "stream",
     "text": [
      "+--------+---------------------------+-------------------+\n",
      "|item_num|Item Description           |Category Name Clean|\n",
      "+--------+---------------------------+-------------------+\n",
      "|11297   |Crown Royal Canadian Whisky|Canadian Whiskey   |\n",
      "|11297   |Crown Royal                |Canadian Whiskey   |\n",
      "+--------+---------------------------+-------------------+\n",
      "\n"
     ]
    }
   ],
   "source": [
    "df.filter(df.item_num=='11297').select(\"item_num\", 'Item Description','Category Name Clean').dropDuplicates().show(truncate = False)"
   ]
  },
  {
   "cell_type": "code",
   "execution_count": 97,
   "metadata": {
    "scrolled": false
   },
   "outputs": [
    {
     "name": "stdout",
     "output_type": "stream",
     "text": [
      "+-----------+---------------------------------+----------------------+------------+\n",
      "|store_num_b|Name                             |Address               |City        |\n",
      "+-----------+---------------------------------+----------------------+------------+\n",
      "|3524       |Sam's Club 6568 / Ames           |305 Airport Rd        |Ames        |\n",
      "|5020       |Petromart Stanwood               |1118, Highway 30      |Stanwood    |\n",
      "|4957       |Kimmes Wall Lake Country Store   |129 Center St         |Wall Lake   |\n",
      "|5690       |Dyno's #42 / Sac City            |210 W Main St         |Sac City    |\n",
      "|5053       |Cork & Bottle / Iowa City        |610, Eastbury Dr      |Iowa City   |\n",
      "|3447       |Sam's Club 6432 / Sioux City     |4201 S. York St.      |Sioux City  |\n",
      "|3494       |Sam's Club 6514 / Waterloo       |210 East Tower Park Dr|Waterloo    |\n",
      "|5457       |ThuLords                         |405 Broad St          |Whittemore  |\n",
      "|5178       |New York Dollar Stores           |320, N Calhoun St     |West Liberty|\n",
      "|5675       |10th Hole Inn & Suite / Gift Shop|402 E Main St STE A   |Riceville   |\n",
      "+-----------+---------------------------------+----------------------+------------+\n",
      "\n"
     ]
    }
   ],
   "source": [
    "liquor_store_clean.filter(liquor_store_clean[\"store_num_b\"].isin(rec_store_top10_item['11297'])).select(\"store_num_b\", \n",
    "                        \"Name\", \"Address\",\"City\").show(truncate = False)"
   ]
  },
  {
   "cell_type": "code",
   "execution_count": 98,
   "metadata": {},
   "outputs": [
    {
     "name": "stdout",
     "output_type": "stream",
     "text": [
      "+--------+----------------+-------------------+\n",
      "|item_num|Item Description|Category Name Clean|\n",
      "+--------+----------------+-------------------+\n",
      "|11788   |Black Velvet    |Canadian Whiskey   |\n",
      "+--------+----------------+-------------------+\n",
      "\n"
     ]
    }
   ],
   "source": [
    "df.filter(df.item_num=='11788').select(\"item_num\", 'Item Description','Category Name Clean')\\\n",
    "                                       .dropDuplicates().show(truncate = False)"
   ]
  },
  {
   "cell_type": "code",
   "execution_count": 99,
   "metadata": {},
   "outputs": [
    {
     "name": "stdout",
     "output_type": "stream",
     "text": [
      "+-----------+--------------------------------+---------------------+------------+\n",
      "|store_num_b|Name                            |Address              |City        |\n",
      "+-----------+--------------------------------+---------------------+------------+\n",
      "|2584       |Hy-Vee Food Store / Fort Madison|2606 Avenue L        |Fort Madison|\n",
      "|3592       |Wal-Mart 0886 / Fort Dodge      |3036 1st Ave South   |Fort Dodge  |\n",
      "|3776       |Wal-Mart 5115 / Davenport       |3101 West Kimberly Rd|Davenport   |\n",
      "|3644       |Wal-Mart 2764 / Altoona         |3501  8th St SW      |Altoona     |\n",
      "|4014       |Wal-Mart 1732 / Denison         |510 C Ave            |Denison     |\n",
      "|3769       |Wal-Mart 0753 / Cedar Fall      |525 Brandilynn Blvd  |Cedar Falls |\n",
      "|3696       |Wal-Mart 1723 / Des Moines      |5101 SE 14th St      |Des Moines  |\n",
      "|3549       |Quicker Liquor Store            |1414 48th St         |Fort Madison|\n",
      "|3663       |Wal-Mart 1496 / Waterloo        |1334 Flammang Dr     |Waterloo    |\n",
      "|4346       |Roy's Foodland                  |105 Pearl St         |Shellsburg  |\n",
      "+-----------+--------------------------------+---------------------+------------+\n",
      "\n"
     ]
    }
   ],
   "source": [
    "liquor_store_clean.filter(liquor_store_clean[\"store_num_b\"].isin(rec_store_top10_item['11788'])).select(\"store_num_b\", \n",
    "                        \"Name\", \"Address\",\"City\").show(truncate = False)"
   ]
  },
  {
   "cell_type": "code",
   "execution_count": 100,
   "metadata": {},
   "outputs": [
    {
     "name": "stdout",
     "output_type": "stream",
     "text": [
      "+--------+-------------------------------------+-------------------+\n",
      "|item_num|Item Description                     |Category Name Clean|\n",
      "+--------+-------------------------------------+-------------------+\n",
      "|1799    |Captain Morgan Original Spiced Barrel|Spiced Rum         |\n",
      "|1799    |Captain Morgan Spiced Barrel         |Spiced Rum         |\n",
      "+--------+-------------------------------------+-------------------+\n",
      "\n"
     ]
    }
   ],
   "source": [
    "df.filter(df.item_num=='1799').select(\"item_num\", 'Item Description','Category Name Clean').dropDuplicates().show(truncate = False)"
   ]
  },
  {
   "cell_type": "code",
   "execution_count": 101,
   "metadata": {
    "scrolled": true
   },
   "outputs": [
    {
     "name": "stdout",
     "output_type": "stream",
     "text": [
      "+-----------+---------------------------------------+---------------------------+--------------+\n",
      "|store_num_b|Name                                   |Address                    |City          |\n",
      "+-----------+---------------------------------------+---------------------------+--------------+\n",
      "|5082       |Casey's General Store #2365 / Atlant   |911 SW 7th St              |Atlantic      |\n",
      "|5192       |Guppy's On the Go  /  Robins           |990, Robins Square Dr      |Robins        |\n",
      "|5796       |Casey's General Store #1541 / West Bend|316 2nd Ave NE             |West Bend     |\n",
      "|5053       |Cork & Bottle / Iowa City              |610, Eastbury Dr           |Iowa City     |\n",
      "|5554       |Blairstown Quick Stop                  |321 Locust St NW           |Blairstown    |\n",
      "|5721       |West Main Liquor                       |306 West Main Street Unit C|Calmar        |\n",
      "|5853       |R & R Town Mart / Rudd                 |522 Chickasaw St           |Rudd          |\n",
      "|5629       |The Ville                              |111 W Main St              |Riceville     |\n",
      "|5925       |Fredricksburg Food Center              |100 W Main St              |Fredericksburg|\n",
      "|5675       |10th Hole Inn & Suite / Gift Shop      |402 E Main St STE A        |Riceville     |\n",
      "+-----------+---------------------------------------+---------------------------+--------------+\n",
      "\n"
     ]
    }
   ],
   "source": [
    "liquor_store_clean.filter(liquor_store_clean[\"store_num_b\"].isin(rec_store_top10_item['1799'])).select(\"store_num_b\", \n",
    "                        \"Name\", \"Address\",\"City\").show(truncate = False)"
   ]
  },
  {
   "cell_type": "code",
   "execution_count": 102,
   "metadata": {},
   "outputs": [
    {
     "name": "stdout",
     "output_type": "stream",
     "text": [
      "+--------+-------------------------------+-------------------+\n",
      "|item_num|Item Description               |Category Name Clean|\n",
      "+--------+-------------------------------+-------------------+\n",
      "|26826   |Jack Daniels Old #7 Black Lbl  |Tennessee Whiskey  |\n",
      "|26826   |Jack Daniels Old #7 Black Label|Tennessee Whiskey  |\n",
      "+--------+-------------------------------+-------------------+\n",
      "\n"
     ]
    }
   ],
   "source": [
    "df.filter(df.item_num=='26826').select(\"item_num\", 'Item Description','Category Name Clean').dropDuplicates().show(truncate = False)"
   ]
  },
  {
   "cell_type": "code",
   "execution_count": 103,
   "metadata": {},
   "outputs": [
    {
     "name": "stdout",
     "output_type": "stream",
     "text": [
      "+-----------+---------------------------------+-------------------+---------------+\n",
      "|store_num_b|Name                             |Address            |City           |\n",
      "+-----------+---------------------------------+-------------------+---------------+\n",
      "|2507       |Hy-Vee Food Store #1 / Burlington|939 Angular        |Burlington     |\n",
      "|3645       |Wal-Mart 1764 / Windsor Heights  |1001  73rd St      |Windsor Heights|\n",
      "|4004       |Wal-Mart 4256 / Ames             |534 S Duff Ave     |Ames           |\n",
      "|4447       |QUIK TRIP #567 / URBANDALE       |9915 Douglas Ave   |Urbandale      |\n",
      "|3644       |Wal-Mart 2764 / Altoona          |3501  8th St SW    |Altoona        |\n",
      "|4014       |Wal-Mart 1732 / Denison          |510 C Ave          |Denison        |\n",
      "|3769       |Wal-Mart 0753 / Cedar Fall       |525 Brandilynn Blvd|Cedar Falls    |\n",
      "|3696       |Wal-Mart 1723 / Des Moines       |5101 SE 14th St    |Des Moines     |\n",
      "|3663       |Wal-Mart 1496 / Waterloo         |1334 Flammang Dr   |Waterloo       |\n",
      "|5899       |Fort Dodge Smoke Shop            |1923 5th Ave S     |Fort Dodge     |\n",
      "+-----------+---------------------------------+-------------------+---------------+\n",
      "\n"
     ]
    }
   ],
   "source": [
    "liquor_store_clean.filter(liquor_store_clean[\"store_num_b\"].isin(rec_store_top10_item['26826'])).select(\"store_num_b\", \n",
    "                        \"Name\", \"Address\",\"City\").show(truncate = False)"
   ]
  },
  {
   "cell_type": "code",
   "execution_count": 104,
   "metadata": {},
   "outputs": [
    {
     "name": "stdout",
     "output_type": "stream",
     "text": [
      "+--------+-------------------------------+-------------------+\n",
      "|item_num|Item Description               |Category Name Clean|\n",
      "+--------+-------------------------------+-------------------+\n",
      "|26827   |Jack Daniels Old #7 Black Lbl  |Tennessee Whiskey  |\n",
      "|26827   |Jack Daniels Old #7 Black Label|Tennessee Whiskey  |\n",
      "+--------+-------------------------------+-------------------+\n",
      "\n"
     ]
    }
   ],
   "source": [
    "df.filter(df.item_num=='26827').select(\"item_num\", 'Item Description','Category Name Clean').dropDuplicates().show(truncate = False)"
   ]
  },
  {
   "cell_type": "code",
   "execution_count": 105,
   "metadata": {},
   "outputs": [
    {
     "name": "stdout",
     "output_type": "stream",
     "text": [
      "+-----------+---------------------------------+----------------------+------------+\n",
      "|store_num_b|Name                             |Address               |City        |\n",
      "+-----------+---------------------------------+----------------------+------------+\n",
      "|3524       |Sam's Club 6568 / Ames           |305 Airport Rd        |Ames        |\n",
      "|4957       |Kimmes Wall Lake Country Store   |129 Center St         |Wall Lake   |\n",
      "|5690       |Dyno's #42 / Sac City            |210 W Main St         |Sac City    |\n",
      "|5053       |Cork & Bottle / Iowa City        |610, Eastbury Dr      |Iowa City   |\n",
      "|3447       |Sam's Club 6432 / Sioux City     |4201 S. York St.      |Sioux City  |\n",
      "|5144       |Sam's Club 6979 / Ankeny         |4625 SE Delaware Ave  |Ankeny      |\n",
      "|3494       |Sam's Club 6514 / Waterloo       |210 East Tower Park Dr|Waterloo    |\n",
      "|5457       |ThuLords                         |405 Broad St          |Whittemore  |\n",
      "|5178       |New York Dollar Stores           |320, N Calhoun St     |West Liberty|\n",
      "|5675       |10th Hole Inn & Suite / Gift Shop|402 E Main St STE A   |Riceville   |\n",
      "+-----------+---------------------------------+----------------------+------------+\n",
      "\n"
     ]
    }
   ],
   "source": [
    "liquor_store_clean.filter(liquor_store_clean[\"store_num_b\"].isin(rec_store_top10_item[\"26827\"])).select(\"store_num_b\", \n",
    "                        \"Name\", \"Address\",\"City\").show(truncate = False)"
   ]
  },
  {
   "cell_type": "code",
   "execution_count": 106,
   "metadata": {},
   "outputs": [
    {
     "name": "stdout",
     "output_type": "stream",
     "text": [
      "+--------+----------------+-------------------+\n",
      "|item_num|Item Description|Category Name Clean|\n",
      "+--------+----------------+-------------------+\n",
      "|36308   |Hawkeye Vodka   |American Vodka     |\n",
      "|36308   |Hawkeye Vodka   |Vodka 80 Proof     |\n",
      "+--------+----------------+-------------------+\n",
      "\n"
     ]
    }
   ],
   "source": [
    "df.filter(df.item_num=='36308').select(\"item_num\", 'Item Description','Category Name Clean').dropDuplicates().show(truncate = False)"
   ]
  },
  {
   "cell_type": "code",
   "execution_count": 107,
   "metadata": {
    "scrolled": true
   },
   "outputs": [
    {
     "name": "stdout",
     "output_type": "stream",
     "text": [
      "+-----------+-------------------------------+-----------------------+---------------+\n",
      "|store_num_b|Name                           |Address                |City           |\n",
      "+-----------+-------------------------------+-----------------------+---------------+\n",
      "|3722       |Wal-Mart 1361 / Sioux City     |3400 Singing Hills Blvd|Sioux City     |\n",
      "|3645       |Wal-Mart 1764 / Windsor Heights|1001  73rd St          |Windsor Heights|\n",
      "|3592       |Wal-Mart 0886 / Fort Dodge     |3036 1st Ave South     |Fort Dodge     |\n",
      "|4004       |Wal-Mart 4256 / Ames           |534 S Duff Ave         |Ames           |\n",
      "|3776       |Wal-Mart 5115 / Davenport      |3101 West Kimberly Rd  |Davenport      |\n",
      "|3644       |Wal-Mart 2764 / Altoona        |3501  8th St SW        |Altoona        |\n",
      "|4014       |Wal-Mart 1732 / Denison        |510 C Ave              |Denison        |\n",
      "|3769       |Wal-Mart 0753 / Cedar Fall     |525 Brandilynn Blvd    |Cedar Falls    |\n",
      "|3696       |Wal-Mart 1723 / Des Moines     |5101 SE 14th St        |Des Moines     |\n",
      "|3663       |Wal-Mart 1496 / Waterloo       |1334 Flammang Dr       |Waterloo       |\n",
      "+-----------+-------------------------------+-----------------------+---------------+\n",
      "\n"
     ]
    }
   ],
   "source": [
    "liquor_store_clean.filter(liquor_store_clean[\"store_num_b\"].isin(rec_store_top10_item['36308'])).select(\"store_num_b\", \n",
    "                        \"Name\", \"Address\",\"City\").show(truncate = False)"
   ]
  },
  {
   "cell_type": "markdown",
   "metadata": {},
   "source": [
    "### Implicit ALS\n",
    "As the rating matrix is derived from another source of information (i.e. it is inferred from product sales as percentage of store total sales), we set implicitPrefs to true to see how it performs.\n",
    "\n",
    "For this model, instead of using the rating column (a column transformed by QuantileDiscretizerizing Percentage of Total Store Sales), we are using the Percentage of Total Store Sales the column itself."
   ]
  },
  {
   "cell_type": "code",
   "execution_count": 108,
   "metadata": {},
   "outputs": [],
   "source": [
    "\n",
    "# Note we set cold start strategy to 'drop' to ensure we don't get NaN evaluation metrics\n",
    "als_imp = ALS(maxIter=10, regParam=0.01, implicitPrefs=True, userCol=\"Store\", itemCol=\"item_num\", \n",
    "              ratingCol=\"perc_of_store_total_sale\",\n",
    "          coldStartStrategy=\"drop\", nonnegative = True)\n"
   ]
  },
  {
   "cell_type": "code",
   "execution_count": 109,
   "metadata": {},
   "outputs": [],
   "source": [
    "#fit model\n",
    "model_imp = als_imp.fit(training)"
   ]
  },
  {
   "cell_type": "code",
   "execution_count": 110,
   "metadata": {},
   "outputs": [],
   "source": [
    "# Apply model on the test set to predict \n",
    "predictions_imp = model_imp.transform(test)"
   ]
  },
  {
   "cell_type": "code",
   "execution_count": 111,
   "metadata": {},
   "outputs": [
    {
     "data": {
      "text/plain": [
       "'coldStartStrategy: strategy for dealing with unknown or new users/items at prediction time. This may be useful in cross-validation or production scenarios, for handling user/item ids the model has not seen in the training data. Supported values: nan,drop. (default: nan, current: drop)\\nitemCol: column name for item ids. Ids must be within the integer value range. (default: item, current: item_num)\\npredictionCol: prediction column name (default: prediction)\\nuserCol: column name for user ids. Ids must be within the integer value range. (default: user, current: Store)'"
      ]
     },
     "execution_count": 111,
     "metadata": {},
     "output_type": "execute_result"
    }
   ],
   "source": [
    "#explain parameters of the model\n",
    "model_imp.explainParams()"
   ]
  },
  {
   "cell_type": "code",
   "execution_count": 112,
   "metadata": {},
   "outputs": [
    {
     "name": "stdout",
     "output_type": "stream",
     "text": [
      "+---+--------------------------------------------------------------------------------------------------------------------+\n",
      "|id |features                                                                                                            |\n",
      "+---+--------------------------------------------------------------------------------------------------------------------+\n",
      "|160|[0.0, 0.051229566, 0.0, 0.0034925682, 0.0, 0.08537091, 0.0, 0.02805142, 0.030124618, 0.0]                           |\n",
      "|220|[0.0, 0.054519143, 0.0, 0.0, 0.0, 0.096707225, 0.0, 0.0, 0.0, 0.0]                                                  |\n",
      "|250|[5.4738927E-4, 0.0, 0.0, 0.0012837213, 0.0, 0.055962477, 0.0, 0.011006589, 0.0, 0.0]                                |\n",
      "|430|[3.040627E-5, 0.0, 0.0, 0.36154985, 0.0, 0.0522809, 0.0, 0.0, 0.0, 0.0]                                             |\n",
      "|470|[0.0, 0.20460382, 0.07106565, 0.52246356, 0.003693969, 0.21560815, 0.0077198595, 0.22964433, 0.18124579, 0.10420551]|\n",
      "|490|[0.0012321548, 0.2585866, 0.007357442, 0.027171498, 0.0, 0.27428597, 0.0, 0.0, 0.0061031673, 0.0]                   |\n",
      "|500|[0.0, 0.0042500193, 0.0, 0.0062343413, 0.0, 0.071106695, 0.0, 0.049014922, 0.030283857, 0.0]                        |\n",
      "|550|[0.0, 0.0, 0.0012960728, 0.0038924422, 0.0, 0.09571959, 0.0, 0.009968499, 0.0, 0.013368217]                         |\n",
      "|580|[0.0, 0.0, 0.0, 0.2599259, 0.0, 0.0, 0.0, 0.0, 0.0, 0.0]                                                            |\n",
      "|680|[0.0, 0.21680893, 0.0012619422, 0.0, 0.0, 0.05519837, 0.004345927, 0.0, 0.0, 0.0]                                   |\n",
      "+---+--------------------------------------------------------------------------------------------------------------------+\n",
      "only showing top 10 rows\n",
      "\n"
     ]
    }
   ],
   "source": [
    "#item factors \n",
    "model_imp.itemFactors.show(10, truncate = False)"
   ]
  },
  {
   "cell_type": "code",
   "execution_count": 113,
   "metadata": {},
   "outputs": [],
   "source": [
    "#liquor_store_clean = liquor_store_clean.withColumnRenamed(\"Store\", \"store_num_b\")"
   ]
  },
  {
   "cell_type": "markdown",
   "metadata": {},
   "source": [
    "#### See what the model predicts"
   ]
  },
  {
   "cell_type": "code",
   "execution_count": 114,
   "metadata": {},
   "outputs": [],
   "source": [
    "predictions_imp = predictions_imp.join(liquor_store_clean,liquor_store_clean.store_num_b== predictions.Store)"
   ]
  },
  {
   "cell_type": "code",
   "execution_count": 115,
   "metadata": {},
   "outputs": [
    {
     "name": "stdout",
     "output_type": "stream",
     "text": [
      "+-----+--------+------+------------------------+-----------+-----------+--------------------+------------+------------------+---------------+-----+--------+--------------------+-----------+\n",
      "|Store|item_num|rating|perc_of_store_total_sale| prediction|store_num_b|                Name|Store Status|           Address|           City|State|Zip Code|       Store Address|Report Date|\n",
      "+-----+--------+------+------------------------+-----------+-----------+--------------------+------------+------------------+---------------+-----+--------+--------------------+-----------+\n",
      "| 3698|   10623|   0.0|    4.750013577122141E-6|0.048487708|       3698|Ingersoll Wine Me...|           A|     1300  50th St|West Des Moines|   IA|   50266|POINT (-93.771159...| 04/01/2020|\n",
      "| 4295|   10623|   0.0|     3.65156058143765E-5|0.090148866|       4295|Nat Food Mart #1 ...|           I|      3804 Hubbell|     Des Moines|   IA|   50317|POINT (-93.541351...| 04/01/2020|\n",
      "| 4545|   10623|   0.0|    1.892105279021528...|0.023556076|       4545|           Fill R Up|           I|  14151 Wabash Ave| Council Bluffs|   IA|   51503|POINT (-95.817909...| 04/01/2020|\n",
      "| 2290|   10623|   0.0|    7.363685507009042...|0.076922834|       2290|Al's Liquors Unli...|           I|215 West Milwaukee|     Storm Lake|   IA|   50588|POINT (-95.202405...| 04/01/2020|\n",
      "| 4077|   10623|   0.0|    1.870078847527492...| 0.06517759|       4077|  Xo Food And Liquor|           A|   428 Franklin St|       Waterloo|   IA|   50703|POINT (-92.334641...| 04/01/2020|\n",
      "+-----+--------+------+------------------------+-----------+-----------+--------------------+------------+------------------+---------------+-----+--------+--------------------+-----------+\n",
      "only showing top 5 rows\n",
      "\n"
     ]
    }
   ],
   "source": [
    "predictions_imp.show(5)"
   ]
  },
  {
   "cell_type": "code",
   "execution_count": 116,
   "metadata": {},
   "outputs": [
    {
     "name": "stdout",
     "output_type": "stream",
     "text": [
      "+-----+--------+------+------------------------+-----------+-----------+--------------------------+------------+----------------+---------------+-----+--------+------------------------------------+-----------+\n",
      "|Store|item_num|rating|perc_of_store_total_sale|prediction |store_num_b|Name                      |Store Status|Address         |City           |State|Zip Code|Store Address                       |Report Date|\n",
      "+-----+--------+------+------------------------+-----------+-----------+--------------------------+------------+----------------+---------------+-----+--------+------------------------------------+-----------+\n",
      "|3698 |10623   |0.0   |4.750013577122141E-6    |0.048487708|3698       |Ingersoll Wine Merchants  |A           |1300  50th St   |West Des Moines|IA   |50266   |POINT (-93.771159 41.590871)        |04/01/2020 |\n",
      "|4295 |10623   |0.0   |3.65156058143765E-5     |0.090148866|4295       |Nat Food Mart #1 / Hubbell|I           |3804 Hubbell    |Des Moines     |IA   |50317   |POINT (-93.541351 41.630849)        |04/01/2020 |\n",
      "|4545 |10623   |0.0   |1.8921052790215288E-5   |0.023556076|4545       |Fill R Up                 |I           |14151 Wabash Ave|Council Bluffs |IA   |51503   |POINT (-95.81790900000001 41.220431)|04/01/2020 |\n",
      "+-----+--------+------+------------------------+-----------+-----------+--------------------------+------------+----------------+---------------+-----+--------+------------------------------------+-----------+\n",
      "only showing top 3 rows\n",
      "\n"
     ]
    }
   ],
   "source": [
    "predictions_imp =predictions_imp.na.drop()\n",
    "predictions_imp.show(3, truncate = False)"
   ]
  },
  {
   "cell_type": "markdown",
   "metadata": {},
   "source": [
    "#### Prediction Performance"
   ]
  },
  {
   "cell_type": "code",
   "execution_count": 133,
   "metadata": {},
   "outputs": [
    {
     "name": "stdout",
     "output_type": "stream",
     "text": [
      "Root-mean-square error = 0.48240176621\n"
     ]
    }
   ],
   "source": [
    "evaluator = RegressionEvaluator(metricName='rmse', labelCol='perc_of_store_total_sale')\n",
    "rmse_imp = evaluator.evaluate(predictions_imp)\n",
    "print(\"Root-mean-square error = \" + str(rmse_imp))"
   ]
  },
  {
   "cell_type": "code",
   "execution_count": 118,
   "metadata": {},
   "outputs": [],
   "source": [
    "userRecs_imp = model_imp.recommendForAllUsers(10)"
   ]
  },
  {
   "cell_type": "code",
   "execution_count": 119,
   "metadata": {},
   "outputs": [
    {
     "name": "stdout",
     "output_type": "stream",
     "text": [
      "+-----+------------------------------------------------------------------------------------------------------------------------------------------------------------------------------------------------------------+\n",
      "|Store|recommendations                                                                                                                                                                                             |\n",
      "+-----+------------------------------------------------------------------------------------------------------------------------------------------------------------------------------------------------------------+\n",
      "|4900 |[[89193, 1.0120503], [49189, 1.0109377], [49185, 1.0046719], [36903, 1.0030771], [48099, 0.9988279], [53213, 0.9939643], [26823, 0.9802368], [11773, 0.9775729], [43333, 0.9661156], [35913, 0.96293867]]   |\n",
      "|5300 |[[26821, 0.7096183], [37994, 0.69815487], [26826, 0.69717896], [11290, 0.6882901], [43331, 0.6870129], [64866, 0.6850258], [11294, 0.68019557], [11774, 0.6794355], [64858, 0.67601943], [64864, 0.6743206]]|\n",
      "+-----+------------------------------------------------------------------------------------------------------------------------------------------------------------------------------------------------------------+\n",
      "only showing top 2 rows\n",
      "\n"
     ]
    }
   ],
   "source": [
    "userRecs_imp.show(2, truncate=False)"
   ]
  },
  {
   "cell_type": "markdown",
   "metadata": {},
   "source": [
    "#### Generate top 10 liquor store recommendations for each liquor product\n",
    "The ALS function recommend these liquor stores to liquor items to sell to based on our customed ratings"
   ]
  },
  {
   "cell_type": "code",
   "execution_count": 120,
   "metadata": {},
   "outputs": [],
   "source": [
    "liquorRecs_imp = model_imp.recommendForAllItems(10)"
   ]
  },
  {
   "cell_type": "code",
   "execution_count": 121,
   "metadata": {},
   "outputs": [
    {
     "name": "stdout",
     "output_type": "stream",
     "text": [
      "+--------+-------------------------------------------------------------------------------------------------------------------------------------------------------------------------------------------------------+\n",
      "|item_num|recommendations                                                                                                                                                                                        |\n",
      "+--------+-------------------------------------------------------------------------------------------------------------------------------------------------------------------------------------------------------+\n",
      "|21220   |[[2619, 0.22014774], [2614, 0.20923689], [2643, 0.20775041], [2603, 0.20030355], [2665, 0.19950663], [2648, 0.19860944], [2515, 0.19681376], [2512, 0.1955989], [2590, 0.19223362], [2538, 0.19113725]]|\n",
      "|32460   |[[3773, 0.2162186], [4129, 0.18812409], [2538, 0.18042792], [3869, 0.17780903], [2190, 0.17657104], [2648, 0.17634706], [2619, 0.17563295], [2643, 0.17469415], [4988, 0.17314237], [2666, 0.17279202]]|\n",
      "+--------+-------------------------------------------------------------------------------------------------------------------------------------------------------------------------------------------------------+\n",
      "only showing top 2 rows\n",
      "\n"
     ]
    }
   ],
   "source": [
    "liquorRecs_imp.show(2, truncate=False)"
   ]
  },
  {
   "cell_type": "markdown",
   "metadata": {},
   "source": [
    "#### Let's see what are some liquor product recommended to the top-10 selling liquor stores (Implicit ALS )"
   ]
  },
  {
   "cell_type": "code",
   "execution_count": 122,
   "metadata": {},
   "outputs": [
    {
     "data": {
      "text/plain": [
       "[2633, 4829, 2512, 3385, 3420, 3814, 3952, 3354, 3773, 2190]"
      ]
     },
     "execution_count": 122,
     "metadata": {},
     "output_type": "execute_result"
    }
   ],
   "source": [
    "#Get the store number of top 10 stores by total sales in dollars\n",
    "top10_store_list "
   ]
  },
  {
   "cell_type": "code",
   "execution_count": 123,
   "metadata": {},
   "outputs": [],
   "source": [
    "# collect the recommendations to top 10 stores by total sales in dollars\n",
    "rec_liquor_top10_store_imp ={}\n",
    "for store in top10_store_list:\n",
    "    rec_liquor_imp = userRecs_imp.where(userRecs_imp.Store == store).select(\"recommendations\").collect()\n",
    "    rec_liquor_top10_store_imp[store] = [i.item_num for i in rec_liquor_imp[0][\"recommendations\"]]"
   ]
  },
  {
   "cell_type": "code",
   "execution_count": 124,
   "metadata": {
    "scrolled": true
   },
   "outputs": [
    {
     "data": {
      "text/plain": [
       "{2190: [16850, 18348, 49186, 88291, 5747, 21236, 89610, 18006, 89175, 88186],\n",
       " 2512: [18348, 21236, 89610, 5133, 22175, 34244, 18006, 16850, 27100, 67595],\n",
       " 2633: [18348, 16850, 64776, 27605, 27125, 16676, 15658, 21236, 75165, 5747],\n",
       " 3354: [42717, 34007, 19067, 41694, 82607, 43127, 82847, 65257, 10627, 82787],\n",
       " 3385: [42717, 34007, 19067, 82607, 41694, 43127, 82847, 65257, 82787, 11297],\n",
       " 3420: [42717, 34007, 19067, 41694, 82607, 43127, 82847, 65257, 10627, 11297],\n",
       " 3773: [18348, 16850, 5747, 27125, 15658, 27605, 75165, 27100, 28279, 5635],\n",
       " 3814: [41694, 19067, 42717, 10627, 34007, 43127, 82607, 86887, 65257, 82847],\n",
       " 3952: [19067, 41694, 42717, 43127, 10627, 34007, 28867, 67527, 65257, 82607],\n",
       " 4829: [19067, 38177, 28867, 64776, 41694, 67527, 10627, 42717, 43127, 80096]}"
      ]
     },
     "execution_count": 124,
     "metadata": {},
     "output_type": "execute_result"
    }
   ],
   "source": [
    "rec_liquor_top10_store_imp"
   ]
  },
  {
   "cell_type": "markdown",
   "metadata": {},
   "source": [
    "#### Here are most recommended Liquor Product for top_10 Liquor stores  (Implicit ALS )"
   ]
  },
  {
   "cell_type": "code",
   "execution_count": 125,
   "metadata": {
    "scrolled": true
   },
   "outputs": [
    {
     "name": "stdout",
     "output_type": "stream",
     "text": [
      "+-----------+-------------------------+\n",
      "|store_num_b|Name                     |\n",
      "+-----------+-------------------------+\n",
      "|2190       |Central City Liquor, Inc.|\n",
      "+-----------+-------------------------+\n",
      "\n"
     ]
    }
   ],
   "source": [
    "liquor_store_clean.filter(liquor_store_clean.store_num_b==2190).select('store_num_b', \"Name\")\\\n",
    ".show(truncate = False)"
   ]
  },
  {
   "cell_type": "code",
   "execution_count": 126,
   "metadata": {},
   "outputs": [
    {
     "name": "stdout",
     "output_type": "stream",
     "text": [
      "+-----------+---------------------------+-----------------------------+\n",
      "|Item Number|Item Description           |Category Name Clean          |\n",
      "+-----------+---------------------------+-----------------------------+\n",
      "|88186      |Olmeca Altos Plata         |100% Agave Tequila           |\n",
      "|89610      |Olmeca Altos Reposado      |100% Agave Tequila           |\n",
      "|89175      |Don Julio Anejo Tequila    |100% Agave Tequila           |\n",
      "|88291      |Patron Tequila Silver Mini |100% Agave Tequila           |\n",
      "|89175      |Don Julio Anejo Tequila    |Tequila                      |\n",
      "|49186      |Remy Martin VSOP           |Imported Brandy              |\n",
      "|16850      |Blanton's Bourbon          |Straight Bourbon Whiskey     |\n",
      "|49186      |Remy Martin Vsop Cognac    |Imported Brandy              |\n",
      "|5747       |Johnnie Walker White Walker|Temporary & Specialty Package|\n",
      "|18348      |Four Roses Small Batch     |Straight Bourbon Whiskey     |\n",
      "|16850      |Blantons Bourbon           |Straight Bourbon Whiskey     |\n",
      "|89610      |Olmeca Altos Reposado      |null                         |\n",
      "|88186      |Olmeca Altos Plata         |Tequila                      |\n",
      "|49186      |Remy Martin Vsop Cognac    |Imported Grape Brandy        |\n",
      "|21236      |Ridgemont Reserve 1792     |Straight Bourbon Whiskey     |\n",
      "|88291      |Patron Silver Mini         |100% Agave Tequila           |\n",
      "|89175      |Don Julio Anejo            |100% Agave Tequila           |\n",
      "|5747       |Johnnie Walker White Walker|Scotch Whiskey               |\n",
      "|18006      |Buffalo Trace Bourbon      |Straight Bourbon Whiskey     |\n",
      "|88291      |Patron Tequila Silver Mini |Tequila                      |\n",
      "+-----------+---------------------------+-----------------------------+\n",
      "only showing top 20 rows\n",
      "\n"
     ]
    }
   ],
   "source": [
    "liquor_product_list.filter(liquor_product_list[\"Item Number\"].isin(rec_liquor_top10_store_imp[2190]))\\\n",
    ".show(truncate = False)"
   ]
  },
  {
   "cell_type": "code",
   "execution_count": 134,
   "metadata": {
    "scrolled": true
   },
   "outputs": [
    {
     "name": "stdout",
     "output_type": "stream",
     "text": [
      "+-----------+-----------------------------------+\n",
      "|store_num_b|Name                               |\n",
      "+-----------+-----------------------------------+\n",
      "|2512       |Hy-Vee Wine and Spirits / Iowa City|\n",
      "+-----------+-----------------------------------+\n",
      "\n"
     ]
    }
   ],
   "source": [
    "liquor_store_clean.filter(liquor_store_clean.store_num_b== 2512).select('store_num_b', \"Name\")\\\n",
    ".show(truncate = False)"
   ]
  },
  {
   "cell_type": "code",
   "execution_count": 135,
   "metadata": {},
   "outputs": [
    {
     "name": "stdout",
     "output_type": "stream",
     "text": [
      "+-----------+-------------------------------------+------------------------+\n",
      "|Item Number|Item Description                     |Category Name Clean     |\n",
      "+-----------+-------------------------------------+------------------------+\n",
      "|89610      |Olmeca Altos Reposado                |100% Agave Tequila      |\n",
      "|67595      |Patron Xo Cafe                       |Coffee Liqueur          |\n",
      "|67595      |Patron XO Cafe                       |Coffee Liqueur          |\n",
      "|22175      |Russells Reserve 10YR                |Straight Bourbon Whiskey|\n",
      "|22175      |Russell's Reserve 10YR               |Straight Bourbon Whiskey|\n",
      "|5133       |Glenmorangie 10 Yr Single Malt Scotch|Irish Whiskey           |\n",
      "|5133       |Glenmorangie 10 Yr Single Malt Scotch|Single Malt Scotch      |\n",
      "|16850      |Blanton's Bourbon                    |Straight Bourbon Whiskey|\n",
      "|18348      |Four Roses Small Batch               |Straight Bourbon Whiskey|\n",
      "|16850      |Blantons Bourbon                     |Straight Bourbon Whiskey|\n",
      "|89610      |Olmeca Altos Reposado                |null                    |\n",
      "|27100      |Sazerac Rye                          |Straight Rye Whiskey    |\n",
      "|21236      |Ridgemont Reserve 1792               |Straight Bourbon Whiskey|\n",
      "|18006      |Buffalo Trace Bourbon                |Straight Bourbon Whiskey|\n",
      "|34244      |Chopin Vodka                         |Imported Vodka          |\n",
      "|89610      |Olmeca Altos Reposado                |Tequila                 |\n",
      "|5133       |Glenmorangie 10YR                    |Single Malt Scotch      |\n",
      "+-----------+-------------------------------------+------------------------+\n",
      "\n"
     ]
    }
   ],
   "source": [
    "liquor_product_list.filter(liquor_product_list[\"Item Number\"].isin(rec_liquor_top10_store_imp[2512]))\\\n",
    ".show(truncate = False)"
   ]
  },
  {
   "cell_type": "markdown",
   "metadata": {},
   "source": [
    "#### Recommend liquor stores to top 10 best-selling liquor products"
   ]
  },
  {
   "cell_type": "code",
   "execution_count": 127,
   "metadata": {},
   "outputs": [],
   "source": [
    "rec_store_top10_item_imp ={}\n",
    "for item in top10_item_list:\n",
    "    rec_store_imp = liquorRecs_imp.where(liquorRecs_imp.item_num == item).select(\"recommendations\").collect()\n",
    "    rec_store_top10_item_imp[item] = [i.Store for i in rec_store_imp[0][\"recommendations\"]]"
   ]
  },
  {
   "cell_type": "code",
   "execution_count": 128,
   "metadata": {},
   "outputs": [
    {
     "data": {
      "text/plain": [
       "{u'11296': [4140, 4779, 4621, 4678, 5382, 4873, 4767, 5061, 4457, 5357],\n",
       " u'11297': [3612, 5236, 5140, 2465, 3390, 4312, 3525, 2191, 5068, 5102],\n",
       " u'11788': [4779, 5382, 4621, 5357, 4873, 4767, 5061, 4519, 4457, 4140],\n",
       " u'1799': [3731, 3644, 4516, 3719, 3899, 3696, 3645, 3628, 4521, 2556],\n",
       " u'26826': [4457, 4779, 4873, 5382, 4353, 4140, 5061, 4427, 4621, 4395],\n",
       " u'26827': [3612, 2465, 3390, 4312, 3525, 5140, 2191, 5326, 5068, 5236],\n",
       " u'36308': [4140, 4253, 4702, 2562, 4688, 2200, 4703, 4705, 4795, 4678],\n",
       " u'43337': [3612, 5236, 4312, 5326, 2465, 3525, 3390, 5068, 5102, 5140],\n",
       " u'43338': [5357, 3943, 2200, 5382, 5326, 4621, 4767, 4253, 4779, 3390],\n",
       " u'88296': [5326, 5427, 4167, 5251, 3525, 4312, 2465, 5236, 5162, 3612]}"
      ]
     },
     "execution_count": 128,
     "metadata": {},
     "output_type": "execute_result"
    }
   ],
   "source": [
    "rec_store_top10_item_imp"
   ]
  },
  {
   "cell_type": "code",
   "execution_count": 129,
   "metadata": {},
   "outputs": [
    {
     "name": "stdout",
     "output_type": "stream",
     "text": [
      "+--------+----------------+-------------------+\n",
      "|item_num|Item Description|Category Name Clean|\n",
      "+--------+----------------+-------------------+\n",
      "|11296   |Crown Royal     |Canadian Whiskey   |\n",
      "+--------+----------------+-------------------+\n",
      "\n"
     ]
    }
   ],
   "source": [
    "df.filter(df.item_num=='11296').select(\"item_num\", 'Item Description','Category Name Clean').dropDuplicates().show(truncate = False)"
   ]
  },
  {
   "cell_type": "code",
   "execution_count": 130,
   "metadata": {
    "scrolled": true
   },
   "outputs": [
    {
     "name": "stdout",
     "output_type": "stream",
     "text": [
      "+-----------+---------------------------------------+-------------------+------------+\n",
      "|store_num_b|Name                                   |Address            |City        |\n",
      "+-----------+---------------------------------------+-------------------+------------+\n",
      "|4621       |Casey's General Store #23 / Maxwell    |100, Main St       |Maxwell     |\n",
      "|4678       |Fareway Stores #124 / Adel             |804 Nile Kinnick Dr|Adel        |\n",
      "|4457       |Kum & Go #422 / Iowa City              |731 S Riverside Dr |Iowa City   |\n",
      "|4779       |Casey's General Store #3782 / Mount Ayr|1305 E SOUTH STREET|Mount Ayr   |\n",
      "|4873       |Casey's General Store #2559 / Granger  |1802, Sycamore St  |Granger     |\n",
      "|5061       |Casey's General Store #3382 / Cedar    |560, 33rd Ave SW   |Cedar Rapids|\n",
      "|4767       |Casey's General Store #3075 / Ankeny   |6981 NE 14th St    |Ankeny      |\n",
      "|5382       |Casey's General Store # 2870/ Altoona  |1419 1st Ave N     |Altoona     |\n",
      "|5357       |Gameday Liquor/ Orange City            |632 8th St. SE     |Orange City |\n",
      "|4140       |Fareway Stores #900 / Euclid           |100 Euclid Ave     |Des Moines  |\n",
      "+-----------+---------------------------------------+-------------------+------------+\n",
      "\n"
     ]
    }
   ],
   "source": [
    "liquor_store_clean.filter(liquor_store_clean[\"store_num_b\"].isin(rec_store_top10_item_imp['11296'])).select(\"store_num_b\", \n",
    "                        \"Name\", \"Address\",\"City\").show(truncate = False)"
   ]
  },
  {
   "cell_type": "code",
   "execution_count": 131,
   "metadata": {},
   "outputs": [
    {
     "name": "stdout",
     "output_type": "stream",
     "text": [
      "+--------+---------------------------+-------------------+\n",
      "|item_num|Item Description           |Category Name Clean|\n",
      "+--------+---------------------------+-------------------+\n",
      "|11297   |Crown Royal Canadian Whisky|Canadian Whiskey   |\n",
      "|11297   |Crown Royal                |Canadian Whiskey   |\n",
      "+--------+---------------------------+-------------------+\n",
      "\n"
     ]
    }
   ],
   "source": [
    "df.filter(df.item_num=='11297').select(\"item_num\", 'Item Description','Category Name Clean').dropDuplicates().show(truncate = False)"
   ]
  },
  {
   "cell_type": "code",
   "execution_count": 132,
   "metadata": {
    "scrolled": true
   },
   "outputs": [
    {
     "name": "stdout",
     "output_type": "stream",
     "text": [
      "+-----------+--------------------------------+-------------------+--------------+\n",
      "|store_num_b|Name                            |Address            |City          |\n",
      "+-----------+--------------------------------+-------------------+--------------+\n",
      "|5236       |Giggle Juice Liquor Station, LLC|600 W Main St      |Anamosa       |\n",
      "|5140       |A to Z Liquor                   |114 South  2nd  St |Cherokee      |\n",
      "|3390       |Okoboji Avenue Liquor           |1610 Okoboji Avenue|Milford       |\n",
      "|2191       |Keokuk Spirits                  |1013 Main          |Keokuk        |\n",
      "|5068       |Tobacco Shop / Arnolds Park     |612 S Highway 71   |Arnolds Park  |\n",
      "|5102       |Wilkie Liquors                  |724 1st  St  SE    |Mount Vernon  |\n",
      "|2465       |Sid's Beverage Shop             |2727 Dodge St      |Dubuque       |\n",
      "|4312       |I-80 Liquor / Council Bluffs    |2411 S 24TH ST #1  |Council Bluffs|\n",
      "|3525       |Wines and Spirits               |106 W 2nd St       |Washington    |\n",
      "|3612       |B and C Liquor / Maquoketa      |509 E Platt        |Maquoketa     |\n",
      "+-----------+--------------------------------+-------------------+--------------+\n",
      "\n"
     ]
    }
   ],
   "source": [
    "liquor_store_clean.filter(liquor_store_clean[\"store_num_b\"].isin(rec_store_top10_item_imp['11297'])).select(\"store_num_b\", \n",
    "                        \"Name\", \"Address\",\"City\").show(truncate = False)"
   ]
  },
  {
   "cell_type": "markdown",
   "metadata": {},
   "source": [
    "###  Model Fine-Tuning with cross validation-ALS Explicit Model \n"
   ]
  },
  {
   "cell_type": "code",
   "execution_count": 136,
   "metadata": {},
   "outputs": [],
   "source": [
    "# Note we set cold start strategy to 'drop' to ensure we don't get NaN evaluation metrics\n",
    "als_cv = ALS(userCol=\"Store\", itemCol=\"item_num\", ratingCol=\"rating\",\n",
    "          coldStartStrategy=\"drop\", nonnegative = True)\n",
    "\n",
    "evaluator_cv = RegressionEvaluator(metricName='rmse', labelCol='rating')"
   ]
  },
  {
   "cell_type": "code",
   "execution_count": 143,
   "metadata": {},
   "outputs": [],
   "source": [
    "# build parameter grid\n",
    "paramGrid = ParamGridBuilder() \\\n",
    "    .addGrid(als_cv.maxIter, [10, 15, 20]) \\\n",
    "    .addGrid(als_cv.rank, [10, 15, 20]) \\\n",
    "    .addGrid(als_cv.regParam, [0.01, 0.001]) \\\n",
    "    .build()"
   ]
  },
  {
   "cell_type": "code",
   "execution_count": 144,
   "metadata": {},
   "outputs": [],
   "source": [
    "crossval = CrossValidator(estimator=als_cv,\n",
    "                          estimatorParamMaps=paramGrid,\n",
    "                          evaluator=evaluator_cv, \n",
    "                          numFolds=5)  "
   ]
  },
  {
   "cell_type": "code",
   "execution_count": null,
   "metadata": {},
   "outputs": [],
   "source": [
    "# Run cross-validation, and choose the best set of parameters.\n",
    "cvModel = crossval.fit(training)"
   ]
  },
  {
   "cell_type": "code",
   "execution_count": null,
   "metadata": {},
   "outputs": [],
   "source": [
    "# Apply model on the test set to predict \n",
    "prediction_cv = cvModel.transform(test)"
   ]
  },
  {
   "cell_type": "code",
   "execution_count": 220,
   "metadata": {},
   "outputs": [
    {
     "name": "stdout",
     "output_type": "stream",
     "text": [
      "+-----+--------+------+------------------------+----------+-----------+------------------------------------------+------------+---------------------+---------------+-----+--------+------------------------------------+-----------+\n",
      "|Store|item_num|rating|perc_of_store_total_sale|prediction|store_num_b|Name                                      |Store Status|Address              |City           |State|Zip Code|Store Address                       |Report Date|\n",
      "+-----+--------+------+------------------------+----------+-----------+------------------------------------------+------------+---------------------+---------------+-----+--------+------------------------------------+-----------+\n",
      "|3698 |10623   |0.0   |4.750013577122141E-6    |1.127011  |3698       |Ingersoll Wine Merchants                  |A           |1300  50th St        |West Des Moines|IA   |50266   |POINT (-93.771159 41.590871)        |04/01/2020 |\n",
      "|4295 |10623   |0.0   |3.65156058143765E-5     |0.9814801 |4295       |Nat Food Mart #1 / Hubbell                |I           |3804 Hubbell         |Des Moines     |IA   |50317   |POINT (-93.541351 41.630849)        |04/01/2020 |\n",
      "|4545 |10623   |0.0   |1.8921052790215288E-5   |0.8427552 |4545       |Fill R Up                                 |I           |14151 Wabash Ave     |Council Bluffs |IA   |51503   |POINT (-95.81790900000001 41.220431)|04/01/2020 |\n",
      "|2290 |10623   |0.0   |7.3636855070090425E-6   |0.35837775|2290       |Al's Liquors Unlimited                    |I           |215 West Milwaukee   |Storm Lake     |IA   |50588   |POINT (-95.202405 42.647492)        |04/01/2020 |\n",
      "|4077 |10623   |0.0   |1.8700788475274923E-5   |0.7510376 |4077       |Xo Food And Liquor                        |A           |428 Franklin St      |Waterloo       |IA   |50703   |POINT (-92.33464100000002 42.501602)|04/01/2020 |\n",
      "|3917 |10623   |0.0   |2.5384333237112743E-6   |0.9247605 |3917       |Smokin' Joe's #2 Tobacco and Liquor Outlet|A           |1606 W Locust St     |Davenport      |IA   |52804   |POINT (-90.599037 41.538254)        |04/01/2020 |\n",
      "|5487 |10623   |1.0   |9.288992031104113E-5    |1.6438034 |5487       |Independence Liquor & Food                |I           |1761 Independence Ave|Waterloo       |IA   |50707   |POINT (-92.302514 42.498404)        |04/01/2020 |\n",
      "|4046 |10623   |0.0   |1.7309503054682417E-5   |1.1092533 |4046       |J and K Market                            |I           |113 W Vanburen       |Centerville    |IA   |52544   |POINT (-92.874795 40.734946)        |04/01/2020 |\n",
      "|4452 |15727   |0.0   |2.8354200819844552E-5   |0.8519919 |4452       |Select Mart    Gordon Dr                  |A           |2825 Gordon Dr       |Sioux City     |IA   |51105   |POINT (-96.372014 42.489632)        |04/01/2020 |\n",
      "|5001 |15727   |0.0   |1.9929193655094986E-5   |0.47148913|5001       |The Music Station / Independence          |A           |709 First St W       |Independence   |IA   |50644   |POINT (-91.901687 42.468633)        |04/01/2020 |\n",
      "+-----+--------+------+------------------------+----------+-----------+------------------------------------------+------------+---------------------+---------------+-----+--------+------------------------------------+-----------+\n",
      "only showing top 10 rows\n",
      "\n"
     ]
    }
   ],
   "source": [
    "prediction_cv = prediction_cv.join(liquor_store_clean,liquor_store_clean.store_num_b== predictions.Store)\n",
    "prediction_cv.show(10, truncate = False)"
   ]
  },
  {
   "cell_type": "markdown",
   "metadata": {},
   "source": [
    "### Model evaluation"
   ]
  },
  {
   "cell_type": "code",
   "execution_count": 219,
   "metadata": {},
   "outputs": [
    {
     "name": "stdout",
     "output_type": "stream",
     "text": [
      "Root-mean-square error = 0.762046505889\n"
     ]
    }
   ],
   "source": [
    "evaluator = RegressionEvaluator(metricName='rmse', labelCol='rating')\n",
    "rmse_cv = evaluator.evaluate(prediction_cv)\n",
    "print(\"Root-mean-square error = \" + str(rmse_cv))"
   ]
  },
  {
   "cell_type": "code",
   "execution_count": 188,
   "metadata": {},
   "outputs": [
    {
     "data": {
      "text/plain": [
       "{Param(parent=u'ALS_4f30acbd8c3ed1e4abd9', name='maxIter', doc='max number of iterations (>= 0).'): 20,\n",
       " Param(parent=u'ALS_4f30acbd8c3ed1e4abd9', name='rank', doc='rank of the factorization'): 10,\n",
       " Param(parent=u'ALS_4f30acbd8c3ed1e4abd9', name='regParam', doc='regularization parameter (>= 0).'): 0.01}"
      ]
     },
     "execution_count": 188,
     "metadata": {},
     "output_type": "execute_result"
    }
   ],
   "source": [
    "sorted(zip(cvModel.avgMetrics, paramGrid))[0][1]"
   ]
  },
  {
   "cell_type": "code",
   "execution_count": 161,
   "metadata": {},
   "outputs": [],
   "source": [
    "params = [{p.name: v for p, v in m.items()} for m in cvModel.getEstimatorParamMaps()]"
   ]
  },
  {
   "cell_type": "code",
   "execution_count": 194,
   "metadata": {},
   "outputs": [],
   "source": [
    "# All grid search results\n",
    "cv_rmse_df = pd.DataFrame.from_dict({\"params\": params, cvModel.getEvaluator().getMetricName():cvModel.avgMetrics}).sort_values(by=\"rmse\")"
   ]
  },
  {
   "cell_type": "code",
   "execution_count": 195,
   "metadata": {},
   "outputs": [
    {
     "data": {
      "text/html": [
       "<div>\n",
       "<style scoped>\n",
       "    .dataframe tbody tr th:only-of-type {\n",
       "        vertical-align: middle;\n",
       "    }\n",
       "\n",
       "    .dataframe tbody tr th {\n",
       "        vertical-align: top;\n",
       "    }\n",
       "\n",
       "    .dataframe thead th {\n",
       "        text-align: right;\n",
       "    }\n",
       "</style>\n",
       "<table border=\"1\" class=\"dataframe\">\n",
       "  <thead>\n",
       "    <tr style=\"text-align: right;\">\n",
       "      <th></th>\n",
       "      <th>params</th>\n",
       "      <th>rmse</th>\n",
       "    </tr>\n",
       "  </thead>\n",
       "  <tbody>\n",
       "    <tr>\n",
       "      <th>12</th>\n",
       "      <td>{u'regParam': 0.01, u'rank': 10, u'maxIter': 20}</td>\n",
       "      <td>0.769431</td>\n",
       "    </tr>\n",
       "    <tr>\n",
       "      <th>14</th>\n",
       "      <td>{u'regParam': 0.01, u'rank': 15, u'maxIter': 20}</td>\n",
       "      <td>0.770444</td>\n",
       "    </tr>\n",
       "    <tr>\n",
       "      <th>6</th>\n",
       "      <td>{u'regParam': 0.01, u'rank': 10, u'maxIter': 15}</td>\n",
       "      <td>0.770842</td>\n",
       "    </tr>\n",
       "    <tr>\n",
       "      <th>8</th>\n",
       "      <td>{u'regParam': 0.01, u'rank': 15, u'maxIter': 15}</td>\n",
       "      <td>0.772819</td>\n",
       "    </tr>\n",
       "    <tr>\n",
       "      <th>0</th>\n",
       "      <td>{u'regParam': 0.01, u'rank': 10, u'maxIter': 10}</td>\n",
       "      <td>0.773809</td>\n",
       "    </tr>\n",
       "    <tr>\n",
       "      <th>16</th>\n",
       "      <td>{u'regParam': 0.01, u'rank': 20, u'maxIter': 20}</td>\n",
       "      <td>0.775638</td>\n",
       "    </tr>\n",
       "    <tr>\n",
       "      <th>2</th>\n",
       "      <td>{u'regParam': 0.01, u'rank': 15, u'maxIter': 10}</td>\n",
       "      <td>0.776515</td>\n",
       "    </tr>\n",
       "    <tr>\n",
       "      <th>10</th>\n",
       "      <td>{u'regParam': 0.01, u'rank': 20, u'maxIter': 15}</td>\n",
       "      <td>0.777429</td>\n",
       "    </tr>\n",
       "    <tr>\n",
       "      <th>4</th>\n",
       "      <td>{u'regParam': 0.01, u'rank': 20, u'maxIter': 10}</td>\n",
       "      <td>0.780080</td>\n",
       "    </tr>\n",
       "    <tr>\n",
       "      <th>13</th>\n",
       "      <td>{u'regParam': 0.001, u'rank': 10, u'maxIter': 20}</td>\n",
       "      <td>0.781602</td>\n",
       "    </tr>\n",
       "    <tr>\n",
       "      <th>7</th>\n",
       "      <td>{u'regParam': 0.001, u'rank': 10, u'maxIter': 15}</td>\n",
       "      <td>0.784289</td>\n",
       "    </tr>\n",
       "    <tr>\n",
       "      <th>1</th>\n",
       "      <td>{u'regParam': 0.001, u'rank': 10, u'maxIter': 10}</td>\n",
       "      <td>0.790510</td>\n",
       "    </tr>\n",
       "    <tr>\n",
       "      <th>15</th>\n",
       "      <td>{u'regParam': 0.001, u'rank': 15, u'maxIter': 20}</td>\n",
       "      <td>0.793520</td>\n",
       "    </tr>\n",
       "    <tr>\n",
       "      <th>9</th>\n",
       "      <td>{u'regParam': 0.001, u'rank': 15, u'maxIter': 15}</td>\n",
       "      <td>0.796225</td>\n",
       "    </tr>\n",
       "    <tr>\n",
       "      <th>3</th>\n",
       "      <td>{u'regParam': 0.001, u'rank': 15, u'maxIter': 10}</td>\n",
       "      <td>0.801525</td>\n",
       "    </tr>\n",
       "    <tr>\n",
       "      <th>17</th>\n",
       "      <td>{u'regParam': 0.001, u'rank': 20, u'maxIter': 20}</td>\n",
       "      <td>0.803200</td>\n",
       "    </tr>\n",
       "    <tr>\n",
       "      <th>11</th>\n",
       "      <td>{u'regParam': 0.001, u'rank': 20, u'maxIter': 15}</td>\n",
       "      <td>0.804655</td>\n",
       "    </tr>\n",
       "    <tr>\n",
       "      <th>5</th>\n",
       "      <td>{u'regParam': 0.001, u'rank': 20, u'maxIter': 10}</td>\n",
       "      <td>0.806767</td>\n",
       "    </tr>\n",
       "  </tbody>\n",
       "</table>\n",
       "</div>"
      ],
      "text/plain": [
       "                                               params      rmse\n",
       "12   {u'regParam': 0.01, u'rank': 10, u'maxIter': 20}  0.769431\n",
       "14   {u'regParam': 0.01, u'rank': 15, u'maxIter': 20}  0.770444\n",
       "6    {u'regParam': 0.01, u'rank': 10, u'maxIter': 15}  0.770842\n",
       "8    {u'regParam': 0.01, u'rank': 15, u'maxIter': 15}  0.772819\n",
       "0    {u'regParam': 0.01, u'rank': 10, u'maxIter': 10}  0.773809\n",
       "16   {u'regParam': 0.01, u'rank': 20, u'maxIter': 20}  0.775638\n",
       "2    {u'regParam': 0.01, u'rank': 15, u'maxIter': 10}  0.776515\n",
       "10   {u'regParam': 0.01, u'rank': 20, u'maxIter': 15}  0.777429\n",
       "4    {u'regParam': 0.01, u'rank': 20, u'maxIter': 10}  0.780080\n",
       "13  {u'regParam': 0.001, u'rank': 10, u'maxIter': 20}  0.781602\n",
       "7   {u'regParam': 0.001, u'rank': 10, u'maxIter': 15}  0.784289\n",
       "1   {u'regParam': 0.001, u'rank': 10, u'maxIter': 10}  0.790510\n",
       "15  {u'regParam': 0.001, u'rank': 15, u'maxIter': 20}  0.793520\n",
       "9   {u'regParam': 0.001, u'rank': 15, u'maxIter': 15}  0.796225\n",
       "3   {u'regParam': 0.001, u'rank': 15, u'maxIter': 10}  0.801525\n",
       "17  {u'regParam': 0.001, u'rank': 20, u'maxIter': 20}  0.803200\n",
       "11  {u'regParam': 0.001, u'rank': 20, u'maxIter': 15}  0.804655\n",
       "5   {u'regParam': 0.001, u'rank': 20, u'maxIter': 10}  0.806767"
      ]
     },
     "execution_count": 195,
     "metadata": {},
     "output_type": "execute_result"
    }
   ],
   "source": [
    "cv_rmse_df"
   ]
  },
  {
   "cell_type": "code",
   "execution_count": 218,
   "metadata": {},
   "outputs": [
    {
     "name": "stdout",
     "output_type": "stream",
     "text": [
      "regParam 0.01\n",
      "rank 10\n",
      "maxIter 20\n"
     ]
    }
   ],
   "source": [
    "#  parameters for best model\n",
    "for k,v in cv_rmse_df.params[cv_rmse_df.rmse == cv_rmse_df.rmse.min()].values[0].items():\n",
    "    print k, v"
   ]
  },
  {
   "cell_type": "code",
   "execution_count": 258,
   "metadata": {},
   "outputs": [
    {
     "data": {
      "text/plain": [
       "0.7694314028344444"
      ]
     },
     "execution_count": 258,
     "metadata": {},
     "output_type": "execute_result"
    }
   ],
   "source": [
    "# RMSE for best model\n",
    "cv_rmse_df.rmse.min()"
   ]
  },
  {
   "cell_type": "markdown",
   "metadata": {},
   "source": [
    "### Use best model to produce recommendations"
   ]
  },
  {
   "cell_type": "code",
   "execution_count": 233,
   "metadata": {},
   "outputs": [],
   "source": [
    "\n",
    "# Note we set cold start strategy to 'drop' to ensure we don't get NaN evaluation metrics\n",
    "als_cv = ALS(maxIter=20, regParam=0.01, rank = 10, userCol=\"Store\", itemCol=\"item_num\", ratingCol=\"rating\",\n",
    "          coldStartStrategy=\"drop\", nonnegative = True)"
   ]
  },
  {
   "cell_type": "code",
   "execution_count": 234,
   "metadata": {},
   "outputs": [],
   "source": [
    "#fit model\n",
    "als_cv_model = als_cv.fit(training)"
   ]
  },
  {
   "cell_type": "code",
   "execution_count": 235,
   "metadata": {},
   "outputs": [],
   "source": [
    "# Apply model on the test set to predict \n",
    "als_cv_predictions = als_cv_model.transform(test)"
   ]
  },
  {
   "cell_type": "code",
   "execution_count": 237,
   "metadata": {},
   "outputs": [],
   "source": [
    "userRecs_cv = als_cv_model.recommendForAllUsers(10)"
   ]
  },
  {
   "cell_type": "code",
   "execution_count": 246,
   "metadata": {},
   "outputs": [
    {
     "name": "stdout",
     "output_type": "stream",
     "text": [
      "+-----+-------------------------------------------------------------------------------------------------------------------------------------------------------------------------------------------------------------+\n",
      "|Store|recommendations                                                                                                                                                                                              |\n",
      "+-----+-------------------------------------------------------------------------------------------------------------------------------------------------------------------------------------------------------------+\n",
      "|4900 |[[926875, 9.377141], [935969, 8.673643], [940570, 8.64259], [903786, 8.1399555], [902349, 7.568014], [904577, 7.545292], [965269, 7.2390184], [903722, 7.0344067], [902491, 6.223467], [901882, 5.6931076]]  |\n",
      "|5300 |[[926875, 13.615356], [903881, 9.838879], [903722, 9.159977], [965266, 7.813334], [989488, 7.7378144], [989458, 7.5569925], [904921, 7.258367], [904577, 7.0953326], [965269, 7.0501237], [969617, 7.015012]]|\n",
      "|5803 |[[926875, 13.257656], [989458, 12.766717], [904921, 10.984689], [967275, 10.531608], [903881, 10.195558], [956366, 9.701281], [977534, 9.577065], [902780, 9.366842], [902156, 9.176537], [901065, 9.1558]]  |\n",
      "+-----+-------------------------------------------------------------------------------------------------------------------------------------------------------------------------------------------------------------+\n",
      "only showing top 3 rows\n",
      "\n"
     ]
    }
   ],
   "source": [
    "userRecs_cv.show(3, truncate=False)"
   ]
  },
  {
   "cell_type": "code",
   "execution_count": 242,
   "metadata": {},
   "outputs": [],
   "source": [
    "liquorRecs_cv = als_cv_model.recommendForAllItems(10)"
   ]
  },
  {
   "cell_type": "code",
   "execution_count": 247,
   "metadata": {},
   "outputs": [
    {
     "name": "stdout",
     "output_type": "stream",
     "text": [
      "+--------+--------------------------------------------------------------------------------------------------------------------------------------------------------------------------------------------------+\n",
      "|item_num|recommendations                                                                                                                                                                                   |\n",
      "+--------+--------------------------------------------------------------------------------------------------------------------------------------------------------------------------------------------------+\n",
      "|21220   |[[5894, 3.4472413], [9922, 3.1110659], [4834, 2.9522429], [5729, 2.940638], [2690, 2.8818986], [9902, 2.8748298], [2688, 2.747865], [5855, 2.7437987], [2707, 2.739994], [5742, 2.6964037]]       |\n",
      "|32460   |[[9010, 3.9188008], [9910, 3.8851376], [9014, 3.687474], [5894, 3.6865988], [9919, 3.3773234], [5053, 3.1073449], [9042, 3.065691], [9931, 2.9080954], [5729, 2.8365765], [5095, 2.8064992]]      |\n",
      "|64590   |[[9922, 0.86530656], [5595, 0.7800746], [5501, 0.7376865], [5209, 0.7194774], [9001, 0.71321666], [2690, 0.70833623], [2706, 0.707105], [2708, 0.70677423], [5507, 0.70655644], [2703, 0.7050432]]|\n",
      "+--------+--------------------------------------------------------------------------------------------------------------------------------------------------------------------------------------------------+\n",
      "only showing top 3 rows\n",
      "\n"
     ]
    }
   ],
   "source": [
    "liquorRecs_cv.show(3, truncate=False)"
   ]
  },
  {
   "cell_type": "code",
   "execution_count": 250,
   "metadata": {},
   "outputs": [],
   "source": [
    "\n",
    "\n",
    "\n",
    "# collect the recommendations to top 10 stores by total sales in dollars\n",
    "rec_liquor_top10_store_cv ={}\n",
    "for store in top10_store_list:\n",
    "    rec_liquor = userRecs_cv.where(userRecs_cv.Store == store).select(\"recommendations\").collect()\n",
    "    rec_liquor_top10_store_cv[store] = [i.item_num for i in rec_liquor[0][\"recommendations\"]]"
   ]
  },
  {
   "cell_type": "code",
   "execution_count": 255,
   "metadata": {
    "scrolled": true
   },
   "outputs": [
    {
     "data": {
      "text/plain": [
       "{2190: [940570,\n",
       "  935969,\n",
       "  903786,\n",
       "  926875,\n",
       "  903638,\n",
       "  902349,\n",
       "  933281,\n",
       "  902156,\n",
       "  34422,\n",
       "  15627],\n",
       " 2512: [902156,\n",
       "  933281,\n",
       "  903638,\n",
       "  15627,\n",
       "  19477,\n",
       "  34007,\n",
       "  28867,\n",
       "  43127,\n",
       "  34422,\n",
       "  19067],\n",
       " 2633: [933281,\n",
       "  15627,\n",
       "  41694,\n",
       "  937882,\n",
       "  67527,\n",
       "  82847,\n",
       "  25607,\n",
       "  69947,\n",
       "  28867,\n",
       "  10627],\n",
       " 3354: [904827,\n",
       "  933281,\n",
       "  902209,\n",
       "  904884,\n",
       "  989458,\n",
       "  940718,\n",
       "  915962,\n",
       "  67706,\n",
       "  987407,\n",
       "  906266],\n",
       " 3385: [933281,\n",
       "  902780,\n",
       "  43127,\n",
       "  15627,\n",
       "  25607,\n",
       "  28867,\n",
       "  34007,\n",
       "  19067,\n",
       "  42717,\n",
       "  67527],\n",
       " 3420: [933281,\n",
       "  904827,\n",
       "  902209,\n",
       "  940718,\n",
       "  915962,\n",
       "  989458,\n",
       "  956366,\n",
       "  67706,\n",
       "  906266,\n",
       "  903707],\n",
       " 3773: [933281,\n",
       "  903638,\n",
       "  15627,\n",
       "  34457,\n",
       "  19477,\n",
       "  69947,\n",
       "  902156,\n",
       "  28867,\n",
       "  28233,\n",
       "  67527],\n",
       " 3814: [926875,\n",
       "  940570,\n",
       "  977534,\n",
       "  901230,\n",
       "  903265,\n",
       "  902156,\n",
       "  977476,\n",
       "  904921,\n",
       "  935969,\n",
       "  68703],\n",
       " 3952: [933281,\n",
       "  41694,\n",
       "  937882,\n",
       "  15627,\n",
       "  67527,\n",
       "  82847,\n",
       "  25607,\n",
       "  10627,\n",
       "  43127,\n",
       "  69947],\n",
       " 4829: [933281,\n",
       "  15627,\n",
       "  903638,\n",
       "  41694,\n",
       "  19477,\n",
       "  69947,\n",
       "  34457,\n",
       "  67527,\n",
       "  28867,\n",
       "  82847]}"
      ]
     },
     "execution_count": 255,
     "metadata": {},
     "output_type": "execute_result"
    }
   ],
   "source": [
    "rec_liquor_top10_store_cv"
   ]
  },
  {
   "cell_type": "markdown",
   "metadata": {},
   "source": [
    "#### Here are most recommended Liquor Product for top_10 Liquor stores  (Implicit ALS )"
   ]
  },
  {
   "cell_type": "code",
   "execution_count": 125,
   "metadata": {
    "scrolled": true
   },
   "outputs": [
    {
     "name": "stdout",
     "output_type": "stream",
     "text": [
      "+-----------+-------------------------+\n",
      "|store_num_b|Name                     |\n",
      "+-----------+-------------------------+\n",
      "|2190       |Central City Liquor, Inc.|\n",
      "+-----------+-------------------------+\n",
      "\n"
     ]
    }
   ],
   "source": [
    "liquor_store_clean.filter(liquor_store_clean.store_num_b==2190).select('store_num_b', \"Name\")\\\n",
    ".show(truncate = False)"
   ]
  },
  {
   "cell_type": "code",
   "execution_count": 251,
   "metadata": {},
   "outputs": [
    {
     "name": "stdout",
     "output_type": "stream",
     "text": [
      "+-----------+---------------------------------+----------------------+\n",
      "|Item Number|Item Description                 |Category Name Clean   |\n",
      "+-----------+---------------------------------+----------------------+\n",
      "|34422      |Grey Goose                       |Imported Vodka        |\n",
      "|902349     |Hiram Walker Blackberry Brandy   |Blackberry Brandy     |\n",
      "|935969     |Stolichnaya Hot                  |Imported Vodka - Misc |\n",
      "|933281     |Seagram's Twisted Pineapple Gin  |Flavored Gin          |\n",
      "|926875     |Templeton Rye Special Reserve 6YR|Blended Whiskey       |\n",
      "|903638     |Merry's Irish Cream              |Cream Liqueur         |\n",
      "|15627      |Jameson                          |Irish Whiskey         |\n",
      "|935969     |Stolichnaya Hot                  |null                  |\n",
      "|940570     |Skinnygirl Bare Naked Vodka      |100 Proof Vodka       |\n",
      "|926875     |Templeton Rye Special Reserve 8YR|Blended Whiskey       |\n",
      "|940570     |Skinnygirl Bare Naked            |American Vodka        |\n",
      "|903786     |Distillers Gin No. 6             |Special Order Item    |\n",
      "|34422      |Grey Goose Vodka                 |Imported Vodka        |\n",
      "|902349     |Hiram Walker Blackberry Brandy   |Special Order Item    |\n",
      "|903786     |Distillers Gin No. 6             |American Dry Gin      |\n",
      "|903638     |Merry's Irish Cream              |Special Order Item    |\n",
      "|940570     |Skinnygirl Bare Naked Vodka      |American Vodka        |\n",
      "|902156     |Ice Hole Salty Caramel Schnapps  |Miscellaneous Schnapps|\n",
      "+-----------+---------------------------------+----------------------+\n",
      "\n"
     ]
    }
   ],
   "source": [
    "liquor_product_list.filter(liquor_product_list[\"Item Number\"].isin(rec_liquor_top10_store_cv[2190]))\\\n",
    ".show(truncate = False)"
   ]
  },
  {
   "cell_type": "code",
   "execution_count": 134,
   "metadata": {
    "scrolled": true
   },
   "outputs": [
    {
     "name": "stdout",
     "output_type": "stream",
     "text": [
      "+-----------+-----------------------------------+\n",
      "|store_num_b|Name                               |\n",
      "+-----------+-----------------------------------+\n",
      "|2512       |Hy-Vee Wine and Spirits / Iowa City|\n",
      "+-----------+-----------------------------------+\n",
      "\n"
     ]
    }
   ],
   "source": [
    "liquor_store_clean.filter(liquor_store_clean.store_num_b== 2512).select('store_num_b', \"Name\")\\\n",
    ".show(truncate = False)"
   ]
  },
  {
   "cell_type": "code",
   "execution_count": 252,
   "metadata": {},
   "outputs": [
    {
     "name": "stdout",
     "output_type": "stream",
     "text": [
      "+-----------+-------------------------------+--------------------------------+\n",
      "|Item Number|Item Description               |Category Name Clean             |\n",
      "+-----------+-------------------------------+--------------------------------+\n",
      "|34422      |Grey Goose                     |Imported Vodka                  |\n",
      "|933281     |Seagram's Twisted Pineapple Gin|Flavored Gin                    |\n",
      "|28867      |Tanqueray Gin                  |Imported Dry Gin                |\n",
      "|43127      |Bacardi Superior Rum           |Puerto Rico & Virgin Islands Rum|\n",
      "|34007      |Absolut Swedish Vodka 80prf    |Imported Vodka                  |\n",
      "|903638     |Merry's Irish Cream            |Cream Liqueur                   |\n",
      "|15627      |Jameson                        |Irish Whiskey                   |\n",
      "|43127      |Bacardi Superior Rum           |White Rum                       |\n",
      "|34422      |Grey Goose Vodka               |Imported Vodka                  |\n",
      "|19067      |Jim Beam                       |Straight Bourbon Whiskey        |\n",
      "|34007      |Absolut Swedish Vodka 80 Prf   |Imported Vodka                  |\n",
      "|43127      |Bacardi Superior               |White Rum                       |\n",
      "|19477      |Makers Mark                    |Straight Bourbon Whiskey        |\n",
      "|903638     |Merry's Irish Cream            |Special Order Item              |\n",
      "|902156     |Ice Hole Salty Caramel Schnapps|Miscellaneous Schnapps          |\n",
      "|19477      |Maker's Mark                   |Straight Bourbon Whiskey        |\n",
      "+-----------+-------------------------------+--------------------------------+\n",
      "\n"
     ]
    }
   ],
   "source": [
    "liquor_product_list.filter(liquor_product_list[\"Item Number\"].isin(rec_liquor_top10_store_cv[2512]))\\\n",
    ".show(truncate = False)"
   ]
  },
  {
   "cell_type": "markdown",
   "metadata": {},
   "source": [
    "#### Recommend liquor stores to top 10 best-selling liquor products"
   ]
  },
  {
   "cell_type": "code",
   "execution_count": 253,
   "metadata": {},
   "outputs": [],
   "source": [
    "rec_store_top10_item_cv ={}\n",
    "for item in top10_item_list:\n",
    "    rec_store = liquorRecs_cv.where(liquorRecs_cv.item_num == item).select(\"recommendations\").collect()\n",
    "    rec_store_top10_item_cv[item] = [i.Store for i in rec_store[0][\"recommendations\"]]"
   ]
  },
  {
   "cell_type": "code",
   "execution_count": 254,
   "metadata": {},
   "outputs": [
    {
     "data": {
      "text/plain": [
       "{u'11296': [3696, 4014, 3663, 3719, 3789, 4615, 2507, 3722, 4864, 3660],\n",
       " u'11297': [3494, 3524, 3447, 3420, 5178, 3385, 3354, 5144, 3525, 2636],\n",
       " u'11788': [3663, 3549, 3719, 3789, 3696, 4346, 3660, 3592, 3769, 4001],\n",
       " u'1799': [5053, 5082, 5629, 5178, 5103, 5721, 5144, 5438, 5192, 5518],\n",
       " u'26826': [3696, 4014, 3663, 2507, 4615, 3719, 3789, 3722, 4794, 3769],\n",
       " u'26827': [3494, 3524, 5178, 5690, 3385, 3447, 5053, 5675, 3420, 5144],\n",
       " u'36308': [3663, 3696, 3719, 3789, 3769, 3776, 3592, 3722, 4014, 4001],\n",
       " u'43337': [3494, 3549, 3524, 2636, 3525, 3447, 3818, 4512, 4762, 3456],\n",
       " u'43338': [5178, 5899, 3696, 2659, 5727, 5278, 3660, 5290, 5282, 5053],\n",
       " u'88296': [5178, 4705, 5690, 5016, 4679, 5398, 5310, 4877, 5899, 3524]}"
      ]
     },
     "execution_count": 254,
     "metadata": {},
     "output_type": "execute_result"
    }
   ],
   "source": [
    "rec_store_top10_item_cv"
   ]
  },
  {
   "cell_type": "code",
   "execution_count": 129,
   "metadata": {},
   "outputs": [
    {
     "name": "stdout",
     "output_type": "stream",
     "text": [
      "+--------+----------------+-------------------+\n",
      "|item_num|Item Description|Category Name Clean|\n",
      "+--------+----------------+-------------------+\n",
      "|11296   |Crown Royal     |Canadian Whiskey   |\n",
      "+--------+----------------+-------------------+\n",
      "\n"
     ]
    }
   ],
   "source": [
    "df.filter(df.item_num=='11296').select(\"item_num\", 'Item Description','Category Name Clean').dropDuplicates().show(truncate = False)"
   ]
  },
  {
   "cell_type": "code",
   "execution_count": 256,
   "metadata": {
    "scrolled": true
   },
   "outputs": [
    {
     "name": "stdout",
     "output_type": "stream",
     "text": [
      "+-----------+----------------------------------+-----------------------+------------+\n",
      "|store_num_b|Name                              |Address                |City        |\n",
      "+-----------+----------------------------------+-----------------------+------------+\n",
      "|2507       |Hy-Vee Food Store #1 / Burlington |939 Angular            |Burlington  |\n",
      "|3660       |Wal-Mart 2935 / Knoxville         |814 W Bell Ave         |Knoxville   |\n",
      "|3722       |Wal-Mart 1361 / Sioux City        |3400 Singing Hills Blvd|Sioux City  |\n",
      "|4615       |North Side Liquor & Grocery       |1303 North Federal Ave |Mason City  |\n",
      "|4864       |CLINTON LIQUOR & CONVENIENCE STORE|1641 S Bluff Blvd      |Clinton     |\n",
      "|4014       |Wal-Mart 1732 / Denison           |510 C Ave              |Denison     |\n",
      "|3696       |Wal-Mart 1723 / Des Moines        |5101 SE 14th St        |Des Moines  |\n",
      "|3719       |Wal-Mart 0581 / Marshalltown      |2802 S Center St       |Marshalltown|\n",
      "|3663       |Wal-Mart 1496 / Waterloo          |1334 Flammang Dr       |Waterloo    |\n",
      "|3789       |Wal-Mart 1393 / Oskaloosa         |2203 A Avenue West     |Oskaloosa   |\n",
      "+-----------+----------------------------------+-----------------------+------------+\n",
      "\n"
     ]
    }
   ],
   "source": [
    "liquor_store_clean.filter(liquor_store_clean[\"store_num_b\"].isin(rec_store_top10_item_cv['11296'])).select(\"store_num_b\", \n",
    "                        \"Name\", \"Address\",\"City\").show(truncate = False)"
   ]
  },
  {
   "cell_type": "code",
   "execution_count": 131,
   "metadata": {},
   "outputs": [
    {
     "name": "stdout",
     "output_type": "stream",
     "text": [
      "+--------+---------------------------+-------------------+\n",
      "|item_num|Item Description           |Category Name Clean|\n",
      "+--------+---------------------------+-------------------+\n",
      "|11297   |Crown Royal Canadian Whisky|Canadian Whiskey   |\n",
      "|11297   |Crown Royal                |Canadian Whiskey   |\n",
      "+--------+---------------------------+-------------------+\n",
      "\n"
     ]
    }
   ],
   "source": [
    "df.filter(df.item_num=='11297').select(\"item_num\", 'Item Description','Category Name Clean').dropDuplicates().show(truncate = False)"
   ]
  },
  {
   "cell_type": "code",
   "execution_count": 257,
   "metadata": {
    "scrolled": true
   },
   "outputs": [
    {
     "name": "stdout",
     "output_type": "stream",
     "text": [
      "+-----------+---------------------------------+-----------------------+---------------+\n",
      "|store_num_b|Name                             |Address                |City           |\n",
      "+-----------+---------------------------------+-----------------------+---------------+\n",
      "|3524       |Sam's Club 6568 / Ames           |305 Airport Rd         |Ames           |\n",
      "|3420       |Sam's Club 6344 / Windsor Heights|1101  73rd St          |Windsor Heights|\n",
      "|3447       |Sam's Club 6432 / Sioux City     |4201 S. York St.       |Sioux City     |\n",
      "|5144       |Sam's Club 6979 / Ankeny         |4625 SE Delaware Ave   |Ankeny         |\n",
      "|3494       |Sam's Club 6514 / Waterloo       |210 East Tower Park Dr |Waterloo       |\n",
      "|3354       |Sam's Club 8238 / Davenport      |3845 Elmore Ave.       |Davenport      |\n",
      "|3525       |Wines and Spirits                |106 W 2nd St           |Washington     |\n",
      "|5178       |New York Dollar Stores           |320, N Calhoun St      |West Liberty   |\n",
      "|2636       |Hy-Vee Wine and Spirits / Hubbell|2310 Hubbell Ave       |Des Moines     |\n",
      "|3385       |Sam's Club 8162 / Cedar Rapids   |2605 Blairs Ferry Rd NE|Cedar Rapids   |\n",
      "+-----------+---------------------------------+-----------------------+---------------+\n",
      "\n"
     ]
    }
   ],
   "source": [
    "liquor_store_clean.filter(liquor_store_clean[\"store_num_b\"].isin(rec_store_top10_item_cv['11297'])).select(\"store_num_b\", \n",
    "                        \"Name\", \"Address\",\"City\").show(truncate = False)"
   ]
  },
  {
   "cell_type": "code",
   "execution_count": null,
   "metadata": {},
   "outputs": [],
   "source": []
  },
  {
   "cell_type": "code",
   "execution_count": 255,
   "metadata": {
    "scrolled": true
   },
   "outputs": [
    {
     "data": {
      "text/plain": [
       "{2190: [940570,\n",
       "  935969,\n",
       "  903786,\n",
       "  926875,\n",
       "  903638,\n",
       "  902349,\n",
       "  933281,\n",
       "  902156,\n",
       "  34422,\n",
       "  15627],\n",
       " 2512: [902156,\n",
       "  933281,\n",
       "  903638,\n",
       "  15627,\n",
       "  19477,\n",
       "  34007,\n",
       "  28867,\n",
       "  43127,\n",
       "  34422,\n",
       "  19067],\n",
       " 2633: [933281,\n",
       "  15627,\n",
       "  41694,\n",
       "  937882,\n",
       "  67527,\n",
       "  82847,\n",
       "  25607,\n",
       "  69947,\n",
       "  28867,\n",
       "  10627],\n",
       " 3354: [904827,\n",
       "  933281,\n",
       "  902209,\n",
       "  904884,\n",
       "  989458,\n",
       "  940718,\n",
       "  915962,\n",
       "  67706,\n",
       "  987407,\n",
       "  906266],\n",
       " 3385: [933281,\n",
       "  902780,\n",
       "  43127,\n",
       "  15627,\n",
       "  25607,\n",
       "  28867,\n",
       "  34007,\n",
       "  19067,\n",
       "  42717,\n",
       "  67527],\n",
       " 3420: [933281,\n",
       "  904827,\n",
       "  902209,\n",
       "  940718,\n",
       "  915962,\n",
       "  989458,\n",
       "  956366,\n",
       "  67706,\n",
       "  906266,\n",
       "  903707],\n",
       " 3773: [933281,\n",
       "  903638,\n",
       "  15627,\n",
       "  34457,\n",
       "  19477,\n",
       "  69947,\n",
       "  902156,\n",
       "  28867,\n",
       "  28233,\n",
       "  67527],\n",
       " 3814: [926875,\n",
       "  940570,\n",
       "  977534,\n",
       "  901230,\n",
       "  903265,\n",
       "  902156,\n",
       "  977476,\n",
       "  904921,\n",
       "  935969,\n",
       "  68703],\n",
       " 3952: [933281,\n",
       "  41694,\n",
       "  937882,\n",
       "  15627,\n",
       "  67527,\n",
       "  82847,\n",
       "  25607,\n",
       "  10627,\n",
       "  43127,\n",
       "  69947],\n",
       " 4829: [933281,\n",
       "  15627,\n",
       "  903638,\n",
       "  41694,\n",
       "  19477,\n",
       "  69947,\n",
       "  34457,\n",
       "  67527,\n",
       "  28867,\n",
       "  82847]}"
      ]
     },
     "execution_count": 255,
     "metadata": {},
     "output_type": "execute_result"
    }
   ],
   "source": [
    "rec_liquor_top10_store_cv"
   ]
  },
  {
   "cell_type": "markdown",
   "metadata": {},
   "source": [
    "#### Here are most recommended Liquor Product for top_10 Liquor stores  (Implicit ALS )"
   ]
  },
  {
   "cell_type": "code",
   "execution_count": 125,
   "metadata": {
    "scrolled": true
   },
   "outputs": [
    {
     "name": "stdout",
     "output_type": "stream",
     "text": [
      "+-----------+-------------------------+\n",
      "|store_num_b|Name                     |\n",
      "+-----------+-------------------------+\n",
      "|2190       |Central City Liquor, Inc.|\n",
      "+-----------+-------------------------+\n",
      "\n"
     ]
    }
   ],
   "source": [
    "liquor_store_clean.filter(liquor_store_clean.store_num_b==2190).select('store_num_b', \"Name\")\\\n",
    ".show(truncate = False)"
   ]
  },
  {
   "cell_type": "code",
   "execution_count": 251,
   "metadata": {},
   "outputs": [
    {
     "name": "stdout",
     "output_type": "stream",
     "text": [
      "+-----------+---------------------------------+----------------------+\n",
      "|Item Number|Item Description                 |Category Name Clean   |\n",
      "+-----------+---------------------------------+----------------------+\n",
      "|34422      |Grey Goose                       |Imported Vodka        |\n",
      "|902349     |Hiram Walker Blackberry Brandy   |Blackberry Brandy     |\n",
      "|935969     |Stolichnaya Hot                  |Imported Vodka - Misc |\n",
      "|933281     |Seagram's Twisted Pineapple Gin  |Flavored Gin          |\n",
      "|926875     |Templeton Rye Special Reserve 6YR|Blended Whiskey       |\n",
      "|903638     |Merry's Irish Cream              |Cream Liqueur         |\n",
      "|15627      |Jameson                          |Irish Whiskey         |\n",
      "|935969     |Stolichnaya Hot                  |null                  |\n",
      "|940570     |Skinnygirl Bare Naked Vodka      |100 Proof Vodka       |\n",
      "|926875     |Templeton Rye Special Reserve 8YR|Blended Whiskey       |\n",
      "|940570     |Skinnygirl Bare Naked            |American Vodka        |\n",
      "|903786     |Distillers Gin No. 6             |Special Order Item    |\n",
      "|34422      |Grey Goose Vodka                 |Imported Vodka        |\n",
      "|902349     |Hiram Walker Blackberry Brandy   |Special Order Item    |\n",
      "|903786     |Distillers Gin No. 6             |American Dry Gin      |\n",
      "|903638     |Merry's Irish Cream              |Special Order Item    |\n",
      "|940570     |Skinnygirl Bare Naked Vodka      |American Vodka        |\n",
      "|902156     |Ice Hole Salty Caramel Schnapps  |Miscellaneous Schnapps|\n",
      "+-----------+---------------------------------+----------------------+\n",
      "\n"
     ]
    }
   ],
   "source": [
    "liquor_product_list.filter(liquor_product_list[\"Item Number\"].isin(rec_liquor_top10_store_cv[2190]))\\\n",
    ".show(truncate = False)"
   ]
  },
  {
   "cell_type": "code",
   "execution_count": 134,
   "metadata": {
    "scrolled": true
   },
   "outputs": [
    {
     "name": "stdout",
     "output_type": "stream",
     "text": [
      "+-----------+-----------------------------------+\n",
      "|store_num_b|Name                               |\n",
      "+-----------+-----------------------------------+\n",
      "|2512       |Hy-Vee Wine and Spirits / Iowa City|\n",
      "+-----------+-----------------------------------+\n",
      "\n"
     ]
    }
   ],
   "source": [
    "liquor_store_clean.filter(liquor_store_clean.store_num_b== 2512).select('store_num_b', \"Name\")\\\n",
    ".show(truncate = False)"
   ]
  },
  {
   "cell_type": "code",
   "execution_count": 252,
   "metadata": {},
   "outputs": [
    {
     "name": "stdout",
     "output_type": "stream",
     "text": [
      "+-----------+-------------------------------+--------------------------------+\n",
      "|Item Number|Item Description               |Category Name Clean             |\n",
      "+-----------+-------------------------------+--------------------------------+\n",
      "|34422      |Grey Goose                     |Imported Vodka                  |\n",
      "|933281     |Seagram's Twisted Pineapple Gin|Flavored Gin                    |\n",
      "|28867      |Tanqueray Gin                  |Imported Dry Gin                |\n",
      "|43127      |Bacardi Superior Rum           |Puerto Rico & Virgin Islands Rum|\n",
      "|34007      |Absolut Swedish Vodka 80prf    |Imported Vodka                  |\n",
      "|903638     |Merry's Irish Cream            |Cream Liqueur                   |\n",
      "|15627      |Jameson                        |Irish Whiskey                   |\n",
      "|43127      |Bacardi Superior Rum           |White Rum                       |\n",
      "|34422      |Grey Goose Vodka               |Imported Vodka                  |\n",
      "|19067      |Jim Beam                       |Straight Bourbon Whiskey        |\n",
      "|34007      |Absolut Swedish Vodka 80 Prf   |Imported Vodka                  |\n",
      "|43127      |Bacardi Superior               |White Rum                       |\n",
      "|19477      |Makers Mark                    |Straight Bourbon Whiskey        |\n",
      "|903638     |Merry's Irish Cream            |Special Order Item              |\n",
      "|902156     |Ice Hole Salty Caramel Schnapps|Miscellaneous Schnapps          |\n",
      "|19477      |Maker's Mark                   |Straight Bourbon Whiskey        |\n",
      "+-----------+-------------------------------+--------------------------------+\n",
      "\n"
     ]
    }
   ],
   "source": [
    "liquor_product_list.filter(liquor_product_list[\"Item Number\"].isin(rec_liquor_top10_store_cv[2512]))\\\n",
    ".show(truncate = False)"
   ]
  },
  {
   "cell_type": "markdown",
   "metadata": {},
   "source": [
    "#### Recommend liquor stores to top 10 best-selling liquor products"
   ]
  },
  {
   "cell_type": "code",
   "execution_count": 253,
   "metadata": {},
   "outputs": [],
   "source": [
    "rec_store_top10_item_cv ={}\n",
    "for item in top10_item_list:\n",
    "    rec_store = liquorRecs_cv.where(liquorRecs_cv.item_num == item).select(\"recommendations\").collect()\n",
    "    rec_store_top10_item_cv[item] = [i.Store for i in rec_store[0][\"recommendations\"]]"
   ]
  },
  {
   "cell_type": "code",
   "execution_count": 254,
   "metadata": {},
   "outputs": [
    {
     "data": {
      "text/plain": [
       "{u'11296': [3696, 4014, 3663, 3719, 3789, 4615, 2507, 3722, 4864, 3660],\n",
       " u'11297': [3494, 3524, 3447, 3420, 5178, 3385, 3354, 5144, 3525, 2636],\n",
       " u'11788': [3663, 3549, 3719, 3789, 3696, 4346, 3660, 3592, 3769, 4001],\n",
       " u'1799': [5053, 5082, 5629, 5178, 5103, 5721, 5144, 5438, 5192, 5518],\n",
       " u'26826': [3696, 4014, 3663, 2507, 4615, 3719, 3789, 3722, 4794, 3769],\n",
       " u'26827': [3494, 3524, 5178, 5690, 3385, 3447, 5053, 5675, 3420, 5144],\n",
       " u'36308': [3663, 3696, 3719, 3789, 3769, 3776, 3592, 3722, 4014, 4001],\n",
       " u'43337': [3494, 3549, 3524, 2636, 3525, 3447, 3818, 4512, 4762, 3456],\n",
       " u'43338': [5178, 5899, 3696, 2659, 5727, 5278, 3660, 5290, 5282, 5053],\n",
       " u'88296': [5178, 4705, 5690, 5016, 4679, 5398, 5310, 4877, 5899, 3524]}"
      ]
     },
     "execution_count": 254,
     "metadata": {},
     "output_type": "execute_result"
    }
   ],
   "source": [
    "rec_store_top10_item_cv"
   ]
  },
  {
   "cell_type": "code",
   "execution_count": 129,
   "metadata": {},
   "outputs": [
    {
     "name": "stdout",
     "output_type": "stream",
     "text": [
      "+--------+----------------+-------------------+\n",
      "|item_num|Item Description|Category Name Clean|\n",
      "+--------+----------------+-------------------+\n",
      "|11296   |Crown Royal     |Canadian Whiskey   |\n",
      "+--------+----------------+-------------------+\n",
      "\n"
     ]
    }
   ],
   "source": [
    "df.filter(df.item_num=='11296').select(\"item_num\", 'Item Description','Category Name Clean').dropDuplicates().show(truncate = False)"
   ]
  },
  {
   "cell_type": "code",
   "execution_count": 256,
   "metadata": {
    "scrolled": true
   },
   "outputs": [
    {
     "name": "stdout",
     "output_type": "stream",
     "text": [
      "+-----------+----------------------------------+-----------------------+------------+\n",
      "|store_num_b|Name                              |Address                |City        |\n",
      "+-----------+----------------------------------+-----------------------+------------+\n",
      "|2507       |Hy-Vee Food Store #1 / Burlington |939 Angular            |Burlington  |\n",
      "|3660       |Wal-Mart 2935 / Knoxville         |814 W Bell Ave         |Knoxville   |\n",
      "|3722       |Wal-Mart 1361 / Sioux City        |3400 Singing Hills Blvd|Sioux City  |\n",
      "|4615       |North Side Liquor & Grocery       |1303 North Federal Ave |Mason City  |\n",
      "|4864       |CLINTON LIQUOR & CONVENIENCE STORE|1641 S Bluff Blvd      |Clinton     |\n",
      "|4014       |Wal-Mart 1732 / Denison           |510 C Ave              |Denison     |\n",
      "|3696       |Wal-Mart 1723 / Des Moines        |5101 SE 14th St        |Des Moines  |\n",
      "|3719       |Wal-Mart 0581 / Marshalltown      |2802 S Center St       |Marshalltown|\n",
      "|3663       |Wal-Mart 1496 / Waterloo          |1334 Flammang Dr       |Waterloo    |\n",
      "|3789       |Wal-Mart 1393 / Oskaloosa         |2203 A Avenue West     |Oskaloosa   |\n",
      "+-----------+----------------------------------+-----------------------+------------+\n",
      "\n"
     ]
    }
   ],
   "source": [
    "liquor_store_clean.filter(liquor_store_clean[\"store_num_b\"].isin(rec_store_top10_item_cv['11296'])).select(\"store_num_b\", \n",
    "                        \"Name\", \"Address\",\"City\").show(truncate = False)"
   ]
  },
  {
   "cell_type": "code",
   "execution_count": 131,
   "metadata": {},
   "outputs": [
    {
     "name": "stdout",
     "output_type": "stream",
     "text": [
      "+--------+---------------------------+-------------------+\n",
      "|item_num|Item Description           |Category Name Clean|\n",
      "+--------+---------------------------+-------------------+\n",
      "|11297   |Crown Royal Canadian Whisky|Canadian Whiskey   |\n",
      "|11297   |Crown Royal                |Canadian Whiskey   |\n",
      "+--------+---------------------------+-------------------+\n",
      "\n"
     ]
    }
   ],
   "source": [
    "df.filter(df.item_num=='11297').select(\"item_num\", 'Item Description','Category Name Clean').dropDuplicates().show(truncate = False)"
   ]
  },
  {
   "cell_type": "code",
   "execution_count": 257,
   "metadata": {
    "scrolled": true
   },
   "outputs": [
    {
     "name": "stdout",
     "output_type": "stream",
     "text": [
      "+-----------+---------------------------------+-----------------------+---------------+\n",
      "|store_num_b|Name                             |Address                |City           |\n",
      "+-----------+---------------------------------+-----------------------+---------------+\n",
      "|3524       |Sam's Club 6568 / Ames           |305 Airport Rd         |Ames           |\n",
      "|3420       |Sam's Club 6344 / Windsor Heights|1101  73rd St          |Windsor Heights|\n",
      "|3447       |Sam's Club 6432 / Sioux City     |4201 S. York St.       |Sioux City     |\n",
      "|5144       |Sam's Club 6979 / Ankeny         |4625 SE Delaware Ave   |Ankeny         |\n",
      "|3494       |Sam's Club 6514 / Waterloo       |210 East Tower Park Dr |Waterloo       |\n",
      "|3354       |Sam's Club 8238 / Davenport      |3845 Elmore Ave.       |Davenport      |\n",
      "|3525       |Wines and Spirits                |106 W 2nd St           |Washington     |\n",
      "|5178       |New York Dollar Stores           |320, N Calhoun St      |West Liberty   |\n",
      "|2636       |Hy-Vee Wine and Spirits / Hubbell|2310 Hubbell Ave       |Des Moines     |\n",
      "|3385       |Sam's Club 8162 / Cedar Rapids   |2605 Blairs Ferry Rd NE|Cedar Rapids   |\n",
      "+-----------+---------------------------------+-----------------------+---------------+\n",
      "\n"
     ]
    }
   ],
   "source": [
    "liquor_store_clean.filter(liquor_store_clean[\"store_num_b\"].isin(rec_store_top10_item_cv['11297'])).select(\"store_num_b\", \n",
    "                        \"Name\", \"Address\",\"City\").show(truncate = False)"
   ]
  },
  {
   "cell_type": "code",
   "execution_count": null,
   "metadata": {},
   "outputs": [],
   "source": []
  },
  {
   "cell_type": "markdown",
   "metadata": {},
   "source": [
    "###  Model Fine-Tuning with cross validation-ALS Implicit Model \n"
   ]
  },
  {
   "cell_type": "code",
   "execution_count": 41,
   "metadata": {},
   "outputs": [],
   "source": [
    "# Note we set cold start strategy to 'drop' to ensure we don't get NaN evaluation metrics\n",
    "\n",
    "\n",
    "# Note we set cold start strategy to 'drop' to ensure we don't get NaN evaluation metrics\n",
    "als_imp_cv = ALS(implicitPrefs=True, userCol=\"Store\", itemCol=\"item_num\", \n",
    "              ratingCol=\"perc_of_store_total_sale\",\n",
    "          coldStartStrategy=\"drop\", nonnegative = True)\n",
    "\n",
    "evaluator_cv = RegressionEvaluator(metricName='rmse', labelCol='perc_of_store_total_sale')"
   ]
  },
  {
   "cell_type": "code",
   "execution_count": 42,
   "metadata": {},
   "outputs": [],
   "source": [
    "# build parameter grid\n",
    "paramGrid = ParamGridBuilder() \\\n",
    "    .addGrid(als_imp_cv.maxIter, [10, 15, 20]) \\\n",
    "    .addGrid(als_imp_cv.rank, [10, 15, 20]) \\\n",
    "    .addGrid(als_imp_cv.regParam, [0.01, 0.001]) \\\n",
    "    .build()"
   ]
  },
  {
   "cell_type": "code",
   "execution_count": null,
   "metadata": {},
   "outputs": [],
   "source": [
    "crossval_imp = CrossValidator(estimator=als_imp_cv,\n",
    "                          estimatorParamMaps=paramGrid,\n",
    "                          evaluator=evaluator_cv, \n",
    "                          numFolds=5)  "
   ]
  },
  {
   "cell_type": "code",
   "execution_count": null,
   "metadata": {},
   "outputs": [],
   "source": [
    "# Run cross-validation, and choose the best set of parameters.\n",
    "cvModel_imp = crossval_imp.fit(training)"
   ]
  },
  {
   "cell_type": "code",
   "execution_count": null,
   "metadata": {},
   "outputs": [],
   "source": [
    "# Apply model on the test set to predict \n",
    "prediction_cv_imp = cvModel_imp.transform(test)"
   ]
  },
  {
   "cell_type": "code",
   "execution_count": null,
   "metadata": {},
   "outputs": [
    {
     "name": "stdout",
     "output_type": "stream",
     "text": [
      "+-----+--------+------+------------------------+-----------+-----------+------------------------------------------+------------+---------------------+---------------+-----+--------+------------------------------------+-----------+\n",
      "|Store|item_num|rating|perc_of_store_total_sale|prediction |store_num_b|Name                                      |Store Status|Address              |City           |State|Zip Code|Store Address                       |Report Date|\n",
      "+-----+--------+------+------------------------+-----------+-----------+------------------------------------------+------------+---------------------+---------------+-----+--------+------------------------------------+-----------+\n",
      "|4077 |10623   |0.0   |1.8700788475274926E-5   |0.06517759 |4077       |Xo Food And Liquor                        |A           |428 Franklin St      |Waterloo       |IA   |50703   |POINT (-92.33464100000002 42.501602)|04/01/2020 |\n",
      "|3698 |10623   |0.0   |4.750013577122141E-6    |0.04848771 |3698       |Ingersoll Wine Merchants                  |A           |1300  50th St        |West Des Moines|IA   |50266   |POINT (-93.771159 41.590871)        |04/01/2020 |\n",
      "|4295 |10623   |0.0   |3.65156058143765E-5     |0.090148866|4295       |Nat Food Mart #1 / Hubbell                |I           |3804 Hubbell         |Des Moines     |IA   |50317   |POINT (-93.541351 41.630849)        |04/01/2020 |\n",
      "|2290 |10623   |0.0   |7.363685507009043E-6    |0.076922834|2290       |Al's Liquors Unlimited                    |I           |215 West Milwaukee   |Storm Lake     |IA   |50588   |POINT (-95.202405 42.647492)        |04/01/2020 |\n",
      "|4545 |10623   |0.0   |1.892105279021529E-5    |0.023556076|4545       |Fill R Up                                 |I           |14151 Wabash Ave     |Council Bluffs |IA   |51503   |POINT (-95.81790900000001 41.220431)|04/01/2020 |\n",
      "|3917 |10623   |0.0   |2.5384333237112735E-6   |0.05065586 |3917       |Smokin' Joe's #2 Tobacco and Liquor Outlet|A           |1606 W Locust St     |Davenport      |IA   |52804   |POINT (-90.599037 41.538254)        |04/01/2020 |\n",
      "|4046 |10623   |0.0   |1.7309503054682413E-5   |0.028931752|4046       |J and K Market                            |I           |113 W Vanburen       |Centerville    |IA   |52544   |POINT (-92.874795 40.734946)        |04/01/2020 |\n",
      "|5487 |10623   |1.0   |9.288992031104113E-5    |0.037823807|5487       |Independence Liquor & Food                |I           |1761 Independence Ave|Waterloo       |IA   |50707   |POINT (-92.302514 42.498404)        |04/01/2020 |\n",
      "|5728 |15727   |1.0   |9.088837012728021E-5    |0.121096015|5728       |Beer Thirty Denison                       |A           |923 4th Avenue South |Denison        |IA   |51442   |POINT (-95.360162 42.012412)        |04/01/2020 |\n",
      "|2551 |15727   |0.0   |3.7963324641862363E-6   |0.12539591 |2551       |Hy-Vee Food Store / Chariton              |A           |2001 West Court      |Chariton       |IA   |50049   |null                                |04/01/2020 |\n",
      "+-----+--------+------+------------------------+-----------+-----------+------------------------------------------+------------+---------------------+---------------+-----+--------+------------------------------------+-----------+\n",
      "only showing top 10 rows\n",
      "\n"
     ]
    }
   ],
   "source": [
    "prediction_cv_imp = prediction_cv_imp.join(liquor_store_clean,liquor_store_clean.store_num_b== prediction_cv_imp.Store)\n",
    "prediction_cv_imp.show(10, truncate = False)"
   ]
  },
  {
   "cell_type": "markdown",
   "metadata": {},
   "source": [
    "### Model evaluation"
   ]
  },
  {
   "cell_type": "code",
   "execution_count": null,
   "metadata": {},
   "outputs": [
    {
     "name": "stdout",
     "output_type": "stream",
     "text": [
      "Root-mean-square error = 0.481845640967\n"
     ]
    }
   ],
   "source": [
    "evaluator = RegressionEvaluator(metricName='rmse', labelCol='perc_of_store_total_sale')\n",
    "rmse_cv_imp = evaluator.evaluate(prediction_cv_imp)\n",
    "print(\"Root-mean-square error = \" + str(rmse_cv_imp))"
   ]
  },
  {
   "cell_type": "code",
   "execution_count": null,
   "metadata": {},
   "outputs": [
    {
     "data": {
      "text/plain": [
       "{Param(parent=u'ALS_44dda395bf35493d2cfe', name='rank', doc='rank of the factorization'): 10,\n",
       " Param(parent=u'ALS_44dda395bf35493d2cfe', name='regParam', doc='regularization parameter (>= 0).'): 0.01,\n",
       " Param(parent=u'ALS_44dda395bf35493d2cfe', name='maxIter', doc='max number of iterations (>= 0).'): 10}"
      ]
     },
     "execution_count": 48,
     "metadata": {},
     "output_type": "execute_result"
    }
   ],
   "source": [
    "sorted(zip(cvModel_imp.avgMetrics, paramGrid))[0][1]"
   ]
  },
  {
   "cell_type": "code",
   "execution_count": null,
   "metadata": {},
   "outputs": [],
   "source": [
    "params = [{p.name: v for p, v in m.items()} for m in cvModel_imp.getEstimatorParamMaps()]"
   ]
  },
  {
   "cell_type": "code",
   "execution_count": null,
   "metadata": {},
   "outputs": [],
   "source": [
    "# All grid search results\n",
    "cv_rmse_df_imp = pd.DataFrame.from_dict({\"params\": params, cvModel_imp.getEvaluator().getMetricName():cvModel_imp.avgMetrics}).sort_values(by=\"rmse\")"
   ]
  },
  {
   "cell_type": "code",
   "execution_count": null,
   "metadata": {},
   "outputs": [
    {
     "data": {
      "text/html": [
       "<div>\n",
       "<style scoped>\n",
       "    .dataframe tbody tr th:only-of-type {\n",
       "        vertical-align: middle;\n",
       "    }\n",
       "\n",
       "    .dataframe tbody tr th {\n",
       "        vertical-align: top;\n",
       "    }\n",
       "\n",
       "    .dataframe thead th {\n",
       "        text-align: right;\n",
       "    }\n",
       "</style>\n",
       "<table border=\"1\" class=\"dataframe\">\n",
       "  <thead>\n",
       "    <tr style=\"text-align: right;\">\n",
       "      <th></th>\n",
       "      <th>params</th>\n",
       "      <th>rmse</th>\n",
       "    </tr>\n",
       "  </thead>\n",
       "  <tbody>\n",
       "    <tr>\n",
       "      <th>0</th>\n",
       "      <td>{u'regParam': 0.01, u'rank': 10, u'maxIter': 10}</td>\n",
       "      <td>0.383220</td>\n",
       "    </tr>\n",
       "    <tr>\n",
       "      <th>6</th>\n",
       "      <td>{u'regParam': 0.01, u'rank': 10, u'maxIter': 15}</td>\n",
       "      <td>0.386976</td>\n",
       "    </tr>\n",
       "    <tr>\n",
       "      <th>1</th>\n",
       "      <td>{u'regParam': 0.001, u'rank': 10, u'maxIter': 10}</td>\n",
       "      <td>0.387568</td>\n",
       "    </tr>\n",
       "    <tr>\n",
       "      <th>12</th>\n",
       "      <td>{u'regParam': 0.01, u'rank': 10, u'maxIter': 20}</td>\n",
       "      <td>0.388750</td>\n",
       "    </tr>\n",
       "    <tr>\n",
       "      <th>7</th>\n",
       "      <td>{u'regParam': 0.001, u'rank': 10, u'maxIter': 15}</td>\n",
       "      <td>0.392382</td>\n",
       "    </tr>\n",
       "    <tr>\n",
       "      <th>2</th>\n",
       "      <td>{u'regParam': 0.01, u'rank': 15, u'maxIter': 10}</td>\n",
       "      <td>0.393426</td>\n",
       "    </tr>\n",
       "    <tr>\n",
       "      <th>4</th>\n",
       "      <td>{u'regParam': 0.01, u'rank': 20, u'maxIter': 10}</td>\n",
       "      <td>0.394524</td>\n",
       "    </tr>\n",
       "    <tr>\n",
       "      <th>13</th>\n",
       "      <td>{u'regParam': 0.001, u'rank': 10, u'maxIter': 20}</td>\n",
       "      <td>0.395031</td>\n",
       "    </tr>\n",
       "    <tr>\n",
       "      <th>8</th>\n",
       "      <td>{u'regParam': 0.01, u'rank': 15, u'maxIter': 15}</td>\n",
       "      <td>0.396630</td>\n",
       "    </tr>\n",
       "    <tr>\n",
       "      <th>14</th>\n",
       "      <td>{u'regParam': 0.01, u'rank': 15, u'maxIter': 20}</td>\n",
       "      <td>0.398164</td>\n",
       "    </tr>\n",
       "    <tr>\n",
       "      <th>10</th>\n",
       "      <td>{u'regParam': 0.01, u'rank': 20, u'maxIter': 15}</td>\n",
       "      <td>0.398677</td>\n",
       "    </tr>\n",
       "    <tr>\n",
       "      <th>3</th>\n",
       "      <td>{u'regParam': 0.001, u'rank': 15, u'maxIter': 10}</td>\n",
       "      <td>0.399804</td>\n",
       "    </tr>\n",
       "    <tr>\n",
       "      <th>16</th>\n",
       "      <td>{u'regParam': 0.01, u'rank': 20, u'maxIter': 20}</td>\n",
       "      <td>0.400576</td>\n",
       "    </tr>\n",
       "    <tr>\n",
       "      <th>5</th>\n",
       "      <td>{u'regParam': 0.001, u'rank': 20, u'maxIter': 10}</td>\n",
       "      <td>0.400603</td>\n",
       "    </tr>\n",
       "    <tr>\n",
       "      <th>9</th>\n",
       "      <td>{u'regParam': 0.001, u'rank': 15, u'maxIter': 15}</td>\n",
       "      <td>0.402489</td>\n",
       "    </tr>\n",
       "    <tr>\n",
       "      <th>15</th>\n",
       "      <td>{u'regParam': 0.001, u'rank': 15, u'maxIter': 20}</td>\n",
       "      <td>0.404025</td>\n",
       "    </tr>\n",
       "    <tr>\n",
       "      <th>11</th>\n",
       "      <td>{u'regParam': 0.001, u'rank': 20, u'maxIter': 15}</td>\n",
       "      <td>0.404243</td>\n",
       "    </tr>\n",
       "    <tr>\n",
       "      <th>17</th>\n",
       "      <td>{u'regParam': 0.001, u'rank': 20, u'maxIter': 20}</td>\n",
       "      <td>0.406487</td>\n",
       "    </tr>\n",
       "  </tbody>\n",
       "</table>\n",
       "</div>"
      ],
      "text/plain": [
       "                                               params      rmse\n",
       "0    {u'regParam': 0.01, u'rank': 10, u'maxIter': 10}  0.383220\n",
       "6    {u'regParam': 0.01, u'rank': 10, u'maxIter': 15}  0.386976\n",
       "1   {u'regParam': 0.001, u'rank': 10, u'maxIter': 10}  0.387568\n",
       "12   {u'regParam': 0.01, u'rank': 10, u'maxIter': 20}  0.388750\n",
       "7   {u'regParam': 0.001, u'rank': 10, u'maxIter': 15}  0.392382\n",
       "2    {u'regParam': 0.01, u'rank': 15, u'maxIter': 10}  0.393426\n",
       "4    {u'regParam': 0.01, u'rank': 20, u'maxIter': 10}  0.394524\n",
       "13  {u'regParam': 0.001, u'rank': 10, u'maxIter': 20}  0.395031\n",
       "8    {u'regParam': 0.01, u'rank': 15, u'maxIter': 15}  0.396630\n",
       "14   {u'regParam': 0.01, u'rank': 15, u'maxIter': 20}  0.398164\n",
       "10   {u'regParam': 0.01, u'rank': 20, u'maxIter': 15}  0.398677\n",
       "3   {u'regParam': 0.001, u'rank': 15, u'maxIter': 10}  0.399804\n",
       "16   {u'regParam': 0.01, u'rank': 20, u'maxIter': 20}  0.400576\n",
       "5   {u'regParam': 0.001, u'rank': 20, u'maxIter': 10}  0.400603\n",
       "9   {u'regParam': 0.001, u'rank': 15, u'maxIter': 15}  0.402489\n",
       "15  {u'regParam': 0.001, u'rank': 15, u'maxIter': 20}  0.404025\n",
       "11  {u'regParam': 0.001, u'rank': 20, u'maxIter': 15}  0.404243\n",
       "17  {u'regParam': 0.001, u'rank': 20, u'maxIter': 20}  0.406487"
      ]
     },
     "execution_count": 51,
     "metadata": {},
     "output_type": "execute_result"
    }
   ],
   "source": [
    "cv_rmse_df_imp"
   ]
  },
  {
   "cell_type": "code",
   "execution_count": null,
   "metadata": {},
   "outputs": [
    {
     "name": "stdout",
     "output_type": "stream",
     "text": [
      "regParam 0.01\n",
      "rank 10\n",
      "maxIter 10\n"
     ]
    }
   ],
   "source": [
    "#  parameters for best model\n",
    "for k,v in cv_rmse_df_imp.params[cv_rmse_df_imp.rmse == cv_rmse_df_imp.rmse.min()].values[0].items():\n",
    "    print k, v"
   ]
  },
  {
   "cell_type": "code",
   "execution_count": null,
   "metadata": {},
   "outputs": [
    {
     "data": {
      "text/plain": [
       "0.38322025914585806"
      ]
     },
     "execution_count": 53,
     "metadata": {},
     "output_type": "execute_result"
    }
   ],
   "source": [
    "# RMSE for best model\n",
    "cv_rmse_df_imp.rmse.min()"
   ]
  },
  {
   "cell_type": "markdown",
   "metadata": {},
   "source": [
    "### Use best model to produce recommendations"
   ]
  },
  {
   "cell_type": "code",
   "execution_count": 54,
   "metadata": {},
   "outputs": [],
   "source": [
    "\n",
    "# Note we set cold start strategy to 'drop' to ensure we don't get NaN evaluation metrics\n",
    "als_cv_imp = ALS(maxIter=10, regParam=0.01, rank = 10, implicitPrefs=True, \n",
    "                       userCol=\"Store\", itemCol=\"item_num\", ratingCol=\"perc_of_store_total_sale\",\n",
    "                   coldStartStrategy=\"drop\", nonnegative = True)\n",
    "\n"
   ]
  },
  {
   "cell_type": "code",
   "execution_count": 55,
   "metadata": {},
   "outputs": [],
   "source": [
    "#fit model\n",
    "als_cv_model_imp = als_cv_imp.fit(training)"
   ]
  },
  {
   "cell_type": "code",
   "execution_count": 56,
   "metadata": {},
   "outputs": [],
   "source": [
    "# Apply model on the test set to predict \n",
    "als_cv_predictions_imp = als_cv_model_imp.transform(test)"
   ]
  },
  {
   "cell_type": "code",
   "execution_count": 57,
   "metadata": {},
   "outputs": [],
   "source": [
    "userRecs_cv_imp = als_cv_model_imp.recommendForAllUsers(10)"
   ]
  },
  {
   "cell_type": "code",
   "execution_count": 58,
   "metadata": {},
   "outputs": [
    {
     "name": "stdout",
     "output_type": "stream",
     "text": [
      "+-----+-----------------------------------------------------------------------------------------------------------------------------------------------------------------------------------------------------------+\n",
      "|Store|recommendations                                                                                                                                                                                            |\n",
      "+-----+-----------------------------------------------------------------------------------------------------------------------------------------------------------------------------------------------------------+\n",
      "|4900 |[[89193, 1.0120503], [49189, 1.0109377], [49185, 1.0046718], [36903, 1.0030771], [48099, 0.9988279], [53213, 0.9939644], [26823, 0.9802368], [11773, 0.977573], [43333, 0.9661156], [35913, 0.96293867]]   |\n",
      "|5300 |[[26821, 0.7096183], [37994, 0.69815487], [26826, 0.697179], [11290, 0.6882901], [43331, 0.6870129], [64866, 0.68502575], [11294, 0.68019557], [11774, 0.6794355], [64858, 0.67601943], [64864, 0.6743206]]|\n",
      "|5803 |[[10807, 0.9805303], [64864, 0.97485816], [64858, 0.9744692], [38176, 0.9662294], [87408, 0.9614938], [43331, 0.9189896], [26821, 0.9176314], [36301, 0.917402], [11290, 0.9114194], [43334, 0.9105728]]   |\n",
      "+-----+-----------------------------------------------------------------------------------------------------------------------------------------------------------------------------------------------------------+\n",
      "only showing top 3 rows\n",
      "\n"
     ]
    }
   ],
   "source": [
    "userRecs_cv_imp.show(3, truncate=False)"
   ]
  },
  {
   "cell_type": "code",
   "execution_count": 59,
   "metadata": {},
   "outputs": [],
   "source": [
    "liquorRecs_cv_imp = als_cv_model_imp.recommendForAllItems(10)"
   ]
  },
  {
   "cell_type": "code",
   "execution_count": 60,
   "metadata": {},
   "outputs": [
    {
     "name": "stdout",
     "output_type": "stream",
     "text": [
      "+--------+-------------------------------------------------------------------------------------------------------------------------------------------------------------------------------------------------------+\n",
      "|item_num|recommendations                                                                                                                                                                                        |\n",
      "+--------+-------------------------------------------------------------------------------------------------------------------------------------------------------------------------------------------------------+\n",
      "|21220   |[[2619, 0.22014774], [2614, 0.20923689], [2643, 0.20775041], [2603, 0.20030355], [2665, 0.19950663], [2648, 0.19860943], [2515, 0.19681376], [2512, 0.1955989], [2590, 0.19223362], [2538, 0.19113725]]|\n",
      "|32460   |[[3773, 0.2162186], [4129, 0.18812409], [2538, 0.18042792], [3869, 0.17780903], [2190, 0.17657104], [2648, 0.17634706], [2619, 0.17563295], [2643, 0.17469415], [4988, 0.17314237], [2666, 0.17279202]]|\n",
      "|64590   |[[2515, 0.49738222], [2619, 0.48381987], [2605, 0.47958094], [2614, 0.46836323], [2651, 0.46449745], [2590, 0.45988753], [2637, 0.4564313], [2599, 0.44975865], [2571, 0.4431762], [2647, 0.44315928]] |\n",
      "+--------+-------------------------------------------------------------------------------------------------------------------------------------------------------------------------------------------------------+\n",
      "only showing top 3 rows\n",
      "\n"
     ]
    }
   ],
   "source": [
    "liquorRecs_cv_imp.show(3, truncate=False)"
   ]
  },
  {
   "cell_type": "code",
   "execution_count": 68,
   "metadata": {},
   "outputs": [],
   "source": [
    "# collect the recommendations to top 10 stores by total sales in dollars\n",
    "rec_liquor_top10_store_cv_imp ={}\n",
    "for store in top10_store_list:\n",
    "    rec_liquor = userRecs_cv_imp.where(userRecs_cv_imp.Store == store).select(\"recommendations\").collect()\n",
    "    rec_liquor_top10_store_cv_imp[store] = [i.item_num for i in rec_liquor[0][\"recommendations\"]]"
   ]
  },
  {
   "cell_type": "code",
   "execution_count": 69,
   "metadata": {
    "scrolled": true
   },
   "outputs": [
    {
     "data": {
      "text/plain": [
       "{2190: [16850, 18348, 49186, 88291, 5747, 21236, 89610, 18006, 89175, 88186],\n",
       " 2512: [18348, 21236, 89610, 5133, 22175, 34244, 18006, 16850, 27100, 67595],\n",
       " 2633: [18348, 16850, 64776, 27605, 27125, 16676, 15658, 21236, 75165, 5747],\n",
       " 3354: [42717, 34007, 19067, 41694, 82607, 43127, 82847, 65257, 10627, 82787],\n",
       " 3385: [42717, 34007, 19067, 82607, 41694, 43127, 82847, 65257, 82787, 11297],\n",
       " 3420: [42717, 34007, 19067, 41694, 82607, 43127, 82847, 65257, 10627, 11297],\n",
       " 3773: [18348, 16850, 5747, 27125, 15658, 27605, 75165, 27100, 28279, 5635],\n",
       " 3814: [41694, 19067, 42717, 10627, 34007, 43127, 82607, 86887, 65257, 82847],\n",
       " 3952: [19067, 41694, 42717, 43127, 10627, 34007, 28867, 67527, 65257, 82607],\n",
       " 4829: [19067, 38177, 28867, 64776, 41694, 67527, 10627, 42717, 43127, 80096]}"
      ]
     },
     "execution_count": 69,
     "metadata": {},
     "output_type": "execute_result"
    }
   ],
   "source": [
    "rec_liquor_top10_store_cv_imp"
   ]
  },
  {
   "cell_type": "markdown",
   "metadata": {},
   "source": [
    "#### Here are most recommended Liquor Product for top_10 Liquor stores  (Implicit ALS )"
   ]
  },
  {
   "cell_type": "code",
   "execution_count": 70,
   "metadata": {
    "scrolled": true
   },
   "outputs": [
    {
     "name": "stdout",
     "output_type": "stream",
     "text": [
      "+-----------+-------------------------+\n",
      "|store_num_b|Name                     |\n",
      "+-----------+-------------------------+\n",
      "|2190       |Central City Liquor, Inc.|\n",
      "+-----------+-------------------------+\n",
      "\n"
     ]
    }
   ],
   "source": [
    "liquor_store_clean.filter(liquor_store_clean.store_num_b==2190).select('store_num_b', \"Name\")\\\n",
    ".show(truncate = False)"
   ]
  },
  {
   "cell_type": "code",
   "execution_count": 73,
   "metadata": {},
   "outputs": [
    {
     "name": "stdout",
     "output_type": "stream",
     "text": [
      "+-----------+---------------------------+-----------------------------+\n",
      "|Item Number|Item Description           |Category Name Clean          |\n",
      "+-----------+---------------------------+-----------------------------+\n",
      "|88186      |Olmeca Altos Plata         |100% Agave Tequila           |\n",
      "|89610      |Olmeca Altos Reposado      |100% Agave Tequila           |\n",
      "|89175      |Don Julio Anejo Tequila    |100% Agave Tequila           |\n",
      "|88291      |Patron Tequila Silver Mini |100% Agave Tequila           |\n",
      "|89175      |Don Julio Anejo Tequila    |Tequila                      |\n",
      "|49186      |Remy Martin VSOP           |Imported Brandy              |\n",
      "|16850      |Blanton's Bourbon          |Straight Bourbon Whiskey     |\n",
      "|49186      |Remy Martin Vsop Cognac    |Imported Brandy              |\n",
      "|5747       |Johnnie Walker White Walker|Temporary & Specialty Package|\n",
      "|18348      |Four Roses Small Batch     |Straight Bourbon Whiskey     |\n",
      "|16850      |Blantons Bourbon           |Straight Bourbon Whiskey     |\n",
      "|89610      |Olmeca Altos Reposado      |null                         |\n",
      "|88186      |Olmeca Altos Plata         |Tequila                      |\n",
      "|49186      |Remy Martin Vsop Cognac    |Imported Grape Brandy        |\n",
      "|21236      |Ridgemont Reserve 1792     |Straight Bourbon Whiskey     |\n",
      "|88291      |Patron Silver Mini         |100% Agave Tequila           |\n",
      "|89175      |Don Julio Anejo            |100% Agave Tequila           |\n",
      "|5747       |Johnnie Walker White Walker|Scotch Whiskey               |\n",
      "|18006      |Buffalo Trace Bourbon      |Straight Bourbon Whiskey     |\n",
      "|88291      |Patron Tequila Silver Mini |Tequila                      |\n",
      "+-----------+---------------------------+-----------------------------+\n",
      "only showing top 20 rows\n",
      "\n"
     ]
    }
   ],
   "source": [
    "liquor_product_list.filter(liquor_product_list[\"Item Number\"].isin(rec_liquor_top10_store_cv_imp[2190]))\\\n",
    ".show(truncate = False)"
   ]
  },
  {
   "cell_type": "code",
   "execution_count": 74,
   "metadata": {
    "scrolled": true
   },
   "outputs": [
    {
     "name": "stdout",
     "output_type": "stream",
     "text": [
      "+-----------+-----------------------------------+\n",
      "|store_num_b|Name                               |\n",
      "+-----------+-----------------------------------+\n",
      "|2512       |Hy-Vee Wine and Spirits / Iowa City|\n",
      "+-----------+-----------------------------------+\n",
      "\n"
     ]
    }
   ],
   "source": [
    "liquor_store_clean.filter(liquor_store_clean.store_num_b== 2512).select('store_num_b', \"Name\")\\\n",
    ".show(truncate = False)"
   ]
  },
  {
   "cell_type": "code",
   "execution_count": 75,
   "metadata": {
    "scrolled": true
   },
   "outputs": [
    {
     "name": "stdout",
     "output_type": "stream",
     "text": [
      "+-----------+-------------------------------------+------------------------+\n",
      "|Item Number|Item Description                     |Category Name Clean     |\n",
      "+-----------+-------------------------------------+------------------------+\n",
      "|89610      |Olmeca Altos Reposado                |100% Agave Tequila      |\n",
      "|67595      |Patron Xo Cafe                       |Coffee Liqueur          |\n",
      "|67595      |Patron XO Cafe                       |Coffee Liqueur          |\n",
      "|22175      |Russells Reserve 10YR                |Straight Bourbon Whiskey|\n",
      "|22175      |Russell's Reserve 10YR               |Straight Bourbon Whiskey|\n",
      "|5133       |Glenmorangie 10 Yr Single Malt Scotch|Irish Whiskey           |\n",
      "|5133       |Glenmorangie 10 Yr Single Malt Scotch|Single Malt Scotch      |\n",
      "|16850      |Blanton's Bourbon                    |Straight Bourbon Whiskey|\n",
      "|18348      |Four Roses Small Batch               |Straight Bourbon Whiskey|\n",
      "|16850      |Blantons Bourbon                     |Straight Bourbon Whiskey|\n",
      "|89610      |Olmeca Altos Reposado                |null                    |\n",
      "|27100      |Sazerac Rye                          |Straight Rye Whiskey    |\n",
      "|21236      |Ridgemont Reserve 1792               |Straight Bourbon Whiskey|\n",
      "|18006      |Buffalo Trace Bourbon                |Straight Bourbon Whiskey|\n",
      "|34244      |Chopin Vodka                         |Imported Vodka          |\n",
      "|89610      |Olmeca Altos Reposado                |Tequila                 |\n",
      "|5133       |Glenmorangie 10YR                    |Single Malt Scotch      |\n",
      "+-----------+-------------------------------------+------------------------+\n",
      "\n"
     ]
    }
   ],
   "source": [
    "liquor_product_list.filter(liquor_product_list[\"Item Number\"].isin(rec_liquor_top10_store_cv_imp[2512]))\\\n",
    ".show(truncate = False)"
   ]
  },
  {
   "cell_type": "markdown",
   "metadata": {},
   "source": [
    "#### Recommend liquor stores to top 10 best-selling liquor products"
   ]
  },
  {
   "cell_type": "code",
   "execution_count": 85,
   "metadata": {},
   "outputs": [],
   "source": [
    "rec_store_top10_item_cv_imp ={}\n",
    "for item in top10_item_list:\n",
    "    rec_store = liquorRecs_cv_imp.where(liquorRecs_cv_imp.item_num == item).select(\"recommendations\").collect()\n",
    "    rec_store_top10_item_cv_imp[item] = [i.Store for i in rec_store[0][\"recommendations\"]]"
   ]
  },
  {
   "cell_type": "code",
   "execution_count": 86,
   "metadata": {},
   "outputs": [
    {
     "data": {
      "text/plain": [
       "{u'11296': [4140, 4779, 4621, 4678, 5382, 4873, 4767, 5061, 4457, 5357],\n",
       " u'11297': [3612, 5236, 5140, 2465, 3390, 4312, 3525, 2191, 5068, 5102],\n",
       " u'11788': [4779, 5382, 4621, 5357, 4873, 4767, 5061, 4519, 4457, 4140],\n",
       " u'1799': [3731, 3644, 4516, 3719, 3899, 3696, 3645, 3628, 4521, 2556],\n",
       " u'26826': [4457, 4779, 4873, 5382, 4353, 4140, 5061, 4427, 4621, 4395],\n",
       " u'26827': [3612, 2465, 3390, 4312, 3525, 5140, 2191, 5326, 5068, 5236],\n",
       " u'36308': [4140, 4253, 4702, 2562, 4688, 2200, 4703, 4705, 4795, 4678],\n",
       " u'43337': [3612, 5236, 4312, 5326, 2465, 3525, 3390, 5068, 5102, 5140],\n",
       " u'43338': [5357, 3943, 2200, 5382, 5326, 4621, 4767, 4253, 4779, 3390],\n",
       " u'88296': [5326, 5427, 4167, 5251, 3525, 4312, 2465, 5236, 5162, 3612]}"
      ]
     },
     "execution_count": 86,
     "metadata": {},
     "output_type": "execute_result"
    }
   ],
   "source": [
    "rec_store_top10_item_cv_imp"
   ]
  },
  {
   "cell_type": "code",
   "execution_count": 87,
   "metadata": {},
   "outputs": [
    {
     "name": "stdout",
     "output_type": "stream",
     "text": [
      "+--------+----------------+-------------------+\n",
      "|item_num|Item Description|Category Name Clean|\n",
      "+--------+----------------+-------------------+\n",
      "|11296   |Crown Royal     |Canadian Whiskey   |\n",
      "+--------+----------------+-------------------+\n",
      "\n"
     ]
    }
   ],
   "source": [
    "df.filter(df.item_num=='11296').select(\"item_num\", 'Item Description','Category Name Clean').dropDuplicates().show(truncate = False)"
   ]
  },
  {
   "cell_type": "code",
   "execution_count": 88,
   "metadata": {
    "scrolled": true
   },
   "outputs": [
    {
     "name": "stdout",
     "output_type": "stream",
     "text": [
      "+-----------+---------------------------------------+-------------------+------------+\n",
      "|store_num_b|Name                                   |Address            |City        |\n",
      "+-----------+---------------------------------------+-------------------+------------+\n",
      "|4621       |Casey's General Store #23 / Maxwell    |100, Main St       |Maxwell     |\n",
      "|4678       |Fareway Stores #124 / Adel             |804 Nile Kinnick Dr|Adel        |\n",
      "|4457       |Kum & Go #422 / Iowa City              |731 S Riverside Dr |Iowa City   |\n",
      "|4779       |Casey's General Store #3782 / Mount Ayr|1305 E SOUTH STREET|Mount Ayr   |\n",
      "|4873       |Casey's General Store #2559 / Granger  |1802, Sycamore St  |Granger     |\n",
      "|5061       |Casey's General Store #3382 / Cedar    |560, 33rd Ave SW   |Cedar Rapids|\n",
      "|4767       |Casey's General Store #3075 / Ankeny   |6981 NE 14th St    |Ankeny      |\n",
      "|5382       |Casey's General Store # 2870/ Altoona  |1419 1st Ave N     |Altoona     |\n",
      "|5357       |Gameday Liquor/ Orange City            |632 8th St. SE     |Orange City |\n",
      "|4140       |Fareway Stores #900 / Euclid           |100 Euclid Ave     |Des Moines  |\n",
      "+-----------+---------------------------------------+-------------------+------------+\n",
      "\n"
     ]
    }
   ],
   "source": [
    "liquor_store_clean.filter(liquor_store_clean[\"store_num_b\"].isin(rec_store_top10_item_cv_imp['11296'])).select(\"store_num_b\", \n",
    "                        \"Name\", \"Address\",\"City\").show(truncate = False)"
   ]
  },
  {
   "cell_type": "code",
   "execution_count": 91,
   "metadata": {},
   "outputs": [
    {
     "name": "stdout",
     "output_type": "stream",
     "text": [
      "+--------+-------------------------------------+-------------------+\n",
      "|item_num|Item Description                     |Category Name Clean|\n",
      "+--------+-------------------------------------+-------------------+\n",
      "|1799    |Captain Morgan Original Spiced Barrel|Spiced Rum         |\n",
      "|1799    |Captain Morgan Spiced Barrel         |Spiced Rum         |\n",
      "+--------+-------------------------------------+-------------------+\n",
      "\n"
     ]
    }
   ],
   "source": [
    "df.filter(df.item_num=='1799').select(\"item_num\", 'Item Description','Category Name Clean').dropDuplicates().show(truncate = False)"
   ]
  },
  {
   "cell_type": "code",
   "execution_count": 92,
   "metadata": {
    "scrolled": true
   },
   "outputs": [
    {
     "name": "stdout",
     "output_type": "stream",
     "text": [
      "+-----------+--------------------------------------------+-----------------------+---------------+\n",
      "|store_num_b|Name                                        |Address                |City           |\n",
      "+-----------+--------------------------------------------+-----------------------+---------------+\n",
      "|2556       |Hy-Vee Wine and Spirits / Estherville       |1033 Central Avenue    |Estherville    |\n",
      "|3731       |Wal-Mart 1241 / Davenport                   |5811 Elmore Ave        |Davenport      |\n",
      "|3899       |Wal-Mart 3762 / WDM                         |6365 Stagecoach Dr     |West Des Moines|\n",
      "|3645       |Wal-Mart 1764 / Windsor Heights             |1001  73rd St          |Windsor Heights|\n",
      "|4516       |Casey's General Store #1569 / Oakland       |205 Brown St           |Oakland        |\n",
      "|3628       |Wal-Mart 1528 / Cedar Rapids                |2645 Blairs Ferry Rd NE|Cedar Rapids   |\n",
      "|4521       |Casey's General Store #1002 / Grand Junction|504 16th St N          |Grand Junction |\n",
      "|3644       |Wal-Mart 2764 / Altoona                     |3501  8th St SW        |Altoona        |\n",
      "|3696       |Wal-Mart 1723 / Des Moines                  |5101 SE 14th St        |Des Moines     |\n",
      "|3719       |Wal-Mart 0581 / Marshalltown                |2802 S Center St       |Marshalltown   |\n",
      "+-----------+--------------------------------------------+-----------------------+---------------+\n",
      "\n"
     ]
    }
   ],
   "source": [
    "liquor_store_clean.filter(liquor_store_clean[\"store_num_b\"].isin(rec_store_top10_item_cv_imp['1799'])).select(\"store_num_b\", \n",
    "                        \"Name\", \"Address\",\"City\").show(truncate = False)"
   ]
  },
  {
   "cell_type": "code",
   "execution_count": null,
   "metadata": {},
   "outputs": [],
   "source": []
  },
  {
   "cell_type": "code",
   "execution_count": null,
   "metadata": {},
   "outputs": [],
   "source": []
  }
 ],
 "metadata": {
  "kernelspec": {
   "display_name": "Python 3",
   "language": "python",
   "name": "python3"
  },
  "language_info": {
   "codemirror_mode": {
    "name": "ipython",
    "version": 3
   },
   "file_extension": ".py",
   "mimetype": "text/x-python",
   "name": "python",
   "nbconvert_exporter": "python",
   "pygments_lexer": "ipython3",
   "version": "3.7.4"
  }
 },
 "nbformat": 4,
 "nbformat_minor": 2
}
